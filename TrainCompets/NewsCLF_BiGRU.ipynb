{
 "cells": [
  {
   "cell_type": "code",
   "execution_count": 1,
   "metadata": {},
   "outputs": [],
   "source": [
    "import numpy as np\n",
    "import csv\n",
    "import matplotlib.pyplot as plt\n",
    "import pickle\n",
    "import random\n",
    "import scipy\n",
    "from collections import OrderedDict\n",
    "from sklearn.metrics import f1_score, roc_auc_score"
   ]
  },
  {
   "cell_type": "code",
   "execution_count": 2,
   "metadata": {},
   "outputs": [],
   "source": [
    "DATASETS_PATH = './data/'\n",
    "MODELS_PATH = './models/'\n",
    "TRAIN_SIZE = 0.9"
   ]
  },
  {
   "cell_type": "code",
   "execution_count": 3,
   "metadata": {},
   "outputs": [],
   "source": [
    "def init_random_seed(seed=42):\n",
    "    np.random.seed(seed)\n",
    "    random.seed(seed)\n",
    "init_random_seed()"
   ]
  },
  {
   "attachments": {},
   "cell_type": "markdown",
   "metadata": {},
   "source": [
    "# Exploratory analysis\n",
    "By the first glance, fake news mostly associated with politics, political sedition, contains a lot of entities related to organizations or well-known (often political) persons. (Neural Meduza, is that you?)"
   ]
  },
  {
   "cell_type": "code",
   "execution_count": 4,
   "metadata": {},
   "outputs": [],
   "source": [
    "with open(DATASETS_PATH + 'train.csv', 'r', encoding='utf-8') as fstream:\n",
    "    freader = csv.reader(fstream, delimiter='\\t')\n",
    "    next(freader)\n",
    "    general_docs = []\n",
    "    general_labels = []\n",
    "    for obs in freader:\n",
    "        general_docs.append(obs[0])\n",
    "        general_labels.append(int(obs[1]))"
   ]
  },
  {
   "cell_type": "code",
   "execution_count": 5,
   "metadata": {},
   "outputs": [],
   "source": [
    "with open(DATASETS_PATH + 'test.csv', 'r', encoding='utf-8') as fstream:\n",
    "    freader = csv.reader(fstream, delimiter='\\t')\n",
    "    next(freader)\n",
    "    test_docs = []\n",
    "    test_labels = []\n",
    "    for obs in freader:\n",
    "        test_docs.append(obs[0])\n",
    "        test_labels.append(int(obs[1]))"
   ]
  },
  {
   "cell_type": "code",
   "execution_count": 6,
   "metadata": {},
   "outputs": [
    {
     "data": {
      "text/plain": [
       "(['Москвичу Владимиру Клутину пришёл счёт за вмешательство в американские выборы',\n",
       "  'Агент Кокорина назвал езду по встречке житейской историей',\n",
       "  'Госдума рассмотрит возможность введения секретных статей Уголовного кодекса'],\n",
       " [1, 0, 1])"
      ]
     },
     "execution_count": 6,
     "metadata": {},
     "output_type": "execute_result"
    }
   ],
   "source": [
    "general_docs[:3], general_labels[:3]"
   ]
  },
  {
   "cell_type": "code",
   "execution_count": 7,
   "metadata": {},
   "outputs": [
    {
     "data": {
      "text/plain": [
       "(5758, 1000)"
      ]
     },
     "execution_count": 7,
     "metadata": {},
     "output_type": "execute_result"
    }
   ],
   "source": [
    "len(general_docs), len(test_docs)"
   ]
  },
  {
   "cell_type": "code",
   "execution_count": 8,
   "metadata": {},
   "outputs": [],
   "source": [
    "general_labels = np.array(general_labels)\n",
    "label_counts = np.unique(general_labels, return_counts=True)"
   ]
  },
  {
   "cell_type": "code",
   "execution_count": 9,
   "metadata": {},
   "outputs": [
    {
     "data": {
      "image/png": "[encoded data removed]",
      "text/plain": [
       "<Figure size 504x504 with 1 Axes>"
      ]
     },
     "metadata": {},
     "output_type": "display_data"
    }
   ],
   "source": [
    "plt.figure(figsize=(7, 7))\n",
    "plt.pie(label_counts[1], labels=label_counts[1], autopct='%1.1f%%');"
   ]
  },
  {
   "attachments": {},
   "cell_type": "markdown",
   "metadata": {},
   "source": [
    "## Quick thoughts:\n",
    "* Small dataset;\n",
    "* Balanced labels, so **accuracy** metric remains representative enough;\n",
    "* Short sequences. "
   ]
  },
  {
   "cell_type": "markdown",
   "metadata": {},
   "source": [
    "## Train/Eval split"
   ]
  },
  {
   "cell_type": "code",
   "execution_count": 10,
   "metadata": {},
   "outputs": [],
   "source": [
    "init_random_seed(0)\n",
    "random.shuffle(general_docs)\n",
    "init_random_seed(0)\n",
    "random.shuffle(general_labels)\n",
    "TRAIN_ABS_SIZE = int(len(general_docs) * TRAIN_SIZE)\n",
    "\n",
    "train_texts = general_docs[:TRAIN_ABS_SIZE]\n",
    "eval_texts = general_docs[TRAIN_ABS_SIZE:]\n",
    "train_labels = general_labels[:TRAIN_ABS_SIZE]\n",
    "eval_labels = general_labels[TRAIN_ABS_SIZE:]"
   ]
  },
  {
   "attachments": {},
   "cell_type": "markdown",
   "metadata": {},
   "source": [
    "# Classification with BOW \n",
    "1. Lemmatization to reduce vocabulary - baseline-model is simple enough, so lemmatizing won't cause any large information losses.\n",
    "2. Filtering + Vectorization\n",
    "3. Classification"
   ]
  },
  {
   "cell_type": "code",
   "execution_count": 11,
   "metadata": {},
   "outputs": [
    {
     "name": "stderr",
     "output_type": "stream",
     "text": [
      "[nltk_data] Downloading package stopwords to\n",
      "[nltk_data]     C:\\Users\\Uer\\AppData\\Roaming\\nltk_data...\n",
      "[nltk_data]   Package stopwords is already up-to-date!\n"
     ]
    },
    {
     "data": {
      "text/plain": [
       "True"
      ]
     },
     "execution_count": 11,
     "metadata": {},
     "output_type": "execute_result"
    }
   ],
   "source": [
    "from nltk import word_tokenize\n",
    "from sklearn.feature_extraction.text import TfidfVectorizer\n",
    "from sklearn import svm\n",
    "import pymorphy2\n",
    "import nltk\n",
    "from nltk.corpus import stopwords\n",
    "\n",
    "nltk.download('stopwords')"
   ]
  },
  {
   "attachments": {},
   "cell_type": "markdown",
   "metadata": {},
   "source": [
    "Text normalization - lemmatizing vs stemming.\n",
    "\n",
    "1. Russian is the language with high word-inflection, so stemming might be too harsh procedure, even tho quick enough.\n",
    "2. Dataset is quite small and sequences are short, so lemmatizing won't take long to produce, and will greatly optimize vocabulary size.\n",
    "\n",
    "It is proposed to use the same lemmatizer as been used in spacy lib."
   ]
  },
  {
   "cell_type": "markdown",
   "metadata": {},
   "source": [
    "## Text preprocess"
   ]
  },
  {
   "cell_type": "code",
   "execution_count": 12,
   "metadata": {},
   "outputs": [],
   "source": [
    "pymorphy = pymorphy2.MorphAnalyzer()"
   ]
  },
  {
   "cell_type": "code",
   "execution_count": 13,
   "metadata": {},
   "outputs": [],
   "source": [
    "def word_normalizer(word):\n",
    "    return pymorphy.parse(word)[0].normal_form"
   ]
  },
  {
   "cell_type": "code",
   "execution_count": 14,
   "metadata": {},
   "outputs": [],
   "source": [
    "class Tokenizer(object):\n",
    "    def __init__(self, stopwords=None) -> None:\n",
    "        self.word_normalizer = word_normalizer\n",
    "        self.stopwords = set(stopwords)\n",
    "    \n",
    "    def remove_stopwords(self, document, min_len=4):\n",
    "\n",
    "        if self.stopwords is None:\n",
    "            return document        \n",
    "        document = [token\n",
    "                for token in document\n",
    "                if token not in self.stopwords and len(token) >= min_len]\n",
    "        return document    \n",
    "\n",
    "    def __call__(self, document):\n",
    "\n",
    "        tokenized_document = word_tokenize(document)\n",
    "        tokenized_document = self.remove_stopwords(tokenized_document)\n",
    "        \n",
    "        return [self.word_normalizer(token) for token in tokenized_document]"
   ]
  },
  {
   "cell_type": "code",
   "execution_count": 15,
   "metadata": {},
   "outputs": [],
   "source": [
    "tokenizer = Tokenizer(stopwords.words('russian'))"
   ]
  },
  {
   "cell_type": "code",
   "execution_count": 16,
   "metadata": {},
   "outputs": [
    {
     "name": "stdout",
     "output_type": "stream",
     "text": [
      "Кудрин призвал перевести Россию на ветроэнергетику прямо сейчас\n",
      "['кудрин', 'призвать', 'перевести', 'россия', 'ветроэнергетика', 'прямо']\n"
     ]
    }
   ],
   "source": [
    "print(train_texts[0])\n",
    "print(tokenizer(train_texts[0]))"
   ]
  },
  {
   "cell_type": "code",
   "execution_count": 17,
   "metadata": {},
   "outputs": [],
   "source": [
    "train_tokenized = [tokenizer(doc) for doc in train_texts]\n",
    "eval_tokenized = [tokenizer(doc) for doc in eval_texts]"
   ]
  },
  {
   "cell_type": "code",
   "execution_count": 18,
   "metadata": {},
   "outputs": [
    {
     "data": {
      "text/plain": [
       "(5182, 576)"
      ]
     },
     "execution_count": 18,
     "metadata": {},
     "output_type": "execute_result"
    }
   ],
   "source": [
    "len(train_tokenized), len(eval_tokenized)"
   ]
  },
  {
   "cell_type": "code",
   "execution_count": 19,
   "metadata": {},
   "outputs": [
    {
     "data": {
      "text/plain": [
       "((5182, 10068), (576, 10068))"
      ]
     },
     "execution_count": 19,
     "metadata": {},
     "output_type": "execute_result"
    }
   ],
   "source": [
    "pseudo_tokenizer = lambda x: x\n",
    "vectorizer = TfidfVectorizer(\n",
    "    tokenizer=pseudo_tokenizer,\n",
    "    lowercase=False,\n",
    "    max_df=0.7\n",
    "    )\n",
    "    \n",
    "X_train = vectorizer.fit_transform(train_tokenized)\n",
    "X_eval = vectorizer.transform(eval_tokenized)\n",
    "X_train.shape, X_eval.shape"
   ]
  },
  {
   "attachments": {},
   "cell_type": "markdown",
   "metadata": {},
   "source": [
    "## SVM Model\n",
    "\n",
    "Motivation behind SVM:\n",
    "1. Binary classification\n",
    "2. TF-IDF contains large amount of sparse features"
   ]
  },
  {
   "cell_type": "code",
   "execution_count": 20,
   "metadata": {},
   "outputs": [],
   "source": [
    "def train_eval_sklearn_clf(clf, X_train, y_train, X_eval, y_eval):\n",
    "    clf.fit(X_train, y_train)\n",
    "\n",
    "    train_preds = clf.predict(X_train)\n",
    "    eval_preds = clf.predict(X_eval)\n",
    "\n",
    "    train_accuracy = (train_preds == np.array(y_train)).mean()\n",
    "    eval_accuracy = (eval_preds == np.array(y_eval)).mean()\n",
    "    print('Train accuracy:', train_accuracy)\n",
    "    print('Eval accuracy:', eval_accuracy)\n",
    "    print('Train f1_score:', f1_score(y_eval, eval_preds))\n",
    "    print('Eval f1_score:', f1_score(y_eval, eval_preds))\n",
    "    print('Train auc:', roc_auc_score(y_eval, eval_preds))\n",
    "    print('Eval auc:', roc_auc_score(y_eval, eval_preds))"
   ]
  },
  {
   "cell_type": "code",
   "execution_count": 21,
   "metadata": {},
   "outputs": [],
   "source": [
    "from sklearn.model_selection import cross_val_score"
   ]
  },
  {
   "cell_type": "code",
   "execution_count": 22,
   "metadata": {},
   "outputs": [],
   "source": [
    "svm_clf = svm.SVC()"
   ]
  },
  {
   "cell_type": "code",
   "execution_count": 24,
   "metadata": {},
   "outputs": [
    {
     "data": {
      "text/plain": [
       "array([0.81318681, 0.84332689, 0.82457879, 0.84179104, 0.82514735])"
      ]
     },
     "execution_count": 24,
     "metadata": {},
     "output_type": "execute_result"
    }
   ],
   "source": [
    "cross_val_score(svm_clf, X_train, train_labels, scoring='f1')"
   ]
  },
  {
   "cell_type": "code",
   "execution_count": 25,
   "metadata": {},
   "outputs": [
    {
     "name": "stdout",
     "output_type": "stream",
     "text": [
      "Train accuracy: 0.9984561945194905\n",
      "Eval accuracy: 0.8315972222222222\n",
      "Train f1_score: 0.8318890814558058\n",
      "Eval f1_score: 0.8318890814558058\n",
      "Train auc: 0.8316252712804436\n",
      "Eval auc: 0.8316252712804436\n"
     ]
    }
   ],
   "source": [
    "svm_clf = svm.SVC()\n",
    "train_eval_sklearn_clf(svm_clf, X_train, train_labels, X_eval, eval_labels)"
   ]
  },
  {
   "attachments": {},
   "cell_type": "markdown",
   "metadata": {},
   "source": [
    "# w2v + BiGRU\n",
    "\n",
    "<p>Possibility to use embeddings that are pre-trained on a much larger dataset, gives the W2V method an advantage due to transfer learning, in compare to BOW.</p>\n",
    "\n",
    "Optimal utilization of W2V embeddings may be brought by a **light** and **bidirectional** RNN due to:\n",
    "1. Sequences are short enough, so there is no need in Long Short-Term memory\n",
    "2. Russian language is quite free regarding the word order."
   ]
  },
  {
   "cell_type": "code",
   "execution_count": 11,
   "metadata": {},
   "outputs": [],
   "source": [
    "import torch\n",
    "from torch.utils.data import Dataset, DataLoader\n",
    "from gensim.corpora import Dictionary\n",
    "from nltk.tokenize import RegexpTokenizer\n",
    "\n",
    "\n",
    "import zipfile\n",
    "import gensim\n",
    "import wget"
   ]
  },
  {
   "cell_type": "code",
   "execution_count": 36,
   "metadata": {},
   "outputs": [],
   "source": [
    "PRETRAINED_WEIGTHS_NAME = 'gru_fakenews_clf.pt'\n",
    "MAX_EPOCH = 10\n",
    "BATCH_SIZE = 128\n",
    "PAD_TOKEN = '<PAD>'\n",
    "BOS_TOKEN = '<BOS>'\n",
    "EOS_TOKEN = '<EOS>'\n",
    "UNK_TOKEN = '<UNK>'\n",
    "SPECIAL_TOKENS = [PAD_TOKEN, BOS_TOKEN, EOS_TOKEN, UNK_TOKEN]\n",
    "special_tokens_map = dict(zip(SPECIAL_TOKENS, [i for i in range(len(SPECIAL_TOKENS))]))"
   ]
  },
  {
   "cell_type": "code",
   "execution_count": 13,
   "metadata": {},
   "outputs": [],
   "source": [
    "def init_random_seed(value=0):\n",
    "    random.seed(value)\n",
    "    np.random.seed(value)\n",
    "    torch.manual_seed(value)\n",
    "    torch.cuda.manual_seed(value)\n",
    "    torch.backends.cudnn.deterministic = True\n",
    "init_random_seed()"
   ]
  },
  {
   "attachments": {},
   "cell_type": "markdown",
   "metadata": {},
   "source": [
    "## Data preprocess"
   ]
  },
  {
   "cell_type": "code",
   "execution_count": 14,
   "metadata": {},
   "outputs": [],
   "source": [
    "\n",
    "word_tokenizer = RegexpTokenizer('\\w+|\\$[\\d\\.]+|\\S+')\n",
    "train_tokenized = [word_tokenizer.tokenize(doc.lower()) for doc in train_texts]\n",
    "eval_tokenized = [word_tokenizer.tokenize(doc.lower()) for doc in eval_texts]"
   ]
  },
  {
   "cell_type": "code",
   "execution_count": 15,
   "metadata": {},
   "outputs": [],
   "source": [
    "vocabulary = Dictionary(train_tokenized)\n",
    "vocabulary.filter_extremes(no_above=0.7, no_below=2)\n",
    "vocabulary.patch_with_special_tokens(special_tokens_map)\n",
    "VOCABULARY_SIZE = len(vocabulary)\n",
    "EMBEDDING_DIM = 300"
   ]
  },
  {
   "cell_type": "code",
   "execution_count": 16,
   "metadata": {},
   "outputs": [],
   "source": [
    "numpy_embeddings = np.zeros(shape=[VOCABULARY_SIZE, EMBEDDING_DIM],dtype=np.float32)"
   ]
  },
  {
   "cell_type": "code",
   "execution_count": 17,
   "metadata": {},
   "outputs": [],
   "source": [
    "# If there is no pre-trained weights for model, load fastText embeddings\n",
    "if PRETRAINED_WEIGTHS_NAME is None:\n",
    "    model_url = 'http://vectors.nlpl.eu/repository/11/187.zip'\n",
    "    # wget.download(model_url)\n",
    "    w2v_model = gensim.models.KeyedVectors.load(MODELS_PATH + '/187/model.model')\n",
    "    for word in vocabulary.token2id.keys():\n",
    "        if word in w2v_model:\n",
    "            word_emb = w2v_model[word]\n",
    "            word_idx = vocabulary.token2id[word]\n",
    "            numpy_embeddings[word_idx] = word_emb"
   ]
  },
  {
   "cell_type": "code",
   "execution_count": 18,
   "metadata": {},
   "outputs": [
    {
     "data": {
      "text/plain": [
       "(5787, 300)"
      ]
     },
     "execution_count": 18,
     "metadata": {},
     "output_type": "execute_result"
    }
   ],
   "source": [
    "numpy_embeddings.shape"
   ]
  },
  {
   "cell_type": "code",
   "execution_count": 19,
   "metadata": {},
   "outputs": [],
   "source": [
    "train_encoded = [vocabulary.doc2idx(doc, unknown_word_index=special_tokens_map[UNK_TOKEN]) for doc in train_tokenized]\n",
    "eval_encoded = [vocabulary.doc2idx(doc, unknown_word_index=special_tokens_map[UNK_TOKEN]) for doc in eval_tokenized]"
   ]
  },
  {
   "attachments": {},
   "cell_type": "markdown",
   "metadata": {},
   "source": [
    "## Dataset building"
   ]
  },
  {
   "cell_type": "code",
   "execution_count": 20,
   "metadata": {},
   "outputs": [],
   "source": [
    "class SequenceDataset(Dataset):\n",
    "    def __init__(self, features, targets):\n",
    "        self.features = features\n",
    "        self.targets = targets\n",
    "    \n",
    "    def __len__(self):\n",
    "        return len(self.features)\n",
    "    \n",
    "    def __getitem__(self, idx):\n",
    "        features = torch.LongTensor([special_tokens_map[BOS_TOKEN]] + self.features[idx] + [special_tokens_map[EOS_TOKEN]])\n",
    "        targets = torch.FloatTensor([self.targets[idx]])\n",
    "        return (features, targets)"
   ]
  },
  {
   "cell_type": "code",
   "execution_count": 21,
   "metadata": {},
   "outputs": [],
   "source": [
    "def custom_collate(data):\n",
    "    features, labels = zip(*data)\n",
    "    seq_lens = [len(seq) for seq in features]\n",
    "    features = torch.nn.utils.rnn.pad_sequence(features, batch_first=True, padding_value=special_tokens_map[PAD_TOKEN])\n",
    "    labels = torch.cat(labels)\n",
    "    return {'input_ids': features, 'lengths': seq_lens, 'labels': labels} "
   ]
  },
  {
   "cell_type": "code",
   "execution_count": 22,
   "metadata": {},
   "outputs": [],
   "source": [
    "train_dataset = SequenceDataset(train_encoded, train_labels)\n",
    "eval_dataset = SequenceDataset(eval_encoded, eval_labels)"
   ]
  },
  {
   "cell_type": "code",
   "execution_count": 23,
   "metadata": {},
   "outputs": [],
   "source": [
    "train_dataloader = DataLoader(train_dataset, BATCH_SIZE, shuffle=True, collate_fn=custom_collate)\n",
    "eval_dataloader = DataLoader(eval_dataset, BATCH_SIZE, shuffle=True, collate_fn=custom_collate)"
   ]
  },
  {
   "cell_type": "code",
   "execution_count": 24,
   "metadata": {},
   "outputs": [
    {
     "data": {
      "text/plain": [
       "{'input_ids': tensor([[   1, 5784,    3,  ...,    0,    0,    0],\n",
       "         [   1, 3739,    3,  ...,    0,    0,    0],\n",
       "         [   1,   47,    3,  ...,    0,    0,    0],\n",
       "         ...,\n",
       "         [   1, 1535,    3,  ...,    0,    0,    0],\n",
       "         [   1, 2686, 2689,  ...,    0,    0,    0],\n",
       "         [   1,  168,    3,  ...,    0,    0,    0]]),\n",
       " 'lengths': [12,\n",
       "  9,\n",
       "  8,\n",
       "  12,\n",
       "  7,\n",
       "  13,\n",
       "  8,\n",
       "  11,\n",
       "  12,\n",
       "  19,\n",
       "  8,\n",
       "  8,\n",
       "  8,\n",
       "  6,\n",
       "  13,\n",
       "  8,\n",
       "  10,\n",
       "  10,\n",
       "  11,\n",
       "  10,\n",
       "  10,\n",
       "  8,\n",
       "  10,\n",
       "  17,\n",
       "  22,\n",
       "  16,\n",
       "  10,\n",
       "  11,\n",
       "  12,\n",
       "  6,\n",
       "  8,\n",
       "  9,\n",
       "  7,\n",
       "  10,\n",
       "  10,\n",
       "  8,\n",
       "  12,\n",
       "  19,\n",
       "  9,\n",
       "  8,\n",
       "  8,\n",
       "  10,\n",
       "  11,\n",
       "  10,\n",
       "  12,\n",
       "  13,\n",
       "  12,\n",
       "  11,\n",
       "  11,\n",
       "  9,\n",
       "  10,\n",
       "  8,\n",
       "  8,\n",
       "  13,\n",
       "  9,\n",
       "  9,\n",
       "  9,\n",
       "  13,\n",
       "  15,\n",
       "  15,\n",
       "  14,\n",
       "  8,\n",
       "  14,\n",
       "  11,\n",
       "  7,\n",
       "  13,\n",
       "  12,\n",
       "  23,\n",
       "  14,\n",
       "  7,\n",
       "  11,\n",
       "  12,\n",
       "  11,\n",
       "  9,\n",
       "  7,\n",
       "  11,\n",
       "  10,\n",
       "  11,\n",
       "  15,\n",
       "  13,\n",
       "  12,\n",
       "  9,\n",
       "  10,\n",
       "  8,\n",
       "  7,\n",
       "  9,\n",
       "  12,\n",
       "  16,\n",
       "  10,\n",
       "  11,\n",
       "  10,\n",
       "  11,\n",
       "  16,\n",
       "  8,\n",
       "  9,\n",
       "  14,\n",
       "  9,\n",
       "  31,\n",
       "  10,\n",
       "  13,\n",
       "  10,\n",
       "  6,\n",
       "  10,\n",
       "  8,\n",
       "  17,\n",
       "  15,\n",
       "  13,\n",
       "  11,\n",
       "  11,\n",
       "  14,\n",
       "  8,\n",
       "  9,\n",
       "  8,\n",
       "  19,\n",
       "  12,\n",
       "  8,\n",
       "  14,\n",
       "  13,\n",
       "  14,\n",
       "  11,\n",
       "  12,\n",
       "  14,\n",
       "  9,\n",
       "  11,\n",
       "  8,\n",
       "  10,\n",
       "  13,\n",
       "  17],\n",
       " 'labels': tensor([1., 0., 0., 0., 0., 1., 0., 1., 0., 1., 1., 0., 0., 0., 1., 0., 0., 0.,\n",
       "         1., 0., 0., 0., 0., 1., 1., 1., 0., 0., 1., 0., 0., 0., 1., 0., 0., 1.,\n",
       "         1., 1., 0., 0., 1., 0., 0., 1., 0., 1., 1., 1., 0., 1., 0., 1., 0., 1.,\n",
       "         1., 0., 0., 0., 1., 1., 0., 1., 1., 1., 1., 0., 0., 1., 1., 1., 0., 0.,\n",
       "         1., 0., 0., 0., 0., 0., 1., 1., 1., 0., 0., 0., 1., 0., 0., 1., 1., 1.,\n",
       "         0., 1., 1., 1., 1., 0., 0., 1., 1., 1., 0., 0., 1., 0., 1., 1., 1., 0.,\n",
       "         1., 1., 0., 1., 0., 1., 1., 0., 1., 1., 1., 1., 1., 1., 1., 1., 0., 1.,\n",
       "         1., 1.])}"
      ]
     },
     "execution_count": 24,
     "metadata": {},
     "output_type": "execute_result"
    }
   ],
   "source": [
    "next(iter(train_dataloader))"
   ]
  },
  {
   "cell_type": "code",
   "execution_count": 25,
   "metadata": {},
   "outputs": [],
   "source": [
    "class Contextualizer(torch.nn.Module):\n",
    "    def __init__(self, vocabulary_size, targets_size, embedding_size, hidden_state_size, embeddings, dropout=0.1, device='cuda') -> None:\n",
    "        super().__init__()\n",
    "        self.device = device\n",
    "        self.embeddings = torch.nn.Embedding.from_pretrained(torch.FloatTensor(embeddings), freeze=True)\n",
    "        self.embedding_dropout = torch.nn.Dropout(dropout)\n",
    "        self.backbone = torch.nn.GRU(embedding_size, hidden_state_size, batch_first=True, bidirectional=True)\n",
    "        self.out_linear = torch.nn.Linear(2*hidden_state_size, 1)\n",
    "        \n",
    "\n",
    "    def forward(self, padded_inp, lengths):\n",
    "        batch_size, seq_len = padded_inp.shape\n",
    "        \n",
    "        inp_embs = self.embeddings(padded_inp)\n",
    "        inp_embs = self.embedding_dropout(inp_embs)\n",
    "\n",
    "        packed_padded_inp = torch.nn.utils.rnn.pack_padded_sequence(inp_embs, lengths, batch_first=True, enforce_sorted=False)\n",
    "        packed_h_matrices, last_h_state = self.backbone(packed_padded_inp)\n",
    "\n",
    "        h_matrices, _ = torch.nn.utils.rnn.pad_packed_sequence(packed_h_matrices, batch_first=True)\n",
    "\n",
    "        last_h_state = torch.cat([last_h_state[0], last_h_state[1]], -1)        \n",
    "        h_proj = self.out_linear(last_h_state)\n",
    "        return h_proj"
   ]
  },
  {
   "attachments": {},
   "cell_type": "markdown",
   "metadata": {},
   "source": [
    "## Model initialization"
   ]
  },
  {
   "cell_type": "code",
   "execution_count": 26,
   "metadata": {},
   "outputs": [],
   "source": [
    "init_random_seed()\n",
    "model = Contextualizer(VOCABULARY_SIZE, 1, embedding_size=EMBEDDING_DIM, hidden_state_size=2*EMBEDDING_DIM, embeddings=numpy_embeddings, dropout=0.2).to('cuda')"
   ]
  },
  {
   "cell_type": "code",
   "execution_count": 27,
   "metadata": {},
   "outputs": [],
   "source": [
    "if PRETRAINED_WEIGTHS_NAME is not None:\n",
    "    model.load_state_dict(torch.load(MODELS_PATH + PRETRAINED_WEIGTHS_NAME))"
   ]
  },
  {
   "cell_type": "code",
   "execution_count": 28,
   "metadata": {},
   "outputs": [
    {
     "data": {
      "text/plain": [
       "4984501"
      ]
     },
     "execution_count": 28,
     "metadata": {},
     "output_type": "execute_result"
    }
   ],
   "source": [
    "from functools import reduce\n",
    "sum(reduce(lambda x, y: x*y,  par.shape) for par in model.parameters())"
   ]
  },
  {
   "cell_type": "code",
   "execution_count": 29,
   "metadata": {},
   "outputs": [],
   "source": [
    "loss_fn = torch.nn.BCEWithLogitsLoss()\n",
    "optimizer = torch.optim.AdamW(model.parameters(), lr=5e-4)\n",
    "lr_scheduler = torch.optim.lr_scheduler.ReduceLROnPlateau(optimizer, patience=2, verbose=True)"
   ]
  },
  {
   "attachments": {},
   "cell_type": "markdown",
   "metadata": {},
   "source": [
    "## GRU Train/Eval stage"
   ]
  },
  {
   "cell_type": "code",
   "execution_count": 30,
   "metadata": {},
   "outputs": [
    {
     "name": "stdout",
     "output_type": "stream",
     "text": [
      "Epoch Number: 1 \t| epoch train loss: 0.4947 \t| epoch eval loss:  0.339 \t| train_accuracy: 0.76 \t| eval_accuracy: 0.82\n",
      "Epoch Number: 2 \t| epoch train loss: 0.3369 \t| epoch eval loss: 0.3182 \t| train_accuracy: 0.85 \t| eval_accuracy: 0.85\n",
      "Epoch Number: 3 \t| epoch train loss:  0.281 \t| epoch eval loss: 0.2925 \t| train_accuracy: 0.88 \t| eval_accuracy: 0.87\n",
      "Epoch Number: 4 \t| epoch train loss: 0.2482 \t| epoch eval loss:  0.311 \t| train_accuracy: 0.9 \t| eval_accuracy: 0.85\n",
      "Epoch Number: 5 \t| epoch train loss: 0.2001 \t| epoch eval loss: 0.3474 \t| train_accuracy: 0.92 \t| eval_accuracy: 0.85\n",
      "Epoch 00006: reducing learning rate of group 0 to 5.0000e-05.\n",
      "Epoch Number: 6 \t| epoch train loss: 0.1657 \t| epoch eval loss: 0.4213 \t| train_accuracy: 0.94 \t| eval_accuracy: 0.85\n",
      "Epoch Number: 7 \t| epoch train loss: 0.1181 \t| epoch eval loss: 0.3263 \t| train_accuracy: 0.96 \t| eval_accuracy: 0.87\n",
      "Epoch Number: 8 \t| epoch train loss: 0.09428 \t| epoch eval loss:  0.359 \t| train_accuracy: 0.97 \t| eval_accuracy: 0.87\n",
      "Epoch 00009: reducing learning rate of group 0 to 5.0000e-06.\n",
      "Epoch Number: 9 \t| epoch train loss: 0.08436 \t| epoch eval loss: 0.3542 \t| train_accuracy: 0.97 \t| eval_accuracy: 0.87\n",
      "Epoch Number: 10 \t| epoch train loss: 0.07783 \t| epoch eval loss: 0.3678 \t| train_accuracy: 0.98 \t| eval_accuracy: 0.87\n"
     ]
    }
   ],
   "source": [
    "assert PRETRAINED_WEIGTHS_NAME is None, 'Model training is not intended, skip this cell'\n",
    "train_loss_log = []\n",
    "eval_loss_log = []\n",
    "for epoch_id in range(MAX_EPOCH):\n",
    "    epoch_loss = 0\n",
    "    train_predicted_labels = []\n",
    "    train_target_labels = []\n",
    "    model.train()\n",
    "    for batch_idx, batch in enumerate(train_dataloader):\n",
    "        optimizer.zero_grad()\n",
    "        inp_ids = batch['input_ids'].to(model.device)\n",
    "        lens = batch['lengths']\n",
    "        labels = batch['labels'].to(model.device)\n",
    "        out_logits = model(inp_ids, lens)\n",
    "        loss = loss_fn(out_logits.flatten(), labels)\n",
    "        loss.backward()\n",
    "        optimizer.step()\n",
    "        epoch_loss += loss.item()\n",
    "        \n",
    "        \n",
    "        train_predicted_labels += (torch.sigmoid(out_logits.flatten()) > 0.5).float().tolist()\n",
    "        train_target_labels += labels.tolist()\n",
    "    train_loss_log.append(epoch_loss/(batch_idx + 1))\n",
    "    \n",
    "    epoch_loss = 0\n",
    "    model.eval()\n",
    "    eval_predicted_labels = []\n",
    "    eval_target_labels = []\n",
    "    with torch.no_grad():\n",
    "        for batch_idx, batch in enumerate(eval_dataloader):\n",
    "            inp_ids = batch['input_ids'].to(model.device)\n",
    "            lens = batch['lengths']\n",
    "            labels = batch['labels'].to(model.device)\n",
    "            out_logits = model(inp_ids, lens)\n",
    "            loss = loss_fn(out_logits.flatten(), labels)\n",
    "            epoch_loss += loss.item()\n",
    "\n",
    "            eval_predicted_labels += (torch.sigmoid(out_logits.flatten()) > 0.5).float().tolist()\n",
    "            eval_target_labels += labels.tolist()\n",
    "        eval_loss_log.append(epoch_loss/(batch_idx + 1))\n",
    "        lr_scheduler.step(eval_loss_log[-1])\n",
    "\n",
    "    print(\"Epoch Number: {} \\t| epoch train loss: {:6.4} \\t| epoch eval loss: {:6.4} \\t| train_accuracy: {:3.2} \\t| eval_accuracy: {:3.2}\"\\\n",
    "            .format(\n",
    "                epoch_id + 1, \n",
    "                train_loss_log[-1], \n",
    "                eval_loss_log[-1], \n",
    "                (np.array(train_predicted_labels) == np.array(train_target_labels)).mean(),\n",
    "                (np.array(eval_predicted_labels) == np.array(eval_target_labels)).mean()\n",
    "            )\n",
    "        )\n",
    "            "
   ]
  },
  {
   "cell_type": "code",
   "execution_count": 31,
   "metadata": {},
   "outputs": [
    {
     "data": {
      "text/plain": [
       "[<matplotlib.lines.Line2D at 0x26c099a7c10>]"
      ]
     },
     "execution_count": 31,
     "metadata": {},
     "output_type": "execute_result"
    },
    {
     "data": {
      "image/png": "[encoded data removed]",
      "text/plain": [
       "<Figure size 432x288 with 1 Axes>"
      ]
     },
     "metadata": {
      "needs_background": "light"
     },
     "output_type": "display_data"
    }
   ],
   "source": [
    "plt.plot(eval_loss_log)\n",
    "plt.plot(train_loss_log)"
   ]
  },
  {
   "cell_type": "code",
   "execution_count": 52,
   "metadata": {},
   "outputs": [],
   "source": [
    "predicted_labels = []\n",
    "target_labels = []\n",
    "model.eval()\n",
    "with torch.no_grad():\n",
    "        for batch_idx, batch in enumerate(eval_dataloader):\n",
    "            inp_ids = batch['input_ids'].to(model.device)\n",
    "            lens = batch['lengths']\n",
    "            labels = batch['labels'].to(model.device)\n",
    "            out_logits = model(inp_ids, lens)\n",
    "            loss = loss_fn(out_logits.flatten(), labels)\n",
    "\n",
    "            predicted_labels += (torch.sigmoid(out_logits.flatten()) > 0.5).float().tolist()\n",
    "            target_labels += labels.tolist()"
   ]
  },
  {
   "cell_type": "code",
   "execution_count": 54,
   "metadata": {},
   "outputs": [
    {
     "data": {
      "text/plain": [
       "0.8695652173913043"
      ]
     },
     "execution_count": 54,
     "metadata": {},
     "output_type": "execute_result"
    }
   ],
   "source": [
    "f1_score(np.array(predicted_labels),np.array(target_labels))"
   ]
  },
  {
   "cell_type": "code",
   "execution_count": 56,
   "metadata": {},
   "outputs": [
    {
     "data": {
      "text/plain": [
       "Contextualizer(\n",
       "  (embeddings): Embedding(5787, 300)\n",
       "  (embedding_dropout): Dropout(p=0.2, inplace=False)\n",
       "  (backbone): GRU(300, 600, batch_first=True, bidirectional=True)\n",
       "  (out_linear): Linear(in_features=1200, out_features=1, bias=True)\n",
       ")"
      ]
     },
     "execution_count": 56,
     "metadata": {},
     "output_type": "execute_result"
    }
   ],
   "source": [
    "model"
   ]
  },
  {
   "cell_type": "code",
   "execution_count": 35,
   "metadata": {},
   "outputs": [],
   "source": [
    "torch.save(model.state_dict(), MODELS_PATH + 'gru_fakenews_clf.pt')"
   ]
  },
  {
   "attachments": {},
   "cell_type": "markdown",
   "metadata": {},
   "source": [
    "# Test predictions run"
   ]
  },
  {
   "cell_type": "code",
   "execution_count": 57,
   "metadata": {},
   "outputs": [
    {
     "data": {
      "text/plain": [
       "{'input_ids': tensor([[   1,  520,  780,  ...,    0,    0,    0],\n",
       "         [   1,    3,  135,  ...,    0,    0,    0],\n",
       "         [   1,  186,    3,  ...,    0,    0,    0],\n",
       "         ...,\n",
       "         [   1, 1829,  658,  ...,    0,    0,    0],\n",
       "         [   1, 5784, 1984,  ...,    0,    0,    0],\n",
       "         [   1,    3,  437,  ...,    0,    0,    0]]),\n",
       " 'lengths': [11,\n",
       "  17,\n",
       "  13,\n",
       "  16,\n",
       "  10,\n",
       "  8,\n",
       "  9,\n",
       "  10,\n",
       "  8,\n",
       "  8,\n",
       "  10,\n",
       "  23,\n",
       "  10,\n",
       "  7,\n",
       "  9,\n",
       "  9,\n",
       "  10,\n",
       "  6,\n",
       "  22,\n",
       "  9,\n",
       "  13,\n",
       "  10,\n",
       "  9,\n",
       "  8,\n",
       "  13,\n",
       "  13,\n",
       "  11,\n",
       "  10,\n",
       "  9,\n",
       "  7,\n",
       "  9,\n",
       "  12,\n",
       "  15,\n",
       "  8,\n",
       "  8,\n",
       "  10,\n",
       "  9,\n",
       "  12,\n",
       "  8,\n",
       "  9,\n",
       "  15,\n",
       "  18,\n",
       "  8,\n",
       "  6,\n",
       "  6,\n",
       "  15,\n",
       "  11,\n",
       "  15,\n",
       "  6,\n",
       "  12,\n",
       "  9,\n",
       "  11,\n",
       "  7,\n",
       "  7,\n",
       "  7,\n",
       "  16,\n",
       "  11,\n",
       "  9,\n",
       "  9,\n",
       "  11,\n",
       "  11,\n",
       "  10,\n",
       "  15,\n",
       "  9,\n",
       "  10,\n",
       "  11,\n",
       "  16,\n",
       "  16,\n",
       "  11,\n",
       "  7,\n",
       "  10,\n",
       "  9,\n",
       "  10,\n",
       "  11,\n",
       "  9,\n",
       "  11,\n",
       "  10,\n",
       "  7,\n",
       "  11,\n",
       "  10,\n",
       "  8,\n",
       "  9,\n",
       "  10,\n",
       "  14,\n",
       "  11,\n",
       "  7,\n",
       "  16,\n",
       "  11,\n",
       "  11,\n",
       "  13,\n",
       "  15,\n",
       "  8,\n",
       "  10,\n",
       "  8,\n",
       "  9,\n",
       "  13,\n",
       "  9,\n",
       "  10,\n",
       "  14,\n",
       "  15,\n",
       "  12,\n",
       "  13,\n",
       "  13,\n",
       "  8,\n",
       "  11,\n",
       "  13,\n",
       "  9,\n",
       "  10,\n",
       "  10,\n",
       "  14,\n",
       "  21,\n",
       "  12,\n",
       "  14,\n",
       "  9,\n",
       "  17,\n",
       "  8,\n",
       "  7,\n",
       "  12,\n",
       "  15,\n",
       "  20,\n",
       "  12,\n",
       "  11,\n",
       "  15,\n",
       "  13,\n",
       "  8,\n",
       "  11,\n",
       "  11,\n",
       "  9],\n",
       " 'labels': tensor([0., 0., 0., 0., 0., 0., 0., 0., 0., 0., 0., 0., 0., 0., 0., 0., 0., 0., 0., 0., 0., 0., 0., 0.,\n",
       "         0., 0., 0., 0., 0., 0., 0., 0., 0., 0., 0., 0., 0., 0., 0., 0., 0., 0., 0., 0., 0., 0., 0., 0.,\n",
       "         0., 0., 0., 0., 0., 0., 0., 0., 0., 0., 0., 0., 0., 0., 0., 0., 0., 0., 0., 0., 0., 0., 0., 0.,\n",
       "         0., 0., 0., 0., 0., 0., 0., 0., 0., 0., 0., 0., 0., 0., 0., 0., 0., 0., 0., 0., 0., 0., 0., 0.,\n",
       "         0., 0., 0., 0., 0., 0., 0., 0., 0., 0., 0., 0., 0., 0., 0., 0., 0., 0., 0., 0., 0., 0., 0., 0.,\n",
       "         0., 0., 0., 0., 0., 0., 0., 0.])}"
      ]
     },
     "execution_count": 57,
     "metadata": {},
     "output_type": "execute_result"
    }
   ],
   "source": [
    "test_tokenized = [word_tokenizer.tokenize(doc.lower()) for doc in test_docs]\n",
    "test_encoded = [vocabulary.doc2idx(doc, unknown_word_index=special_tokens_map[UNK_TOKEN]) for doc in test_tokenized]\n",
    "test_dataset = SequenceDataset(test_encoded, test_labels)\n",
    "test_dataloader = DataLoader(test_dataset, BATCH_SIZE, shuffle=False, collate_fn=custom_collate)\n",
    "next(iter(test_dataloader))"
   ]
  },
  {
   "cell_type": "code",
   "execution_count": 71,
   "metadata": {},
   "outputs": [],
   "source": [
    "predicted_labels = []\n",
    "predicted_proba = []\n",
    "target_labels = []\n",
    "model.eval()\n",
    "with torch.no_grad():\n",
    "        for batch_idx, batch in enumerate(test_dataloader):\n",
    "            inp_ids = batch['input_ids'].to(model.device)\n",
    "            lens = batch['lengths']\n",
    "            labels = batch['labels'].to(model.device)\n",
    "            out_logits = model(inp_ids, lens)\n",
    "\n",
    "            predicted_proba += torch.sigmoid(out_logits.flatten()).tolist()\n",
    "            predicted_labels += (torch.sigmoid(out_logits.flatten()) > 0.5).int().tolist()\n",
    "            target_labels += labels.tolist()"
   ]
  },
  {
   "cell_type": "code",
   "execution_count": 72,
   "metadata": {},
   "outputs": [],
   "source": [
    "# Check if there was any unintended shuffles\n",
    "assert (np.array(target_labels) == test_labels).mean() == 1, 'Original order is violated'"
   ]
  },
  {
   "cell_type": "code",
   "execution_count": 73,
   "metadata": {},
   "outputs": [],
   "source": [
    "import pandas as pd\n",
    "\n",
    "submission_df = pd.DataFrame(dict(zip(['title', 'prob_fake', 'is_fake'], [test_docs, predicted_proba, predicted_labels])))"
   ]
  },
  {
   "cell_type": "code",
   "execution_count": 74,
   "metadata": {},
   "outputs": [
    {
     "data": {
      "text/html": [
       "<div>\n",
       "<style scoped>\n",
       "    .dataframe tbody tr th:only-of-type {\n",
       "        vertical-align: middle;\n",
       "    }\n",
       "\n",
       "    .dataframe tbody tr th {\n",
       "        vertical-align: top;\n",
       "    }\n",
       "\n",
       "    .dataframe thead th {\n",
       "        text-align: right;\n",
       "    }\n",
       "</style>\n",
       "<table border=\"1\" class=\"dataframe\">\n",
       "  <thead>\n",
       "    <tr style=\"text-align: right;\">\n",
       "      <th></th>\n",
       "      <th>title</th>\n",
       "      <th>prob_fake</th>\n",
       "      <th>is_fake</th>\n",
       "    </tr>\n",
       "  </thead>\n",
       "  <tbody>\n",
       "    <tr>\n",
       "      <th>0</th>\n",
       "      <td>Роскомнадзор представил реестр сочетаний цвето...</td>\n",
       "      <td>0.858530</td>\n",
       "      <td>1</td>\n",
       "    </tr>\n",
       "    <tr>\n",
       "      <th>1</th>\n",
       "      <td>Ночью под Минском на президентской горе Белара...</td>\n",
       "      <td>0.999998</td>\n",
       "      <td>1</td>\n",
       "    </tr>\n",
       "    <tr>\n",
       "      <th>2</th>\n",
       "      <td>Бывший спичрайтер Юрия Лозы рассказал о трудно...</td>\n",
       "      <td>0.999829</td>\n",
       "      <td>1</td>\n",
       "    </tr>\n",
       "    <tr>\n",
       "      <th>3</th>\n",
       "      <td>Сельская церковь, собравшая рекордно низкое ко...</td>\n",
       "      <td>0.999985</td>\n",
       "      <td>1</td>\n",
       "    </tr>\n",
       "    <tr>\n",
       "      <th>4</th>\n",
       "      <td>Акции Google рухнули после объявления о переза...</td>\n",
       "      <td>0.691313</td>\n",
       "      <td>1</td>\n",
       "    </tr>\n",
       "    <tr>\n",
       "      <th>...</th>\n",
       "      <td>...</td>\n",
       "      <td>...</td>\n",
       "      <td>...</td>\n",
       "    </tr>\n",
       "    <tr>\n",
       "      <th>995</th>\n",
       "      <td>Прокуратура заподозрила Явлинского в авторитар...</td>\n",
       "      <td>0.301758</td>\n",
       "      <td>0</td>\n",
       "    </tr>\n",
       "    <tr>\n",
       "      <th>996</th>\n",
       "      <td>В День Победы стратегические ракетоносцы Ту-16...</td>\n",
       "      <td>0.974203</td>\n",
       "      <td>1</td>\n",
       "    </tr>\n",
       "    <tr>\n",
       "      <th>997</th>\n",
       "      <td>СК возбудил дело против авиакомпании «Победа» ...</td>\n",
       "      <td>0.943087</td>\n",
       "      <td>1</td>\n",
       "    </tr>\n",
       "    <tr>\n",
       "      <th>998</th>\n",
       "      <td>Криптомонетный двор Туркменистана выпустил юби...</td>\n",
       "      <td>0.133634</td>\n",
       "      <td>0</td>\n",
       "    </tr>\n",
       "    <tr>\n",
       "      <th>999</th>\n",
       "      <td>Deutsche Bahn заплатит рекордный штраф за чтен...</td>\n",
       "      <td>0.987249</td>\n",
       "      <td>1</td>\n",
       "    </tr>\n",
       "  </tbody>\n",
       "</table>\n",
       "<p>1000 rows × 3 columns</p>\n",
       "</div>"
      ],
      "text/plain": [
       "                                                 title  prob_fake  is_fake\n",
       "0    Роскомнадзор представил реестр сочетаний цвето...   0.858530        1\n",
       "1    Ночью под Минском на президентской горе Белара...   0.999998        1\n",
       "2    Бывший спичрайтер Юрия Лозы рассказал о трудно...   0.999829        1\n",
       "3    Сельская церковь, собравшая рекордно низкое ко...   0.999985        1\n",
       "4    Акции Google рухнули после объявления о переза...   0.691313        1\n",
       "..                                                 ...        ...      ...\n",
       "995  Прокуратура заподозрила Явлинского в авторитар...   0.301758        0\n",
       "996  В День Победы стратегические ракетоносцы Ту-16...   0.974203        1\n",
       "997  СК возбудил дело против авиакомпании «Победа» ...   0.943087        1\n",
       "998  Криптомонетный двор Туркменистана выпустил юби...   0.133634        0\n",
       "999  Deutsche Bahn заплатит рекордный штраф за чтен...   0.987249        1\n",
       "\n",
       "[1000 rows x 3 columns]"
      ]
     },
     "execution_count": 74,
     "metadata": {},
     "output_type": "execute_result"
    }
   ],
   "source": [
    "submission_df"
   ]
  },
  {
   "cell_type": "code",
   "execution_count": 75,
   "metadata": {},
   "outputs": [],
   "source": [
    "submission_df.to_csv('predictions.csv', index=0)"
   ]
  },
  {
   "cell_type": "markdown",
   "metadata": {},
   "source": []
  }
 ],
 "metadata": {
  "kernelspec": {
   "display_name": "ml_scratch_torch",
   "language": "python",
   "name": "python3"
  },
  "language_info": {
   "codemirror_mode": {
    "name": "ipython",
    "version": 3
   },
   "file_extension": ".py",
   "mimetype": "text/x-python",
   "name": "python",
   "nbconvert_exporter": "python",
   "pygments_lexer": "ipython3",
   "version": "3.9.12"
  },
  "orig_nbformat": 4,
  "vscode": {
   "interpreter": {
    "hash": "81ee5fcf96e0950120182c502807a58795a1dae9c5834757bcd4d70878f34635"
   }
  }
 },
 "nbformat": 4,
 "nbformat_minor": 2
}
