{
 "cells": [
  {
   "cell_type": "code",
   "execution_count": 3,
   "metadata": {},
   "outputs": [],
   "source": [
    "import sys\n",
    "sys.path.append(r\"./custom_models/dl_models/ffn\")"
   ]
  },
  {
   "cell_type": "code",
   "execution_count": 4,
   "metadata": {},
   "outputs": [],
   "source": [
    "import numpy as np\n",
    "import matplotlib.pyplot as plt\n",
    "from sklearn import datasets\n",
    "from sklearn.model_selection import train_test_split"
   ]
  },
  {
   "cell_type": "code",
   "execution_count": 5,
   "metadata": {},
   "outputs": [],
   "source": [
    "from custom_models.dl_models.ffn import ffn\n",
    "from custom_models.dl_models.ffn.utils.optimization import *"
   ]
  },
  {
   "cell_type": "code",
   "execution_count": 6,
   "metadata": {},
   "outputs": [],
   "source": [
    "iris_dataset = datasets.load_iris()\n",
    "iris_dataset.target_names\n",
    "X = iris_dataset.data\n",
    "y = iris_dataset.target"
   ]
  },
  {
   "cell_type": "code",
   "execution_count": 7,
   "metadata": {},
   "outputs": [],
   "source": [
    "def one_hot_encoding(y):\n",
    "    output_shape = (y.shape[0], np.unique(y).shape[0])\n",
    "    expected_output = np.zeros(output_shape)\n",
    "    np.put_along_axis(expected_output, np.expand_dims(y.astype(int), axis=1), 1, axis=1)\n",
    "    return expected_output"
   ]
  },
  {
   "cell_type": "code",
   "execution_count": 8,
   "metadata": {},
   "outputs": [],
   "source": [
    "y = one_hot_encoding(y)\n",
    "X_train, X_test, y_train, y_test = train_test_split(X, y, train_size=0.7, random_state=42)\n"
   ]
  },
  {
   "cell_type": "code",
   "execution_count": 9,
   "metadata": {},
   "outputs": [],
   "source": [
    "n_features = X.shape[1]\n",
    "n_classes = y.shape[1]"
   ]
  },
  {
   "cell_type": "code",
   "execution_count": 10,
   "metadata": {},
   "outputs": [],
   "source": [
    "np.random.seed(42)\n",
    "model = ffn.Custom_FFN(architecture=[n_features, 10, 5, n_classes])"
   ]
  },
  {
   "cell_type": "markdown",
   "metadata": {},
   "source": [
    "### Checking optimization correctness"
   ]
  },
  {
   "cell_type": "code",
   "execution_count": 11,
   "metadata": {},
   "outputs": [],
   "source": [
    "def compute_grad_numerically(model, X, y, layer_n=0, eps=10e-2, reg_lambda=0, reg_type=2):\n",
    "    \"\"\"\n",
    "    Численная производная целевой функции.\n",
    "    neuron - объект класса Neuron с вертикальным вектором весов w,\n",
    "    X - вертикальная матрица входов формы (n, m), на которой считается сумма квадратов отклонений,\n",
    "    y - правильные ответы для тестовой выборки X,\n",
    "    J - целевая функция, градиент которой мы хотим получить,\n",
    "    eps - размер $\\delta w$ (малого изменения весов).\n",
    "    \"\"\"\n",
    "    w_0 = model.parameters['weights'][layer_n]\n",
    "    num_grad = np.zeros(w_0.shape)\n",
    "    loss_function = model.loss_function\n",
    "\n",
    "    \n",
    "    for i in range(w_0.shape[0]):\n",
    "        for j in range(w_0.shape[1]):\n",
    "            \n",
    "            old_wi = model.parameters['weights'][layer_n][i, j].copy()\n",
    "            # Меняем вес\n",
    "            model.parameters['weights'][layer_n][i, j] += eps\n",
    "            \n",
    "            # Считаем новое значение целевой функции и вычисляем приближенное значение градиента\n",
    "            preds = model.forward(X)\n",
    "            loss = loss_function(preds, y) + reg_lambda * regularization(model, reg_l=reg_type)\n",
    "            num_grad[i, j] = (loss)/(2*eps)\n",
    "\n",
    "            model.parameters['weights'][layer_n][i, j] -= 2*eps\n",
    "            \n",
    "            preds = model.forward(X)\n",
    "            loss = loss_function(preds, y) + reg_lambda * regularization(model, reg_l=reg_type)\n",
    "            num_grad[i, j] -= (loss)/(2*eps)\n",
    "\n",
    "            # Возвращаем вес обратно. Лучше так, чем -= eps, чтобы не накапливать ошибки округления\n",
    "            model.parameters['weights'][layer_n][i, j] = old_wi\n",
    "            \n",
    "    # проверим, что не испортили нейрону веса своими манипуляциями\n",
    "    assert np.allclose(model.parameters['weights'][layer_n], w_0), \"МЫ ИСПОРТИЛИ НЕЙРОНУ ВЕСА\"\n",
    "    return num_grad"
   ]
  },
  {
   "cell_type": "code",
   "execution_count": 12,
   "metadata": {},
   "outputs": [],
   "source": [
    "preds = model.forward(X)\n",
    "grads = calculate_gradient(model, X, y, preds, reg_lambda=0.1, reg_type=2)"
   ]
  },
  {
   "cell_type": "code",
   "execution_count": 13,
   "metadata": {},
   "outputs": [],
   "source": [
    "num_grad = compute_grad_numerically(model, X, y, layer_n=2, eps=0.00001, reg_lambda=0.1, reg_type=2)"
   ]
  },
  {
   "cell_type": "code",
   "execution_count": 14,
   "metadata": {},
   "outputs": [
    {
     "data": {
      "text/plain": [
       "array([[-0.18769636,  0.32441762,  0.146324  ],\n",
       "       [-0.19125932,  0.25720646,  0.05315877],\n",
       "       [-0.20467309,  0.42762153,  0.15685943],\n",
       "       [-0.10876894,  0.414575  ,  0.15590123],\n",
       "       [-0.19986526,  0.42046514,  0.10309438]])"
      ]
     },
     "execution_count": 14,
     "metadata": {},
     "output_type": "execute_result"
    }
   ],
   "source": [
    "num_grad"
   ]
  },
  {
   "cell_type": "code",
   "execution_count": 15,
   "metadata": {},
   "outputs": [
    {
     "data": {
      "text/plain": [
       "array([[-0.18769636,  0.32441762,  0.146324  ],\n",
       "       [-0.19125932,  0.25720646,  0.05315877],\n",
       "       [-0.20467309,  0.42762153,  0.15685943],\n",
       "       [-0.10876894,  0.414575  ,  0.15590123],\n",
       "       [-0.19986526,  0.42046514,  0.10309438]])"
      ]
     },
     "execution_count": 15,
     "metadata": {},
     "output_type": "execute_result"
    }
   ],
   "source": [
    "grads['weights'][2]"
   ]
  },
  {
   "cell_type": "code",
   "execution_count": 16,
   "metadata": {},
   "outputs": [
    {
     "data": {
      "text/plain": [
       "1.552542117133668e-10"
      ]
     },
     "execution_count": 16,
     "metadata": {},
     "output_type": "execute_result"
    }
   ],
   "source": [
    "np.linalg.norm(grads['weights'][2] - num_grad)"
   ]
  },
  {
   "cell_type": "markdown",
   "metadata": {},
   "source": [
    "### Train and test on gathered toy data"
   ]
  },
  {
   "cell_type": "code",
   "execution_count": 17,
   "metadata": {},
   "outputs": [],
   "source": [
    "loss_log = SGD(model, X_train, y_train, batch_size=50, \n",
    "            lr=0.1, eps=0.1e-4, max_epochs=400, max_convergences=20, lr_decay=1)"
   ]
  },
  {
   "cell_type": "code",
   "execution_count": 18,
   "metadata": {},
   "outputs": [
    {
     "data": {
      "text/plain": [
       "[<matplotlib.lines.Line2D at 0x21cf2d70a30>]"
      ]
     },
     "execution_count": 18,
     "metadata": {},
     "output_type": "execute_result"
    },
    {
     "data": {
      "image/png": "[encoded data removed]",
      "text/plain": [
       "<Figure size 432x288 with 1 Axes>"
      ]
     },
     "metadata": {
      "needs_background": "light"
     },
     "output_type": "display_data"
    }
   ],
   "source": [
    "plt.plot(loss_log)"
   ]
  },
  {
   "cell_type": "code",
   "execution_count": 19,
   "metadata": {},
   "outputs": [],
   "source": [
    "test_preds = model.forward(X_test)"
   ]
  },
  {
   "cell_type": "code",
   "execution_count": 22,
   "metadata": {},
   "outputs": [
    {
     "data": {
      "text/plain": [
       "0.9777777777777777"
      ]
     },
     "execution_count": 22,
     "metadata": {},
     "output_type": "execute_result"
    }
   ],
   "source": [
    "(test_preds.argmax(axis=1) == y_test.argmax(axis=1)).mean()"
   ]
  },
  {
   "cell_type": "code",
   "execution_count": 21,
   "metadata": {},
   "outputs": [
    {
     "data": {
      "text/plain": [
       "(45, 3)"
      ]
     },
     "execution_count": 21,
     "metadata": {},
     "output_type": "execute_result"
    }
   ],
   "source": [
    "y_test.shape"
   ]
  },
  {
   "cell_type": "code",
   "execution_count": null,
   "metadata": {},
   "outputs": [],
   "source": []
  }
 ],
 "metadata": {
  "kernelspec": {
   "display_name": "Python 3.9.12 ('ml_from_scratch')",
   "language": "python",
   "name": "python3"
  },
  "language_info": {
   "codemirror_mode": {
    "name": "ipython",
    "version": 3
   },
   "file_extension": ".py",
   "mimetype": "text/x-python",
   "name": "python",
   "nbconvert_exporter": "python",
   "pygments_lexer": "ipython3",
   "version": "3.9.12"
  },
  "orig_nbformat": 4,
  "vscode": {
   "interpreter": {
    "hash": "342f382d5ef2d317defb0f85926a738a2214c1376a537c3ec94da16e056552d3"
   }
  }
 },
 "nbformat": 4,
 "nbformat_minor": 2
}
