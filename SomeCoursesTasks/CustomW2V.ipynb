{
 "cells": [
  {
   "cell_type": "code",
   "execution_count": 1,
   "metadata": {},
   "outputs": [],
   "source": [
    "import sys\n",
    "sys.path.append(r\"C:\\Users\\Uer\\Documents\\JN\\data_proc_from_scratch\\nlp\")\n",
    "sys.path.append(r\"C:\\Users\\Uer\\Documents\\JN\\torch_custom_utils\")"
   ]
  },
  {
   "cell_type": "code",
   "execution_count": 2,
   "metadata": {},
   "outputs": [],
   "source": [
    "import torch\n",
    "from torch import nn\n",
    "from torch.utils.data import Dataset\n",
    "\n",
    "import numpy as np\n",
    "import csv\n",
    "\n",
    "from grapheme_parsing import *\n",
    "from train_eval_tools import Trainer\n",
    "\n",
    "from sklearn.decomposition import TruncatedSVD\n",
    "import matplotlib.pyplot as plt"
   ]
  },
  {
   "cell_type": "code",
   "execution_count": 3,
   "metadata": {},
   "outputs": [],
   "source": [
    "PAD_TOKEN = '<PAD>'\n",
    "TRAIN_SIZE_RATIO = .7\n",
    "MAX_SENTENCE_LEN = 20\n",
    "NEGATIVE_SAMPLE_SIZE = 25\n",
    "CONTEXT_LENGHT = 5"
   ]
  },
  {
   "cell_type": "code",
   "execution_count": 4,
   "metadata": {},
   "outputs": [],
   "source": [
    "with open('../stepik-dl-nlp/datasets/nyt-ingredients-snapshot-2015.csv', encoding='utf-8') as f:\n",
    "    reader = csv.reader(f, delimiter=',')\n",
    "    dataset = [row[1] for row in reader]\n",
    "    "
   ]
  },
  {
   "cell_type": "code",
   "execution_count": 5,
   "metadata": {},
   "outputs": [
    {
     "data": {
      "text/plain": [
       "['1 1/4 cups cooked and pureed fresh butternut squash, or 1 10-ounce package frozen squash, defrosted',\n",
       " '1 cup peeled and cooked fresh chestnuts (about 20), or 1 cup canned, unsweetened chestnuts',\n",
       " '1 medium-size onion, peeled and chopped',\n",
       " '2 stalks celery, chopped coarse',\n",
       " '1 1/2 tablespoons vegetable oil',\n",
       " '',\n",
       " '2 tablespoons unflavored gelatin, dissolved in 1/2 cup water',\n",
       " 'Salt',\n",
       " '1 cup canned plum tomatoes with juice',\n",
       " '6 cups veal or beef stock']"
      ]
     },
     "execution_count": 5,
     "metadata": {},
     "output_type": "execute_result"
    }
   ],
   "source": [
    "dataset = dataset[1:]\n",
    "dataset[:10]"
   ]
  },
  {
   "cell_type": "code",
   "execution_count": 6,
   "metadata": {},
   "outputs": [],
   "source": [
    "train_size = int(len(dataset)*TRAIN_SIZE_RATIO)"
   ]
  },
  {
   "cell_type": "code",
   "execution_count": 7,
   "metadata": {},
   "outputs": [
    {
     "name": "stdout",
     "output_type": "stream",
     "text": [
      "Size of training dataset 125444\n",
      "Size of evaluation dataset 53763\n"
     ]
    }
   ],
   "source": [
    "train_dataset = dataset[:train_size]\n",
    "eval_dataset = dataset[train_size:]\n",
    "print('Size of training dataset', train_size)\n",
    "print('Size of evaluation dataset', len(dataset)-train_size)"
   ]
  },
  {
   "cell_type": "code",
   "execution_count": 8,
   "metadata": {},
   "outputs": [],
   "source": [
    "train_corp = tokenize_corprus(train_dataset, token_min_len=2)\n",
    "eval_corp = tokenize_corprus(eval_dataset, token_min_len=2)"
   ]
  },
  {
   "cell_type": "code",
   "execution_count": 9,
   "metadata": {},
   "outputs": [],
   "source": [
    "vocabulary, token_freq = build_vocabulary(train_corp, fake_token='<PAD>')"
   ]
  },
  {
   "cell_type": "code",
   "execution_count": 10,
   "metadata": {},
   "outputs": [
    {
     "data": {
      "text/plain": [
       "2257"
      ]
     },
     "execution_count": 10,
     "metadata": {},
     "output_type": "execute_result"
    }
   ],
   "source": [
    "len(vocabulary)"
   ]
  },
  {
   "cell_type": "code",
   "execution_count": 11,
   "metadata": {},
   "outputs": [
    {
     "name": "stdout",
     "output_type": "stream",
     "text": [
      "cups cooked and pureed fresh butternut squash ounce package frozen squash defrosted\n",
      "cup peeled and cooked fresh chestnuts about cup canned unsweetened chestnuts\n",
      "medium size onion peeled and chopped\n",
      "stalks celery chopped coarse\n",
      "tablespoons vegetable oil\n",
      "\n",
      "tablespoons unflavored gelatin dissolved cup water\n",
      "salt\n",
      "cup canned plum tomatoes with juice\n",
      "cups veal beef stock\n"
     ]
    }
   ],
   "source": [
    "print('\\n'.join(' '.join(doc) for doc in train_corp[:10]))"
   ]
  },
  {
   "cell_type": "code",
   "execution_count": 12,
   "metadata": {},
   "outputs": [
    {
     "data": {
      "text/plain": [
       "[[2249, 2140, 2254, 1516, 2247, 1772, 1968, 2188, 1938, 2055, 1968, 1597],\n",
       " [2256, 2241, 2254, 2140, 2247, 1674, 2228, 2256, 2162, 1947, 1674],\n",
       " [2217, 2129, 2220, 2241, 2254, 2252],\n",
       " [1998, 2163, 2252, 2147],\n",
       " [2255, 2193, 2246],\n",
       " [],\n",
       " [2255, 1691, 1807, 1498, 2256, 2210],\n",
       " [2251],\n",
       " [2256, 2162, 2066, 2203, 2167, 2223],\n",
       " [2249, 2026, 2099, 2179]]"
      ]
     },
     "execution_count": 12,
     "metadata": {},
     "output_type": "execute_result"
    }
   ],
   "source": [
    "train_encoded = corp_encode(train_corp, vocabulary)\n",
    "eval_encoded =  corp_encode(eval_corp, vocabulary)\n",
    "train_encoded[:10]"
   ]
  },
  {
   "cell_type": "code",
   "execution_count": 13,
   "metadata": {},
   "outputs": [],
   "source": [
    "def w2v_window_parse(encoded_dataset):\n",
    "    features = []\n",
    "    targets = []\n",
    "    window_side_size = (CONTEXT_LENGHT-1)//2\n",
    "    for doc in encoded_dataset:\n",
    "        padded_doc = [vocabulary[PAD_TOKEN]]*window_side_size + doc + [vocabulary[PAD_TOKEN]]*window_side_size\n",
    "        for i in range(len(doc)):\n",
    "            features.append(padded_doc[i+window_side_size])\n",
    "            targets.append(padded_doc[i:i+window_side_size]+padded_doc[i+window_side_size+1: i+2*window_side_size+1])\n",
    "    return features, targets"
   ]
  },
  {
   "cell_type": "code",
   "execution_count": 14,
   "metadata": {},
   "outputs": [],
   "source": [
    "train_features, train_targets = w2v_window_parse(train_encoded)"
   ]
  },
  {
   "cell_type": "code",
   "execution_count": 15,
   "metadata": {},
   "outputs": [],
   "source": [
    "eval_features, eval_targets = w2v_window_parse(eval_encoded)"
   ]
  },
  {
   "cell_type": "code",
   "execution_count": 16,
   "metadata": {},
   "outputs": [],
   "source": [
    "class GeneralDataset(Dataset):\n",
    "    def __init__(self, features, targets):\n",
    "        self.features = features\n",
    "        self.targets = targets\n",
    "\n",
    "    def __len__(self):\n",
    "        return len(self.features)\n",
    "\n",
    "    def __getitem__(self, idx):\n",
    "        features = torch.tensor(self.features[idx], dtype=torch.long)\n",
    "        targets = torch.tensor(self.targets[idx], dtype=torch.long)\n",
    "        return (features, targets)"
   ]
  },
  {
   "cell_type": "code",
   "execution_count": 17,
   "metadata": {},
   "outputs": [],
   "source": [
    "train_dataset = GeneralDataset(train_features, train_targets)\n",
    "eval_dataset = GeneralDataset(eval_features, eval_targets)"
   ]
  },
  {
   "cell_type": "code",
   "execution_count": 18,
   "metadata": {},
   "outputs": [
    {
     "data": {
      "text/plain": [
       "(tensor([2249, 2140, 2254]),\n",
       " tensor([[   0,    0, 2140, 2254],\n",
       "         [   0, 2249, 2254, 1516],\n",
       "         [2249, 2140, 1516, 2247]]))"
      ]
     },
     "execution_count": 18,
     "metadata": {},
     "output_type": "execute_result"
    }
   ],
   "source": [
    "train_dataset[:3]"
   ]
  },
  {
   "cell_type": "code",
   "execution_count": 19,
   "metadata": {},
   "outputs": [],
   "source": [
    "class Custom_SkipGram(nn.Module):\n",
    "    def __init__(self, vocabulary, embedding_size, context_len=5, padding_idx=0):\n",
    "        super().__init__()\n",
    "\n",
    "        self.vocabulary = vocabulary\n",
    "        self.context_len = context_len\n",
    "\n",
    "        emb_var_range = (-1/embedding_size, 1/embedding_size)\n",
    "\n",
    "        self.center_embeddings = nn.Embedding(len(self.vocabulary), embedding_size, padding_idx)\n",
    "        self.context_embeddings = nn.Embedding(len(self.vocabulary), embedding_size, padding_idx)\n",
    "\n",
    "        self.center_embeddings.weight.data.uniform_(*emb_var_range)\n",
    "        self.context_embeddings.weight.data.uniform_(*emb_var_range)\n",
    "\n",
    "        self.center_embeddings.weight.data[padding_idx] = 0\n",
    "        self.context_embeddings.weight.data[padding_idx] = 0        \n",
    "    \n",
    "    def forward(self, words_vector_batch):\n",
    "        \"\"\"\n",
    "        words_vector_batch: batch_size x 1 -- vector of word-ids\n",
    "        \"\"\"\n",
    "        # batch_size x emb_size\n",
    "        input_emb = self.center_embeddings(words_vector_batch)       \n",
    "        # batch_size x vocab_size\n",
    "        linear_transformation = torch.matmul(input_emb, self.context_embeddings.weight.data.T)\n",
    "        # meditate upon how to mask same_word x same_word\n",
    "        probs = torch.sigmoid(linear_transformation)\n",
    "                        \n",
    "        return probs\n"
   ]
  },
  {
   "cell_type": "code",
   "execution_count": 20,
   "metadata": {},
   "outputs": [],
   "source": [
    "def no_loss(pred, target):\n",
    "    return pred"
   ]
  },
  {
   "cell_type": "code",
   "execution_count": 21,
   "metadata": {},
   "outputs": [],
   "source": [
    "model = Custom_SkipGram(vocabulary, embedding_size=100, context_len=CONTEXT_LENGHT)"
   ]
  },
  {
   "cell_type": "code",
   "execution_count": 22,
   "metadata": {},
   "outputs": [],
   "source": [
    "decoder = {id: key for key, id in model.vocabulary.items()}"
   ]
  },
  {
   "cell_type": "code",
   "execution_count": 23,
   "metadata": {},
   "outputs": [],
   "source": [
    "test_words = ['salad', 'fish', 'salmon', 'sauvignon', 'beef', 'pork', 'steak', 'beer', 'cake', 'coffee', 'sausage', 'wine', 'merlot', 'zinfandel', 'trout', 'chardonnay', 'champagne', 'cacao']\n",
    "test_ids = [model.vocabulary[word] for word in test_words]"
   ]
  },
  {
   "cell_type": "code",
   "execution_count": 25,
   "metadata": {},
   "outputs": [
    {
     "data": {
      "image/png": "[encoded data removed]",
      "text/plain": [
       "<Figure size 720x720 with 1 Axes>"
      ]
     },
     "metadata": {
      "needs_background": "light"
     },
     "output_type": "display_data"
    }
   ],
   "source": [
    "embs = model.center_embeddings.weight.detach().cpu().numpy()\n",
    "embs /= (np.linalg.norm(embs, axis=-1, keepdims=True)+ 1e-4)\n",
    "word_embs = embs[test_ids]\n",
    "\n",
    "fig, ax = plt.subplots()\n",
    "fig.set_size_inches((10, 10))\n",
    "projections = TruncatedSVD().fit_transform(word_embs)\n",
    "x, y = projections[:, 0], projections[:, 1]\n",
    "ax.scatter(x, y)\n",
    "for cur_x, cur_y, cur_label in zip(x, y, test_words):\n",
    "        ax.annotate(cur_label, (cur_x, cur_y))"
   ]
  },
  {
   "cell_type": "code",
   "execution_count": 26,
   "metadata": {},
   "outputs": [],
   "source": [
    "def w2v_NegSample_BCE_loss(pred, target):\n",
    "    \"\"\"\n",
    "    Cross entropy loss for w2v model with negative sample feature.\n",
    "\n",
    "    Parameters:\n",
    "        pred - batch_size x vocab_size\n",
    "\n",
    "        target - batch_size x (context_size-1)\n",
    "    \n",
    "    Return:\n",
    "        loss\n",
    "    \"\"\"\n",
    "    target_matrix = np.zeros(pred.shape)\n",
    "    np.put_along_axis(target_matrix, target.cpu().numpy(), 1, axis=1)\n",
    "\n",
    "    # put mask negative sample into global constant\n",
    "    mask_ids = np.random.choice(pred.shape[1], size=(pred.shape[0], NEGATIVE_SAMPLE_SIZE))\n",
    "    ns_mask = np.zeros(shape=pred.shape)\n",
    "    np.put_along_axis(ns_mask, mask_ids, 1, axis=1)\n",
    "    random_mask_tensor = torch.from_numpy(ns_mask).bool().to(pred.device)\n",
    "    target_tensor = torch.tensor(target_matrix, dtype=torch.float).to(pred.device)\n",
    "\n",
    "    ns_target = target_tensor[(target_tensor == 1.0) | random_mask_tensor].reshape(1, -1)\n",
    "    ns_preds = pred[(target_tensor == 1.0) | random_mask_tensor].reshape(1, -1)\n",
    "    loss = torch.nn.functional.binary_cross_entropy(ns_preds, ns_target)\n",
    "\n",
    "    return loss"
   ]
  },
  {
   "cell_type": "code",
   "execution_count": 27,
   "metadata": {},
   "outputs": [],
   "source": [
    "lr_scheduler_init = lambda optim: torch.optim.lr_scheduler.ReduceLROnPlateau(optim, patience=1, verbose=True)"
   ]
  },
  {
   "cell_type": "code",
   "execution_count": 28,
   "metadata": {},
   "outputs": [],
   "source": [
    "loss_foo = w2v_NegSample_BCE_loss"
   ]
  },
  {
   "cell_type": "code",
   "execution_count": 29,
   "metadata": {},
   "outputs": [],
   "source": [
    "trainer = Trainer(model, loss_foo, lr=0.01, lr_scheduler_class=lr_scheduler_init, optimizer_class=torch.optim.Adam)"
   ]
  },
  {
   "cell_type": "code",
   "execution_count": 30,
   "metadata": {},
   "outputs": [
    {
     "name": "stdout",
     "output_type": "stream",
     "text": [
      "Epoch number: 0\n",
      "Epoch training done.\n",
      "Training time: 55.179443\n",
      "Mean training loss: 0.6814373538098828\n",
      "Epoch evaluation done.\n",
      "Mean evaluation loss: 0.6775220287306164\n",
      "New best model!\n",
      "\n",
      "Epoch number: 1\n",
      "Epoch training done.\n",
      "Training time: 53.882995\n",
      "Mean training loss: 0.6727876745409773\n",
      "Epoch evaluation done.\n",
      "Mean evaluation loss: 0.6737326416622829\n",
      "New best model!\n",
      "\n",
      "Epoch number: 2\n",
      "Epoch training done.\n",
      "Training time: 52.914\n",
      "Mean training loss: 0.6700944656918862\n",
      "Epoch evaluation done.\n",
      "Mean evaluation loss: 0.6721029812577127\n",
      "New best model!\n",
      "\n",
      "Epoch number: 3\n",
      "Epoch training done.\n",
      "Training time: 53.590004\n",
      "Mean training loss: 0.6688867956734524\n",
      "Epoch evaluation done.\n",
      "Mean evaluation loss: 0.6711502647018198\n",
      "New best model!\n",
      "\n",
      "Epoch number: 4\n",
      "Epoch training done.\n",
      "Training time: 52.234999\n",
      "Mean training loss: 0.6680395152575955\n",
      "Epoch evaluation done.\n",
      "Mean evaluation loss: 0.6706251380919236\n",
      "New best model!\n",
      "\n",
      "Epoch number: 5\n",
      "Epoch training done.\n",
      "Training time: 52.302001\n",
      "Mean training loss: 0.6675848465881304\n",
      "Epoch evaluation done.\n",
      "Mean evaluation loss: 0.6701589762577282\n",
      "New best model!\n",
      "\n",
      "Epoch number: 6\n",
      "Epoch training done.\n",
      "Training time: 53.009997\n",
      "Mean training loss: 0.667250801915091\n",
      "Epoch evaluation done.\n",
      "Mean evaluation loss: 0.669986716999209\n",
      "New best model!\n",
      "\n",
      "Epoch number: 7\n",
      "Epoch training done.\n",
      "Training time: 52.25\n",
      "Mean training loss: 0.6669565025650098\n",
      "Epoch evaluation done.\n",
      "Mean evaluation loss: 0.6698059568117405\n",
      "New best model!\n",
      "\n",
      "Epoch number: 8\n",
      "Epoch training done.\n",
      "Training time: 52.218\n",
      "Mean training loss: 0.6666652581537377\n",
      "Epoch evaluation done.\n",
      "Mean evaluation loss: 0.6697058396777887\n",
      "New best model!\n",
      "\n",
      "Epoch number: 9\n",
      "Interrupted by request.\n"
     ]
    }
   ],
   "source": [
    "trainer.train_eval_procedure(train_dataset, eval_dataset, batch_size=100, max_epochs=10, verbose=True)"
   ]
  },
  {
   "cell_type": "code",
   "execution_count": 31,
   "metadata": {},
   "outputs": [
    {
     "data": {
      "image/png": "[encoded data removed]",
      "text/plain": [
       "<Figure size 720x720 with 1 Axes>"
      ]
     },
     "metadata": {
      "needs_background": "light"
     },
     "output_type": "display_data"
    }
   ],
   "source": [
    "embs = model.center_embeddings.weight.detach().cpu().numpy()\n",
    "embs /= (np.linalg.norm(embs, axis=-1, keepdims=True)+ 1e-4)\n",
    "word_embs = embs[test_ids]\n",
    "\n",
    "fig, ax = plt.subplots()\n",
    "fig.set_size_inches((10, 10))\n",
    "projections = TruncatedSVD().fit_transform(word_embs)\n",
    "x, y = projections[:, 0], projections[:, 1]\n",
    "ax.scatter(x, y)\n",
    "for cur_x, cur_y, cur_label in zip(x, y, test_words):\n",
    "        ax.annotate(cur_label, (cur_x, cur_y))"
   ]
  },
  {
   "cell_type": "code",
   "execution_count": null,
   "metadata": {},
   "outputs": [],
   "source": []
  }
 ],
 "metadata": {
  "interpreter": {
   "hash": "81ee5fcf96e0950120182c502807a58795a1dae9c5834757bcd4d70878f34635"
  },
  "kernelspec": {
   "display_name": "Python 3.9.12 ('ml_scratch_torch')",
   "language": "python",
   "name": "python3"
  },
  "language_info": {
   "codemirror_mode": {
    "name": "ipython",
    "version": 3
   },
   "file_extension": ".py",
   "mimetype": "text/x-python",
   "name": "python",
   "nbconvert_exporter": "python",
   "pygments_lexer": "ipython3",
   "version": "3.9.12"
  },
  "orig_nbformat": 4
 },
 "nbformat": 4,
 "nbformat_minor": 2
}
