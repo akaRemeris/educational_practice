{
 "cells": [
  {
   "cell_type": "markdown",
   "metadata": {},
   "source": [
    "# Longest common subsequence problem"
   ]
  },
  {
   "cell_type": "markdown",
   "metadata": {},
   "source": [
    "Given an integer $1≤n≤10^3$ and an array $A[1…n]$ of natural numbers not exceeding $2⋅10^9$. Print the maximum $1≤k≤n$ for which there is a subsequence $n1≤i_1<i_2<…<i_k≤n$ of length $k$ in which each element is divisible by the previous one (formally: for all $1≤j<k$, $A[i_j]∣A[i_j+1]$)."
   ]
  },
  {
   "cell_type": "markdown",
   "metadata": {},
   "source": [
    "Sample Input:\n",
    "```mermaid\n",
    "4\n",
    "3 6 7 12\n",
    "```\n",
    "Sample Output:\n",
    "```mermaid\n",
    "3\n",
    "```"
   ]
  },
  {
   "cell_type": "code",
   "execution_count": 2,
   "metadata": {},
   "outputs": [
    {
     "name": "stdout",
     "output_type": "stream",
     "text": [
      "4\n",
      "3 6 7 12\n",
      "\n",
      "3\n"
     ]
    }
   ],
   "source": [
    "# seq_len = int(input())\n",
    "# sequence = list(map(int, input().split()))\n",
    "input_data = [4, [3, 6, 7, 12]]\n",
    "\n",
    "seq_len = input_data[0]\n",
    "sequence = input_data[1]\n",
    "prefix_list = []\n",
    "prefix_list.append(0)\n",
    "for i in range(1, seq_len):    \n",
    "    prefix_list.append(1+max([prefix_list[j] if sequence[i] % sequence[j] == 0 else -1 for j in range(i)]))\n",
    "\n",
    "print(seq_len)\n",
    "print(' '.join(list(map(str, sequence))))\n",
    "print()\n",
    "print(max(prefix_list) + 1) "
   ]
  },
  {
   "cell_type": "markdown",
   "metadata": {},
   "source": [
    "# Levenshtein distance (editing distance)"
   ]
  },
  {
   "cell_type": "markdown",
   "metadata": {},
   "source": [
    "Вычислите расстояние редактирования двух данных непустых строк длины не более $10^2$, содержащих строчные буквы латинского алфавита."
   ]
  },
  {
   "cell_type": "markdown",
   "metadata": {},
   "source": [
    "Sample Input 1:\n",
    "```mermaid\n",
    "ab\n",
    "ab\n",
    "```\n",
    "Sample Output 1:\n",
    "```mermaid\n",
    "0\n",
    "```\n",
    "Sample Input 2:\n",
    "```mermaid\n",
    "short\n",
    "ports\n",
    "```\n",
    "Sample Output 2:\n",
    "```mermaid\n",
    "3\n",
    "```"
   ]
  },
  {
   "cell_type": "code",
   "execution_count": 4,
   "metadata": {},
   "outputs": [
    {
     "name": "stdout",
     "output_type": "stream",
     "text": [
      "short\n",
      "ports\n",
      "\n",
      "3\n"
     ]
    }
   ],
   "source": [
    "import numpy as np\n",
    "\n",
    "# arr1 = input()\n",
    "# arr2 = input()\n",
    "arr1 = 'short'\n",
    "arr2 = 'ports'\n",
    "\n",
    "distance_matrix = np.zeros((len(arr1) + 1, len(arr2) + 1))\n",
    "distance_matrix[0, :] = np.arange(len(arr2) + 1)\n",
    "distance_matrix[:, 0] = np.arange(len(arr1) + 1)\n",
    "for j in range(1, len(arr2) + 1):\n",
    "    for i in range(1, len(arr1) + 1):\n",
    "        remove_cost = distance_matrix[i - 1, j] + 1\n",
    "        insert_cost = distance_matrix[i, j - 1] + 1\n",
    "        replace_cost = distance_matrix[i - 1, j - 1] + int(arr1[i - 1] != arr2[j - 1])\n",
    "        distance_matrix[i, j] = min(remove_cost, insert_cost, replace_cost)\n",
    "\n",
    "print(arr1)\n",
    "print(arr2)\n",
    "print()\n",
    "print(int(distance_matrix[-1, -1]))"
   ]
  },
  {
   "cell_type": "markdown",
   "metadata": {},
   "source": [
    "# Knapsack problem"
   ]
  },
  {
   "cell_type": "markdown",
   "metadata": {},
   "source": [
    "The first given line contains integers $1≤W≤10^4$ and $1≤n≤300$ — the knapsack capacity and the number of gold bars. The next line contains nn integers $0≤w_1,…,w_n≤10^5$, specifying the weights of the ingots. Find the maximum weight of gold that you can carry in your knapsack."
   ]
  },
  {
   "cell_type": "markdown",
   "metadata": {},
   "source": [
    "Sample Input:\n",
    "```mermaid\n",
    "10 3\n",
    "1 4 8\n",
    "```\n",
    "Sample Output:\n",
    "```mermaid\n",
    "9\n",
    "```"
   ]
  },
  {
   "cell_type": "code",
   "execution_count": 4,
   "metadata": {},
   "outputs": [
    {
     "name": "stdout",
     "output_type": "stream",
     "text": [
      "10 3\n",
      "1 4 8\n",
      "\n",
      "9\n"
     ]
    }
   ],
   "source": [
    "import numpy as np\n",
    "\n",
    "# preset_row = input()\n",
    "# item_row = input()\n",
    "\n",
    "# preset = list(map(int, preset_row.split()))\n",
    "# items = list(map(int, item_row.split()))\n",
    "\n",
    "input_data = [[10, 3], [1, 4, 8]]\n",
    "preset = input_data[0]\n",
    "items = input_data[1]\n",
    "\n",
    "res_matrix = np.zeros((preset[1] + 1,  preset[0] + 1))\n",
    "n_items = preset[1]\n",
    "max_weight = preset[0]\n",
    "\n",
    "for i in range(1, n_items + 1):\n",
    "    for w in range(1, max_weight + 1):\n",
    "        if items[i - 1] <= w:\n",
    "            res_matrix[i, w] = max(res_matrix[i - 1, w - items[i - 1]] + items[i - 1], res_matrix[i - 1, w])\n",
    "        else:\n",
    "            res_matrix[i, w] = res_matrix[i - 1, w]\n",
    "\n",
    "print(' '.join(list(map(str, preset))))\n",
    "print(' '.join(list(map(str, items))))\n",
    "print()\n",
    "print(int(res_matrix[-1][-1]))"
   ]
  },
  {
   "cell_type": "code",
   "execution_count": null,
   "metadata": {},
   "outputs": [],
   "source": []
  }
 ],
 "metadata": {
  "kernelspec": {
   "display_name": "Python 3.9.12 ('alg_env')",
   "language": "python",
   "name": "python3"
  },
  "language_info": {
   "codemirror_mode": {
    "name": "ipython",
    "version": 3
   },
   "file_extension": ".py",
   "mimetype": "text/x-python",
   "name": "python",
   "nbconvert_exporter": "python",
   "pygments_lexer": "ipython3",
   "version": "3.9.12"
  },
  "orig_nbformat": 4,
  "vscode": {
   "interpreter": {
    "hash": "31cea1469931c6410ea8093c7f3640ca5b79f3c79edb1ffb51202773f63cbd27"
   }
  }
 },
 "nbformat": 4,
 "nbformat_minor": 2
}
