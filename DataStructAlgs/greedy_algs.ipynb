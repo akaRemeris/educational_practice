{
 "cells": [
  {
   "cell_type": "code",
   "execution_count": 33,
   "metadata": {},
   "outputs": [],
   "source": [
    "import time\n",
    "import random\n",
    "import string"
   ]
  },
  {
   "cell_type": "code",
   "execution_count": 10,
   "metadata": {},
   "outputs": [],
   "source": [
    "def foo_time(foo, *args, n_iterations=100):\n",
    "    min_time = float('inf')\n",
    "    for _ in range(n_iterations):\n",
    "        t0 = time.perf_counter()\n",
    "        foo(*args)\n",
    "        t1 = time.perf_counter()\n",
    "        min_time = min(min_time, t1 - t0)\n",
    "    return min_time"
   ]
  },
  {
   "cell_type": "markdown",
   "metadata": {},
   "source": [
    "# Fractional knapsack"
   ]
  },
  {
   "cell_type": "markdown",
   "metadata": {},
   "source": [
    "The first line contains the number of items $1 ≤ n ≤ 10^3$ and the capacity of the knapsack $0≤W≤2⋅10^6$. Each of the next $n$ lines specifies the value $0≤c_i≤2⋅10^6$ and the weight $0<w_i≤2⋅10^6$ of the item ($n$, $W$, $c_i$, $w_i$ are integers). Return max value of items parts (any item may be fractioned with proportional value/weight decrease) may be placed in this knapsack.\n",
    "\n",
    "Sample Input:\n",
    "```mermaid\n",
    "3 50\n",
    "60 20\n",
    "100 50\n",
    "120 30\n",
    "```\n",
    "\n",
    "Sample Output:\n",
    "```mermaid\n",
    "180.000\n",
    "```\n",
    "\n",
    "<p>Time Limit: 5 секунд</p>\n",
    "<p>Memory Limit: 256 MB</p>"
   ]
  },
  {
   "cell_type": "code",
   "execution_count": 3,
   "metadata": {},
   "outputs": [
    {
     "name": "stdout",
     "output_type": "stream",
     "text": [
      "180.0\n"
     ]
    }
   ],
   "source": [
    "preset = list(map(int, input().split()))\n",
    "inp_list = []\n",
    "for _ in range(preset[0]):\n",
    "    inp_list.append(list(map(int, input().split())))\n",
    "\n",
    "def fractional_knapsack(knapsack_size, items):\n",
    "    res_free_size = knapsack_size\n",
    "    sorted_input = sorted(items, key=lambda x: x[0]/x[1], reverse=True)\n",
    "    res = 0\n",
    "\n",
    "    for el in sorted_input:\n",
    "        if res_free_size <= 0:\n",
    "            break\n",
    "        res += min(el[1], res_free_size) * el[0]/el[1]\n",
    "        res_free_size -= min(el[1], res_free_size)\n",
    "    return res\n",
    "\n",
    "print(fractional_knapsack(preset[1], inp_list))"
   ]
  },
  {
   "cell_type": "code",
   "execution_count": 4,
   "metadata": {},
   "outputs": [],
   "source": [
    "def fractional_knapsack_test():\n",
    "    assert fractional_knapsack (0, [(60, 20)]) == 0.0\n",
    "    assert fractional_knapsack(25, [(60, 20)]) == 60.0\n",
    "    assert fractional_knapsack(25, [(60, 20), (0, 100)]) == 60.0\n",
    "    assert fractional_knapsack(25, [(60, 20), (50, 50)]) == 60.0 + 5.0\n",
    "    assert fractional_knapsack(50, [(60, 20), (100, 50), (120, 30)]) == 180.0\n",
    "\n",
    "    for attempt in range(100):\n",
    "        n = random.randint(1, 1000)\n",
    "        capacity = random.randint(0, 2 * 10**6)\n",
    "        items = []\n",
    "        for i in range(n):\n",
    "            weight = random.randint(1, 2 * 10 ** 6)\n",
    "            value = random.randint(0, 2 * 10 ** 6)\n",
    "            items.append((value, weight))\n",
    "        t = foo_time(fractional_knapsack, capacity, items)\n",
    "        assert t < 5\n",
    "fractional_knapsack_test()"
   ]
  },
  {
   "cell_type": "markdown",
   "metadata": {},
   "source": [
    "# Partition problem"
   ]
  },
  {
   "cell_type": "markdown",
   "metadata": {},
   "source": [
    "By a given number $1≤n≤10^9$, find the maximum number $k$ for which $n$ can be represented as the sum of $k$ unique natural terms. Print the number $k$ in the first line, $k$ terms in the second line."
   ]
  },
  {
   "cell_type": "markdown",
   "metadata": {},
   "source": [
    "Sample Input 1:\n",
    "```mermaid\n",
    "4\n",
    "```\n",
    "Sample Output 1:\n",
    "```mermaid\n",
    "2\n",
    "1 3\n",
    "``` \n",
    "Sample Input 2:\n",
    "```mermaid\n",
    "6\n",
    "```\n",
    "Sample Output 2:\n",
    "```mermaid\n",
    "3\n",
    "1 2 3 \n",
    "```\n",
    "<p>Time Limit: 5 секунд</p>\n",
    "<p>Memory Limit: 256 MB</p>"
   ]
  },
  {
   "cell_type": "code",
   "execution_count": 6,
   "metadata": {},
   "outputs": [
    {
     "name": "stdout",
     "output_type": "stream",
     "text": [
      "3\n",
      "1 2 3\n"
     ]
    }
   ],
   "source": [
    "n = 6\n",
    "\n",
    "def create_partition(n):\n",
    "    saved_numbers = []\n",
    "    sum_accum = 0\n",
    "    while len(saved_numbers) == 0 or sum_accum < n:\n",
    "\n",
    "        if sum_accum + (len(saved_numbers) + 1)*2 >= n:\n",
    "            last_item = len(saved_numbers) + 1\n",
    "            for i in range(last_item, last_item*2 + 1):\n",
    "                if sum_accum + i >= n:\n",
    "                    saved_numbers.append(i)\n",
    "                    sum_accum += i\n",
    "                    break\n",
    "        else:\n",
    "            sum_accum += len(saved_numbers) + 1\n",
    "            saved_numbers.append(len(saved_numbers) + 1)\n",
    "\n",
    "    return saved_numbers\n",
    "\n",
    "partition = create_partition(n)\n",
    "print(len(partition))\n",
    "print(' '.join(list(map(str,partition))))"
   ]
  },
  {
   "cell_type": "code",
   "execution_count": 15,
   "metadata": {},
   "outputs": [],
   "source": [
    "def partition_test():\n",
    "    for attempt_idx in range(100):\n",
    "        n = random.randint(1, 10**9)\n",
    "        t = foo_time(create_partition, n, n_iterations=10)\n",
    "        assert t < 5\n",
    "partition_test()"
   ]
  },
  {
   "cell_type": "markdown",
   "metadata": {},
   "source": [
    "# Huffman encoding"
   ]
  },
  {
   "cell_type": "markdown",
   "metadata": {},
   "source": [
    "By a given non-empty string $s$ of length at most $10^4$, consisting of lowercase latin letters, build an optimal prefix-free code. In the first line print the number of distinct letters $k$ occurring in the string and the size of the resulting encoded string. In the next $k$ lines write the codes of the letters in the format \"letter: code\". In the last line print the whole encoded string.\n",
    "\n",
    "Sample Input 1:\n",
    "```mermaid\n",
    "a\n",
    "```\n",
    "Sample Output 1:\n",
    "```mermaid\n",
    "1 1\n",
    "a: 0\n",
    "0\n",
    "```\n",
    "Sample Input 2:\n",
    "```mermaid\n",
    "abacabad\n",
    "```\n",
    "Sample Output 2:\n",
    "```mermaid\n",
    "4 14\n",
    "a: 0\n",
    "b: 10\n",
    "c: 110\n",
    "d: 111\n",
    "01001100100111\n",
    "```"
   ]
  },
  {
   "cell_type": "code",
   "execution_count": 31,
   "metadata": {},
   "outputs": [
    {
     "name": "stdout",
     "output_type": "stream",
     "text": [
      "4 14\n",
      "c: 110\n",
      "b: 10\n",
      "a: 0\n",
      "d: 111\n",
      "01001100100111\n"
     ]
    }
   ],
   "source": [
    "class Huffman_node(object):\n",
    "    def __init__(self, label, freq, left_child=None, right_child=None, parent=None):\n",
    "        self.left_child = left_child\n",
    "        self.right_child = right_child\n",
    "        self.parent = parent\n",
    "        self.freq = freq\n",
    "        self.label = label\n",
    "        \n",
    "    def get_letter_codes(self, letter2code, res='', depth=0):\n",
    "\n",
    "        if self.left_child is None and self.right_child is None :\n",
    "            if depth > 0:\n",
    "                letter2code[self.label] = res\n",
    "            else:\n",
    "                letter2code[self.label] = res+'0'\n",
    "                \n",
    "        if self.left_child is not None:\n",
    "            self.left_child.get_letter_codes(letter2code, res+'1', depth+1)\n",
    "\n",
    "        if self.right_child is not None:\n",
    "            self.right_child.get_letter_codes(letter2code, res+'0', depth+1)\n",
    "            \n",
    "def pop_min_pair(node_dict):\n",
    "    min_freq = float('inf')\n",
    "    min_freq_key = ''\n",
    "    \n",
    "    for key in node_dict.keys():\n",
    "        if min_freq >= node_dict[key].freq:\n",
    "            min_freq = node_dict[key].freq\n",
    "            min_freq_key = key\n",
    "            \n",
    "    return (min_freq_key, node_dict.pop(min_freq_key))\n",
    "\n",
    "def encode(row, letter2code):\n",
    "    res = ''\n",
    "    for char in row:\n",
    "        res += letter2code[char]\n",
    "    return res\n",
    "\n",
    "    \n",
    "def get_huffman_code(row):\n",
    "    keys = sorted(set(row))\n",
    "    vocab = {}\n",
    "\n",
    "    for key in keys:\n",
    "        vocab[key] = row.count(key)\n",
    "    \n",
    "    node_dict = {key: Huffman_node(key, vocab[key]) for key in vocab.keys()}\n",
    "\n",
    "\n",
    "    for i in range(len(node_dict)-1):\n",
    "        left_items = pop_min_pair(node_dict)\n",
    "        right_items = pop_min_pair(node_dict)\n",
    "        \n",
    "        node_dict[left_items[0]+right_items[0]] = Huffman_node(\n",
    "            left_items[0] + right_items[0],\n",
    "            left_items[1].freq + right_items[1].freq, \n",
    "            left_child=left_items[1], \n",
    "            right_child=right_items[1]\n",
    "            )\n",
    "\n",
    "    node = node_dict.popitem()[1]\n",
    "\n",
    "    letter2code = {}\n",
    "    node.get_letter_codes(letter2code)\n",
    "\n",
    "    code = encode(row, letter2code)\n",
    "    res_str = f\"{len(set(row))} {len(code)}\\n\" + '\\n'.join([f'{letter}: {letter2code[letter]}' for letter in set(row)]) + \"\\n\" + f\"{code}\"\n",
    "    return res_str\n",
    "row = 'abacabad'\n",
    "huffman_code = get_huffman_code(row)\n",
    "print(huffman_code)"
   ]
  },
  {
   "cell_type": "markdown",
   "metadata": {},
   "source": [
    "# Huffman decoding"
   ]
  },
  {
   "cell_type": "markdown",
   "metadata": {},
   "source": [
    "Restore the original string by its code and unprefixed Huffman code.\n",
    "\n",
    "The first line of the input file contains two space-separated integers $k$ and $l$ — the number of different letters in the string and the size of the resulting encoded string, respectively. The next $k$ lines contain letter codes in the \"letter: code\" format. Neither code is a prefix of another. The letters can be listed in any order. Only lowercase letters of the Latin alphabet can be used as letters; each of these letters occurs at least once in the string. Finally, the last line contains the encoded string. The original string and codes of all letters are non-empty. The given code is such that the encoded string has the smallest possible size.\n",
    "\n",
    "In the first line of the output file print the string $s$. It must consist of lowercase letters of the Latin alphabet. It is guaranteed that the length of the correct answer does not exceed $10^4$ characters.\n",
    "\n",
    "\n",
    "Sample Input 1:\n",
    "```pyhon\n",
    "1 1\n",
    "a: 0\n",
    "0\n",
    "```\n",
    "Sample Output 1:\n",
    "```pyhon\n",
    "a\n",
    "```\n",
    "Sample Input 2:\n",
    "```pyhon\n",
    "4 14\n",
    "a: 0\n",
    "b: 10\n",
    "c: 110\n",
    "d: 111\n",
    "01001100100111\n",
    "```\n",
    "Sample Output 2:\n",
    "```pyhon\n",
    "abacabad\n",
    "```"
   ]
  },
  {
   "cell_type": "code",
   "execution_count": 34,
   "metadata": {},
   "outputs": [
    {
     "data": {
      "text/plain": [
       "'abacabad'"
      ]
     },
     "execution_count": 34,
     "metadata": {},
     "output_type": "execute_result"
    }
   ],
   "source": [
    "\n",
    "class Node(object):\n",
    "    def __init__(self, label, left_child=None, right_child=None):\n",
    "        self.left_child = left_child\n",
    "        self.right_child = right_child\n",
    "        self.label = label\n",
    "    \n",
    "def get_huffman_decode(huffman_code):\n",
    "    inp = huffman_code.splitlines()\n",
    "    preset = inp[0]\n",
    "\n",
    "    n_letters = int(list(preset.split())[0])\n",
    "    key_code_pair_list = []\n",
    "    for inp_pair in inp[1:-1]:\n",
    "        key_code_pair_list.append(inp_pair.split(': '))\n",
    "\n",
    "    inp_code = inp[-1]\n",
    "    sorted_items = sorted(key_code_pair_list, key=lambda x: len(x[1]))\n",
    "    sorted_labels = [list(item)[0] for item in sorted_items]\n",
    "    sorted_codes = [list(item)[1] for item in sorted_items]\n",
    "\n",
    "    root_node = Node('')\n",
    "\n",
    "    for label, code in zip(sorted_labels, sorted_codes):\n",
    "        current_node = root_node\n",
    "        for direction in code:\n",
    "            new_node = Node('')\n",
    "            if direction == '0':\n",
    "                if current_node.left_child is None:\n",
    "                    current_node.left_child = new_node\n",
    "                else:\n",
    "                    new_node = current_node.left_child\n",
    "            if direction == '1':\n",
    "                if current_node.right_child is None:\n",
    "                    current_node.right_child = new_node\n",
    "                else:\n",
    "                    new_node = current_node.right_child\n",
    "            current_node = new_node\n",
    "        current_node.label = label\n",
    "\n",
    "    current_node = root_node\n",
    "    res = ''\n",
    "    for direction in inp_code:\n",
    "        if direction == '0':\n",
    "            current_node = current_node.left_child\n",
    "        if direction == '1':\n",
    "            current_node = current_node.right_child\n",
    "        if current_node.label != '':\n",
    "            res += current_node.label\n",
    "            current_node = root_node\n",
    "    return res\n",
    "\n",
    "get_huffman_decode(huffman_code)"
   ]
  },
  {
   "cell_type": "code",
   "execution_count": 38,
   "metadata": {},
   "outputs": [],
   "source": [
    "def huffman_test(n_iter=100):\n",
    "    for i in range(n_iter):\n",
    "        seq_len = random.randint(1, 32)\n",
    "        src_seq = \"\".join(random.choice(string.ascii_letters) for _ in range(seq_len))\n",
    "        code = get_huffman_code(src_seq)\n",
    "        out_seq = get_huffman_decode(code)\n",
    "        assert src_seq == out_seq\n",
    "\n",
    "huffman_test()"
   ]
  },
  {
   "cell_type": "markdown",
   "metadata": {},
   "source": [
    "# Priority queue"
   ]
  },
  {
   "cell_type": "markdown",
   "metadata": {},
   "source": [
    "First input line contains the number of operations. Each of the next $n$ lines sets up an operation one of the following kinds:\n",
    "\n",
    "* Insert $x$, where $0≤x≤10^9$ — is an integer number;\n",
    "* ExtractMax.\n",
    "\n",
    "First operation adds number $x$ to the priority queue, second - extracts maximum number and prints it.\n",
    "\n",
    "Sample Input:\n",
    "```mermaid\n",
    "6\n",
    "Insert 200\n",
    "Insert 10\n",
    "ExtractMax\n",
    "Insert 5\n",
    "Insert 500\n",
    "ExtractMax\n",
    "```\n",
    "Sample Output:\n",
    "```mermaid\n",
    "200\n",
    "500\n",
    "```"
   ]
  },
  {
   "cell_type": "code",
   "execution_count": 58,
   "metadata": {},
   "outputs": [],
   "source": [
    "import sys\n",
    "from abc import ABC, abstractmethod\n",
    "\n",
    "class PriorityQueue(ABC):\n",
    "    @abstractmethod\n",
    "    def __init__(self):\n",
    "        pass\n",
    "    @abstractmethod\n",
    "    def insert(self, p):\n",
    "        pass\n",
    "    @abstractmethod\n",
    "    def get_root(self):\n",
    "        pass\n",
    "    @abstractmethod\n",
    "    def pop_heap(self):\n",
    "        pass\n",
    "\n",
    "\n",
    "class MaxHeapQueue(PriorityQueue):\n",
    "    def __init__(self, base=2):\n",
    "        self.data = []\n",
    "        self.base = base\n",
    "    \n",
    "    def _get_max_children_idx(self, idx):\n",
    "        if idx * self.base > len(self.data):\n",
    "            return None\n",
    "        left_child_idx = min(len(self.data), idx*self.base)\n",
    "        right_child_idx = min(len(self.data), idx*self.base+1)\n",
    "        if self.data[left_child_idx - 1] >= self.data[right_child_idx - 1]:\n",
    "            return left_child_idx\n",
    "        else:\n",
    "            return right_child_idx\n",
    "\n",
    "\n",
    "    def _get_parent_idx(self, idx):\n",
    "        return idx//self.base\n",
    "\n",
    "    def _descend_element(self, idx):\n",
    "        max_child_idx = self._get_max_children_idx(idx)\n",
    "        if max_child_idx is not None and self.data[idx - 1] <= self.data[max_child_idx - 1] and idx < len(self.data):\n",
    "            tmp = self.data[max_child_idx - 1]\n",
    "            self.data[max_child_idx - 1] = self.data[idx - 1]\n",
    "            self.data[idx - 1] = tmp\n",
    "            self._descend_element(max_child_idx)\n",
    "\n",
    "\n",
    "    def _ascend_element(self, idx):\n",
    "        parent_idx = self._get_parent_idx(idx)\n",
    "        if self.data[parent_idx - 1] <= self.data[idx - 1] and idx > 1 and parent_idx > 0:\n",
    "            tmp = self.data[parent_idx - 1]\n",
    "            self.data[parent_idx - 1] = self.data[idx - 1]\n",
    "            self.data[idx - 1] = tmp\n",
    "            self._ascend_element(parent_idx)\n",
    "\n",
    "    \n",
    "    def get_root(self):\n",
    "        return self.data[0]\n",
    "\n",
    "    def pop_heap(self):\n",
    "        res = self.data[0]\n",
    "        if len(self.data) > 1:\n",
    "            self.data[0] = self.data.pop()\n",
    "            self._descend_element(1)\n",
    "        else:\n",
    "            self.data.pop()\n",
    "        return res\n",
    "    \n",
    "    def insert(self, el):\n",
    "        self.data.append(el)\n",
    "        self._ascend_element(len(self.data))\n",
    "\n",
    "n_commands = int(input())\n",
    "command_list = []\n",
    "for _ in range(n_commands):\n",
    "    command_list.append(sys.stdin.readline().split())\n",
    "\n",
    "pqueue = MaxHeapQueue()\n",
    "for command in command_list:\n",
    "    if command[0] == 'Insert':\n",
    "        pqueue.insert(int(command[1]))\n",
    "    if command[0] == 'ExtractMax':\n",
    "        print(pqueue.pop_heap())"
   ]
  },
  {
   "cell_type": "code",
   "execution_count": 112,
   "metadata": {},
   "outputs": [],
   "source": [
    "import heapq\n",
    "import numpy as np"
   ]
  },
  {
   "cell_type": "code",
   "execution_count": 108,
   "metadata": {},
   "outputs": [],
   "source": [
    "class MaxHeapStd(PriorityQueue):\n",
    "    def __init__(self, data: list = []) -> None:\n",
    "        self.heap = data.copy()\n",
    "        self.heap = list(map(lambda x: -x, self.heap))\n",
    "        heapq.heapify(self.heap)\n",
    "        \n",
    "    def insert(self, p):\n",
    "        heapq.heappush(self.heap, -p)\n",
    "    \n",
    "    def get_root(self):\n",
    "        return -self.heap[0]\n",
    "    \n",
    "    def pop_heap(self):\n",
    "        return -heapq.heappop(self.heap)\n"
   ]
  },
  {
   "cell_type": "code",
   "execution_count": 152,
   "metadata": {},
   "outputs": [],
   "source": [
    "def heap_test(n_iter=1):\n",
    "    for iter_idx in range(n_iter):\n",
    "        n_operations = random.randint(0, 10**5)\n",
    "        std_out_log = []\n",
    "        custom_out_log = []\n",
    "        custom_queue = MaxHeapQueue()\n",
    "        std_queue = MaxHeapStd()\n",
    "        # 0 - cmd for inserting\n",
    "        # 1 - cmd for popping\n",
    "        commands = np.random.binomial(1, .75, size=n_operations)\n",
    "        elements_inserted = 0\n",
    "        for cmd in commands:\n",
    "            is_pop = bool(cmd)\n",
    "            if is_pop and elements_inserted:\n",
    "                custom_out_log.append(custom_queue.pop_heap())\n",
    "                std_out_log.append(std_queue.pop_heap())\n",
    "                elements_inserted -= 1\n",
    "            elif not is_pop:\n",
    "                new_element = random.randint(0, 10**9)\n",
    "                custom_queue.insert(new_element)\n",
    "                std_queue.insert(new_element)\n",
    "        assert std_out_log == custom_out_log\n",
    "\n",
    "heap_test(100)"
   ]
  },
  {
   "cell_type": "code",
   "execution_count": null,
   "metadata": {},
   "outputs": [],
   "source": []
  }
 ],
 "metadata": {
  "kernelspec": {
   "display_name": "Python 3.9.12 ('alg_env')",
   "language": "python",
   "name": "python3"
  },
  "language_info": {
   "codemirror_mode": {
    "name": "ipython",
    "version": 3
   },
   "file_extension": ".py",
   "mimetype": "text/x-python",
   "name": "python",
   "nbconvert_exporter": "python",
   "pygments_lexer": "ipython3",
   "version": "3.9.12"
  },
  "orig_nbformat": 4,
  "vscode": {
   "interpreter": {
    "hash": "31cea1469931c6410ea8093c7f3640ca5b79f3c79edb1ffb51202773f63cbd27"
   }
  }
 },
 "nbformat": 4,
 "nbformat_minor": 2
}
