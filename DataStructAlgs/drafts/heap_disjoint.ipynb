{
 "cells": [
  {
   "cell_type": "code",
   "execution_count": 7,
   "metadata": {},
   "outputs": [
    {
     "data": {
      "text/plain": [
       "0.6000000000000014"
      ]
     },
     "execution_count": 7,
     "metadata": {},
     "output_type": "execute_result"
    }
   ],
   "source": [
    "4.2 * 3 % 1"
   ]
  },
  {
   "cell_type": "code",
   "execution_count": 197,
   "metadata": {},
   "outputs": [],
   "source": [
    "n_els = 6\n",
    "row = '7 6 5 4 3 2'"
   ]
  },
  {
   "cell_type": "code",
   "execution_count": 198,
   "metadata": {},
   "outputs": [],
   "source": [
    "tree = list(map(int, row.split()))"
   ]
  },
  {
   "cell_type": "code",
   "execution_count": 199,
   "metadata": {},
   "outputs": [],
   "source": [
    "def get_parent_el_idx(idx):\n",
    "    return (idx + 1)//2 - 1"
   ]
  },
  {
   "cell_type": "code",
   "execution_count": 200,
   "metadata": {},
   "outputs": [],
   "source": [
    "def swap_nodes(tree, fst_idx, snd_idx, swap_mem):\n",
    "    swap_mem.append([snd_idx, fst_idx])\n",
    "    tree[fst_idx], tree[snd_idx] = tree[snd_idx], tree[fst_idx]\n",
    "    "
   ]
  },
  {
   "cell_type": "code",
   "execution_count": 201,
   "metadata": {},
   "outputs": [],
   "source": [
    "def get_min_child_idx(tree, idx):\n",
    "    if (idx + 1) * 2 > len(tree):\n",
    "        return None\n",
    "    left_child_idx = min(len(tree) - 1, (idx + 1)*2 - 1)\n",
    "    right_child_idx = min(len(tree) - 1, (idx + 1)*2)\n",
    "    if tree[left_child_idx] < tree[right_child_idx]:\n",
    "        return left_child_idx\n",
    "    else:\n",
    "        return right_child_idx"
   ]
  },
  {
   "cell_type": "code",
   "execution_count": 202,
   "metadata": {},
   "outputs": [],
   "source": [
    "def descend_element(tree, idx, swap_mem):\n",
    "    min_child_idx = get_min_child_idx(tree, idx)\n",
    "    if min_child_idx is not None and tree[idx] > tree[min_child_idx] and idx < len(tree):\n",
    "        swap_nodes(tree, min_child_idx, idx, swap_mem)\n",
    "        descend_element(tree, min_child_idx, swap_mem)"
   ]
  },
  {
   "cell_type": "code",
   "execution_count": 203,
   "metadata": {},
   "outputs": [],
   "source": [
    "swap_mem = []\n",
    "current_children_border = n_els\n",
    "while current_children_border > 0:\n",
    "    parent_el_idx  = get_parent_el_idx(current_children_border)\n",
    "    descend_element(tree, parent_el_idx, swap_mem)\n",
    "    current_children_border -= 2"
   ]
  },
  {
   "cell_type": "code",
   "execution_count": 204,
   "metadata": {},
   "outputs": [
    {
     "data": {
      "text/plain": [
       "[2, 3, 5, 4, 6, 7]"
      ]
     },
     "execution_count": 204,
     "metadata": {},
     "output_type": "execute_result"
    }
   ],
   "source": [
    "tree"
   ]
  },
  {
   "cell_type": "code",
   "execution_count": 209,
   "metadata": {},
   "outputs": [
    {
     "name": "stdout",
     "output_type": "stream",
     "text": [
      "4\n",
      "2 5\n",
      "1 4\n",
      "0 2\n",
      "2 5\n"
     ]
    }
   ],
   "source": [
    "print(len(swap_mem))\n",
    "for i in range(len(swap_mem)):\n",
    "    print(' '.join(list(map(str, swap_mem[i]))))"
   ]
  }
 ],
 "metadata": {
  "kernelspec": {
   "display_name": "Python 3.9.12 ('alg_env')",
   "language": "python",
   "name": "python3"
  },
  "language_info": {
   "codemirror_mode": {
    "name": "ipython",
    "version": 3
   },
   "file_extension": ".py",
   "mimetype": "text/x-python",
   "name": "python",
   "nbconvert_exporter": "python",
   "pygments_lexer": "ipython3",
   "version": "3.9.12"
  },
  "orig_nbformat": 4,
  "vscode": {
   "interpreter": {
    "hash": "31cea1469931c6410ea8093c7f3640ca5b79f3c79edb1ffb51202773f63cbd27"
   }
  }
 },
 "nbformat": 4,
 "nbformat_minor": 2
}
