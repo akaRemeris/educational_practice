{
 "cells": [
  {
   "cell_type": "code",
   "execution_count": 1,
   "metadata": {},
   "outputs": [],
   "source": [
    "from abc import ABC, abstractmethod\n",
    "from collections import OrderedDict\n",
    "\n",
    "class HashTable(ABC):\n",
    "    @abstractmethod\n",
    "    def __init__(self):\n",
    "        pass\n",
    "    @abstractmethod\n",
    "    def add(self):\n",
    "        pass\n",
    "    @abstractmethod\n",
    "    def find(self):\n",
    "        pass\n",
    "    @abstractmethod\n",
    "    def delete(self):\n",
    "        pass"
   ]
  },
  {
   "cell_type": "code",
   "execution_count": 2,
   "metadata": {},
   "outputs": [],
   "source": [
    "class DirectHashTable(HashTable):\n",
    "    def __init__(self):\n",
    "        self.data = OrderedDict()\n",
    "    \n",
    "    def add(self, hash, name):\n",
    "        self.data[hash] = name\n",
    "    \n",
    "    def find(self, hash):\n",
    "        if hash not in self.data:\n",
    "            print('not found')\n",
    "        else:\n",
    "            return self.data[hash]\n",
    "    \n",
    "    def delete(self, hash):\n",
    "        if hash in self.data:\n",
    "            del self.data[hash]"
   ]
  },
  {
   "cell_type": "code",
   "execution_count": 8,
   "metadata": {},
   "outputs": [],
   "source": [
    "phone_book = DirectHashTable()"
   ]
  },
  {
   "cell_type": "code",
   "execution_count": 9,
   "metadata": {},
   "outputs": [],
   "source": [
    "phone_book.add(911, 'police')"
   ]
  },
  {
   "cell_type": "code",
   "execution_count": 10,
   "metadata": {},
   "outputs": [
    {
     "data": {
      "text/plain": [
       "'police'"
      ]
     },
     "execution_count": 10,
     "metadata": {},
     "output_type": "execute_result"
    }
   ],
   "source": [
    "phone_book.find(911)"
   ]
  },
  {
   "cell_type": "markdown",
   "metadata": {},
   "source": [
    "### Chain-hash"
   ]
  },
  {
   "cell_type": "code",
   "execution_count": 3,
   "metadata": {},
   "outputs": [],
   "source": [
    "from collections import deque"
   ]
  },
  {
   "cell_type": "code",
   "execution_count": 4,
   "metadata": {},
   "outputs": [],
   "source": [
    "from collections import OrderedDict"
   ]
  },
  {
   "cell_type": "code",
   "execution_count": 5,
   "metadata": {},
   "outputs": [],
   "source": [
    "class ChainTable(HashTable):\n",
    "    def __init__(self):\n",
    "        self.data = dict()\n",
    "    \n",
    "    def add(self, row, hash):\n",
    "        if hash in self.data:\n",
    "            if row not in self.data[hash]:\n",
    "                self.data[hash].appendleft(row)\n",
    "        else:\n",
    "            self.data[hash] = deque([row])\n",
    "    \n",
    "    def find(self, row, hash):\n",
    "        if hash in self.data:\n",
    "            if row in self.data[hash]:\n",
    "                return 'yes'\n",
    "        return 'no'\n",
    "    \n",
    "    def delete(self, row, hash):\n",
    "        if hash in self.data:\n",
    "            while row in self.data[hash]:\n",
    "                self.data[hash].remove(row)\n",
    "            \n",
    "    def print_rows(self, hash):\n",
    "        if hash in self.data:\n",
    "            print('printing')\n",
    "            print(' '.join(self.data[hash]))"
   ]
  },
  {
   "cell_type": "code",
   "execution_count": 155,
   "metadata": {},
   "outputs": [],
   "source": [
    "sample_set.add('3')"
   ]
  },
  {
   "cell_type": "code",
   "execution_count": null,
   "metadata": {},
   "outputs": [],
   "source": []
  },
  {
   "cell_type": "code",
   "execution_count": 163,
   "metadata": {},
   "outputs": [
    {
     "data": {
      "text/plain": [
       "['4', '3', '2']"
      ]
     },
     "execution_count": 163,
     "metadata": {},
     "output_type": "execute_result"
    }
   ],
   "source": [
    "list(sample_set)"
   ]
  },
  {
   "cell_type": "code",
   "execution_count": 147,
   "metadata": {},
   "outputs": [],
   "source": [
    "sample_queue = deque(['a', 'g', 'a', 'b', 'c'])"
   ]
  },
  {
   "cell_type": "code",
   "execution_count": 149,
   "metadata": {},
   "outputs": [],
   "source": [
    "sample_queue.remove('a')"
   ]
  },
  {
   "cell_type": "code",
   "execution_count": 150,
   "metadata": {},
   "outputs": [
    {
     "data": {
      "text/plain": [
       "deque(['g', 'a', 'b', 'c'])"
      ]
     },
     "execution_count": 150,
     "metadata": {},
     "output_type": "execute_result"
    }
   ],
   "source": [
    "sample_queue"
   ]
  },
  {
   "cell_type": "code",
   "execution_count": 139,
   "metadata": {},
   "outputs": [],
   "source": [
    "sample_list = [i for i in range(int(5e4))]\n",
    "sample_queue = deque([i for i in range(int(5e4))])"
   ]
  },
  {
   "cell_type": "code",
   "execution_count": 135,
   "metadata": {},
   "outputs": [
    {
     "data": {
      "text/plain": [
       "3"
      ]
     },
     "execution_count": 135,
     "metadata": {},
     "output_type": "execute_result"
    }
   ],
   "source": [
    "sample_queue[2]"
   ]
  },
  {
   "cell_type": "code",
   "execution_count": 134,
   "metadata": {},
   "outputs": [],
   "source": [
    "sample_queue.remove(2)"
   ]
  },
  {
   "cell_type": "code",
   "execution_count": 127,
   "metadata": {},
   "outputs": [
    {
     "name": "stdout",
     "output_type": "stream",
     "text": [
      "CPU times: total: 0 ns\n",
      "Wall time: 4.98 ms\n"
     ]
    }
   ],
   "source": [
    "%%time\n",
    "while sample_list:\n",
    "    sample_list.pop()"
   ]
  },
  {
   "cell_type": "code",
   "execution_count": 130,
   "metadata": {},
   "outputs": [
    {
     "name": "stdout",
     "output_type": "stream",
     "text": [
      "CPU times: total: 250 ms\n",
      "Wall time: 258 ms\n"
     ]
    }
   ],
   "source": [
    "%%time\n",
    "while sample_list:\n",
    "    sample_list.pop(0)"
   ]
  },
  {
   "cell_type": "code",
   "execution_count": 131,
   "metadata": {},
   "outputs": [
    {
     "name": "stdout",
     "output_type": "stream",
     "text": [
      "CPU times: total: 15.6 ms\n",
      "Wall time: 8.01 ms\n"
     ]
    }
   ],
   "source": [
    "%%time\n",
    "while sample_queue:\n",
    "    sample_queue.popleft()"
   ]
  },
  {
   "cell_type": "code",
   "execution_count": 141,
   "metadata": {},
   "outputs": [
    {
     "name": "stdout",
     "output_type": "stream",
     "text": [
      "CPU times: total: 0 ns\n",
      "Wall time: 7.98 ms\n"
     ]
    }
   ],
   "source": [
    "%%time\n",
    "for i in range(int(5e4)):\n",
    "    sample_queue.remove(i)"
   ]
  },
  {
   "cell_type": "code",
   "execution_count": 120,
   "metadata": {},
   "outputs": [],
   "source": [
    "sample_set.add('4')"
   ]
  },
  {
   "cell_type": "code",
   "execution_count": 73,
   "metadata": {},
   "outputs": [],
   "source": [
    "p = 1e9 + 7"
   ]
  },
  {
   "cell_type": "code",
   "execution_count": 11,
   "metadata": {},
   "outputs": [],
   "source": [
    "x = 263"
   ]
  },
  {
   "cell_type": "code",
   "execution_count": 12,
   "metadata": {},
   "outputs": [],
   "source": [
    "m = 5"
   ]
  },
  {
   "cell_type": "code",
   "execution_count": 13,
   "metadata": {},
   "outputs": [],
   "source": [
    "row = 'world'"
   ]
  },
  {
   "cell_type": "code",
   "execution_count": 14,
   "metadata": {},
   "outputs": [
    {
     "data": {
      "text/plain": [
       "[119, 111, 114, 108, 100]"
      ]
     },
     "execution_count": 14,
     "metadata": {},
     "output_type": "execute_result"
    }
   ],
   "source": [
    "row_encoded = list(map(ord, list(row)))\n",
    "row_encoded"
   ]
  },
  {
   "cell_type": "code",
   "execution_count": 115,
   "metadata": {},
   "outputs": [
    {
     "data": {
      "text/plain": [
       "(97, 98)"
      ]
     },
     "execution_count": 115,
     "metadata": {},
     "output_type": "execute_result"
    }
   ],
   "source": [
    "ord('a'), ord('b')"
   ]
  },
  {
   "cell_type": "code",
   "execution_count": 6,
   "metadata": {},
   "outputs": [],
   "source": [
    "def polinom_hash(row, m = 5, p = 1e9 + 7, x = 263):\n",
    "    row_encoded = list(map(ord, list(row)))\n",
    "    x_mod_powered = 1\n",
    "    hash = 0\n",
    "    for i in range(len(row_encoded)):\n",
    "        hash += (((row_encoded[i] % p) * (x_mod_powered % p)) % p)\n",
    "        x_mod_powered = x_mod_powered % p * x % p\n",
    "    hash = (hash % p)\n",
    "    return int(hash)"
   ]
  },
  {
   "cell_type": "code",
   "execution_count": 127,
   "metadata": {},
   "outputs": [
    {
     "data": {
      "text/plain": [
       "853306522"
      ]
     },
     "execution_count": 127,
     "metadata": {},
     "output_type": "execute_result"
    }
   ],
   "source": [
    "polinom_hash('aaaaa')"
   ]
  },
  {
   "cell_type": "code",
   "execution_count": 139,
   "metadata": {},
   "outputs": [
    {
     "data": {
      "text/plain": [
       "853306522.0"
      ]
     },
     "execution_count": 139,
     "metadata": {},
     "output_type": "execute_result"
    }
   ],
   "source": [
    "res_poli = (97 + 97 * 263 + 97 * 263**2 + 97 * 263**3 + 97 * 263**4) % p\n",
    "res_poli"
   ]
  },
  {
   "cell_type": "code",
   "execution_count": 138,
   "metadata": {},
   "outputs": [
    {
     "data": {
      "text/plain": [
       "853306522.0"
      ]
     },
     "execution_count": 138,
     "metadata": {},
     "output_type": "execute_result"
    }
   ],
   "source": [
    "(((res_poli - 97))/263 + 97 * 263 ** 4)% p"
   ]
  },
  {
   "cell_type": "code",
   "execution_count": null,
   "metadata": {},
   "outputs": [],
   "source": [
    "97 + 97 * 263 + 97 * 263**2 + 97 * 263**3 + 98 * 263**4"
   ]
  },
  {
   "cell_type": "code",
   "execution_count": 7,
   "metadata": {},
   "outputs": [
    {
     "data": {
      "text/plain": [
       "True"
      ]
     },
     "execution_count": 7,
     "metadata": {},
     "output_type": "execute_result"
    }
   ],
   "source": [
    "polinom_hash('ilvpygszwdeurjn', 25000) % 25000 == 9134"
   ]
  },
  {
   "cell_type": "code",
   "execution_count": 218,
   "metadata": {},
   "outputs": [],
   "source": [
    "phone_book = ChainTable()"
   ]
  },
  {
   "cell_type": "code",
   "execution_count": 220,
   "metadata": {},
   "outputs": [],
   "source": [
    "row = 'HellO'\n",
    "hash = polinom_hash(row)\n",
    "phone_book.add(row, hash)"
   ]
  },
  {
   "cell_type": "code",
   "execution_count": 221,
   "metadata": {},
   "outputs": [
    {
     "data": {
      "text/plain": [
       "{4: deque(['HellO', 'world'])}"
      ]
     },
     "execution_count": 221,
     "metadata": {},
     "output_type": "execute_result"
    }
   ],
   "source": [
    "phone_book.data"
   ]
  },
  {
   "cell_type": "code",
   "execution_count": 222,
   "metadata": {},
   "outputs": [
    {
     "name": "stdout",
     "output_type": "stream",
     "text": [
      "printing\n",
      "HellO world\n"
     ]
    }
   ],
   "source": [
    "phone_book.print_rows(4)"
   ]
  },
  {
   "cell_type": "markdown",
   "metadata": {},
   "source": [
    "### Custom Ctrl-F"
   ]
  },
  {
   "cell_type": "markdown",
   "metadata": {},
   "source": [
    "#### Naive\n",
    "O(|R| * |P|)"
   ]
  },
  {
   "cell_type": "code",
   "execution_count": 64,
   "metadata": {},
   "outputs": [],
   "source": [
    "pattern = 'aaaaa'\n",
    "row = 'baaaaaaa'"
   ]
  },
  {
   "cell_type": "code",
   "execution_count": 65,
   "metadata": {},
   "outputs": [],
   "source": [
    "def find_entries_naive(row, pattern): \n",
    "    res = []\n",
    "    for i in range(len(row) - len(pattern) + 1):\n",
    "        if row[i: i + len(pattern)] == pattern:\n",
    "            res.append(i)\n",
    "    return res"
   ]
  },
  {
   "cell_type": "code",
   "execution_count": 66,
   "metadata": {},
   "outputs": [
    {
     "data": {
      "text/plain": [
       "[1, 2, 3]"
      ]
     },
     "execution_count": 66,
     "metadata": {},
     "output_type": "execute_result"
    }
   ],
   "source": [
    "find_entries_naive(row, pattern)"
   ]
  },
  {
   "cell_type": "markdown",
   "metadata": {},
   "source": [
    "#### Optimal"
   ]
  },
  {
   "cell_type": "code",
   "execution_count": 67,
   "metadata": {},
   "outputs": [
    {
     "ename": "TypeError",
     "evalue": "cannot convert dictionary update sequence element #0 to a sequence",
     "output_type": "error",
     "traceback": [
      "\u001b[1;31m---------------------------------------------------------------------------\u001b[0m",
      "\u001b[1;31mTypeError\u001b[0m                                 Traceback (most recent call last)",
      "\u001b[1;32mc:\\Users\\Uer\\Documents\\JN\\algs_n_data_structs\\hash_tables.ipynb Ячейка 41\u001b[0m in \u001b[0;36m<cell line: 1>\u001b[1;34m()\u001b[0m\n\u001b[1;32m----> <a href='vscode-notebook-cell:/c%3A/Users/Uer/Documents/JN/algs_n_data_structs/hash_tables.ipynb#ch0000040?line=0'>1</a>\u001b[0m \u001b[39mdict\u001b[39;49m((\u001b[39m2\u001b[39;49m, \u001b[39m3\u001b[39;49m))\n",
      "\u001b[1;31mTypeError\u001b[0m: cannot convert dictionary update sequence element #0 to a sequence"
     ]
    }
   ],
   "source": [
    "dict((2, 3))"
   ]
  },
  {
   "cell_type": "code",
   "execution_count": 140,
   "metadata": {},
   "outputs": [
    {
     "data": {
      "text/plain": [
       "'aaaaa'"
      ]
     },
     "execution_count": 140,
     "metadata": {},
     "output_type": "execute_result"
    }
   ],
   "source": []
  },
  {
   "cell_type": "code",
   "execution_count": 68,
   "metadata": {},
   "outputs": [],
   "source": [
    "class ChainTable(HashTable):\n",
    "    def __init__(self):\n",
    "        self.data = dict()\n",
    "    \n",
    "    def add(self, row, hash):\n",
    "        if hash in self.data:\n",
    "            if row not in self.data[hash]:\n",
    "                self.data[hash].appendleft(row)\n",
    "        else:\n",
    "            self.data[hash] = deque([row])\n",
    "    \n",
    "    def find(self, row, hash):\n",
    "        if hash in self.data:\n",
    "            if row in self.data[hash]:\n",
    "                return 'yes'\n",
    "        return 'no'\n",
    "    \n",
    "    def delete(self, row, hash):\n",
    "        if hash in self.data:\n",
    "            while row in self.data[hash]:\n",
    "                self.data[hash].remove(row)\n",
    "            \n",
    "    def print_rows(self, hash):\n",
    "        if hash in self.data:\n",
    "            print('printing')\n",
    "            print(' '.join(self.data[hash]))"
   ]
  },
  {
   "cell_type": "code",
   "execution_count": 69,
   "metadata": {},
   "outputs": [],
   "source": [
    "m_value = len(row) - len(pattern) + 1"
   ]
  },
  {
   "cell_type": "code",
   "execution_count": 70,
   "metadata": {},
   "outputs": [],
   "source": [
    "pattern_hash = polinom_hash(pattern, m_value)"
   ]
  },
  {
   "cell_type": "code",
   "execution_count": 14,
   "metadata": {},
   "outputs": [
    {
     "data": {
      "text/plain": [
       "6735264"
      ]
     },
     "execution_count": 14,
     "metadata": {},
     "output_type": "execute_result"
    }
   ],
   "source": [
    "polinom_hash('aba', m_value)"
   ]
  },
  {
   "cell_type": "code",
   "execution_count": 15,
   "metadata": {},
   "outputs": [
    {
     "data": {
      "text/plain": [
       "6873340"
      ]
     },
     "execution_count": 15,
     "metadata": {},
     "output_type": "execute_result"
    }
   ],
   "source": [
    "polinom_hash('bac', m_value)"
   ]
  },
  {
   "cell_type": "code",
   "execution_count": 100,
   "metadata": {},
   "outputs": [
    {
     "data": {
      "text/plain": [
       "'baaaa'"
      ]
     },
     "execution_count": 100,
     "metadata": {},
     "output_type": "execute_result"
    }
   ],
   "source": [
    "row[:len(pattern)]"
   ]
  },
  {
   "cell_type": "code",
   "execution_count": 143,
   "metadata": {},
   "outputs": [
    {
     "data": {
      "text/plain": [
       "853306522"
      ]
     },
     "execution_count": 143,
     "metadata": {},
     "output_type": "execute_result"
    }
   ],
   "source": [
    "last_hash = polinom_hash(row[1:1+len(pattern)], m_value, p)\n",
    "last_hash"
   ]
  },
  {
   "cell_type": "code",
   "execution_count": 144,
   "metadata": {},
   "outputs": [
    {
     "data": {
      "text/plain": [
       "2"
      ]
     },
     "execution_count": 144,
     "metadata": {},
     "output_type": "execute_result"
    }
   ],
   "source": [
    "last_hash % m_value"
   ]
  },
  {
   "cell_type": "code",
   "execution_count": 151,
   "metadata": {},
   "outputs": [
    {
     "data": {
      "text/plain": [
       "deque([2, 3])"
      ]
     },
     "execution_count": 151,
     "metadata": {},
     "output_type": "execute_result"
    }
   ],
   "source": [
    "sample_set = {2, 3}\n",
    "sample_set.add(2)\n",
    "deque(sample_set)"
   ]
  },
  {
   "cell_type": "code",
   "execution_count": 148,
   "metadata": {},
   "outputs": [
    {
     "data": {
      "text/plain": [
       "2.0"
      ]
     },
     "execution_count": 148,
     "metadata": {},
     "output_type": "execute_result"
    }
   ],
   "source": [
    "(((last_hash - ord('a') * mem_power_mod(263, len(pattern) - 1, p)%p)%p * 263%p)%p + ord('b')%p) % p % m_value\n"
   ]
  },
  {
   "cell_type": "code",
   "execution_count": 146,
   "metadata": {},
   "outputs": [
    {
     "data": {
      "text/plain": [
       "3.0"
      ]
     },
     "execution_count": 146,
     "metadata": {},
     "output_type": "execute_result"
    }
   ],
   "source": [
    "((last_hash - ord('a') * 263**4) * 263 + ord('b')) % p % m_value\n"
   ]
  },
  {
   "cell_type": "code",
   "execution_count": 114,
   "metadata": {},
   "outputs": [
    {
     "data": {
      "text/plain": [
       "2.0"
      ]
     },
     "execution_count": 114,
     "metadata": {},
     "output_type": "execute_result"
    }
   ],
   "source": [
    "((last_hash - ord('a')) + ord('a') * 263 ** 4) % p % m_value"
   ]
  },
  {
   "cell_type": "code",
   "execution_count": 20,
   "metadata": {},
   "outputs": [
    {
     "ename": "NameError",
     "evalue": "name 'p' is not defined",
     "output_type": "error",
     "traceback": [
      "\u001b[1;31m---------------------------------------------------------------------------\u001b[0m",
      "\u001b[1;31mNameError\u001b[0m                                 Traceback (most recent call last)",
      "\u001b[1;32mc:\\Users\\Uer\\Documents\\JN\\algs_n_data_structs\\hash_tables.ipynb Ячейка 52\u001b[0m in \u001b[0;36m<cell line: 1>\u001b[1;34m()\u001b[0m\n\u001b[1;32m----> <a href='vscode-notebook-cell:/c%3A/Users/Uer/Documents/JN/algs_n_data_structs/hash_tables.ipynb#ch0000051?line=0'>1</a>\u001b[0m pattern_hash \u001b[39m=\u001b[39m \u001b[39mint\u001b[39m((((((pattern_hash \u001b[39m%\u001b[39m p \u001b[39m-\u001b[39m \u001b[39mord\u001b[39m(\u001b[39m'\u001b[39m\u001b[39ma\u001b[39m\u001b[39m'\u001b[39m) \u001b[39m%\u001b[39m p) \u001b[39m%\u001b[39m p) \u001b[39m/\u001b[39m (x \u001b[39m%\u001b[39m p)) \u001b[39m%\u001b[39m p \u001b[39m+\u001b[39m ((\u001b[39mord\u001b[39m(\u001b[39m'\u001b[39m\u001b[39mb\u001b[39m\u001b[39m'\u001b[39m) \u001b[39m%\u001b[39m p) \u001b[39m*\u001b[39m (mem_power_mod(\u001b[39m263\u001b[39m, \u001b[39m2\u001b[39m, p) \u001b[39m%\u001b[39m p))\u001b[39m%\u001b[39m p) \u001b[39m%\u001b[39m p))\n\u001b[0;32m      <a href='vscode-notebook-cell:/c%3A/Users/Uer/Documents/JN/algs_n_data_structs/hash_tables.ipynb#ch0000051?line=1'>2</a>\u001b[0m pattern_hash\n",
      "\u001b[1;31mNameError\u001b[0m: name 'p' is not defined"
     ]
    }
   ],
   "source": [
    "pattern_hash = int((((((pattern_hash % p - ord('a') % p) % p) / (x % p)) % p + ((ord('b') % p) * (mem_power_mod(263, 2, p) % p))% p) % p))\n",
    "pattern_hash"
   ]
  },
  {
   "cell_type": "code",
   "execution_count": 63,
   "metadata": {},
   "outputs": [
    {
     "data": {
      "text/plain": [
       "2"
      ]
     },
     "execution_count": 63,
     "metadata": {},
     "output_type": "execute_result"
    }
   ],
   "source": [
    "polinom_hash('aaaaa', m_value) % 5"
   ]
  },
  {
   "cell_type": "code",
   "execution_count": 22,
   "metadata": {},
   "outputs": [
    {
     "ename": "NameError",
     "evalue": "name 'last_hash' is not defined",
     "output_type": "error",
     "traceback": [
      "\u001b[1;31m---------------------------------------------------------------------------\u001b[0m",
      "\u001b[1;31mNameError\u001b[0m                                 Traceback (most recent call last)",
      "\u001b[1;32mc:\\Users\\Uer\\Documents\\JN\\algs_n_data_structs\\hash_tables.ipynb Ячейка 54\u001b[0m in \u001b[0;36m<cell line: 1>\u001b[1;34m()\u001b[0m\n\u001b[1;32m----> <a href='vscode-notebook-cell:/c%3A/Users/Uer/Documents/JN/algs_n_data_structs/hash_tables.ipynb#ch0000053?line=0'>1</a>\u001b[0m ((((last_hash \u001b[39m%\u001b[39m p \u001b[39m-\u001b[39m (\u001b[39mord\u001b[39m(\u001b[39m'\u001b[39m\u001b[39ma\u001b[39m\u001b[39m'\u001b[39m) \u001b[39m%\u001b[39m p \u001b[39m*\u001b[39m mem_power_mod(\u001b[39m263\u001b[39m, \u001b[39m2\u001b[39m, p) \u001b[39m%\u001b[39m p) \u001b[39m%\u001b[39m p) \u001b[39m%\u001b[39m p \u001b[39m*\u001b[39m x \u001b[39m%\u001b[39m p) \u001b[39m%\u001b[39m p \u001b[39m+\u001b[39m \u001b[39mord\u001b[39m(\u001b[39m'\u001b[39m\u001b[39mc\u001b[39m\u001b[39m'\u001b[39m) \u001b[39m%\u001b[39m p) \u001b[39m%\u001b[39m p) \u001b[39m%\u001b[39m m_value\n",
      "\u001b[1;31mNameError\u001b[0m: name 'last_hash' is not defined"
     ]
    }
   ],
   "source": [
    "((((last_hash % p - (ord('a') % p * mem_power_mod(263, 2, p) % p) % p) % p * x % p) % p + ord('c') % p) % p) % m_value"
   ]
  },
  {
   "cell_type": "code",
   "execution_count": 23,
   "metadata": {},
   "outputs": [
    {
     "ename": "NameError",
     "evalue": "name 'hash_table' is not defined",
     "output_type": "error",
     "traceback": [
      "\u001b[1;31m---------------------------------------------------------------------------\u001b[0m",
      "\u001b[1;31mNameError\u001b[0m                                 Traceback (most recent call last)",
      "\u001b[1;32mc:\\Users\\Uer\\Documents\\JN\\algs_n_data_structs\\hash_tables.ipynb Ячейка 55\u001b[0m in \u001b[0;36m<cell line: 1>\u001b[1;34m()\u001b[0m\n\u001b[1;32m----> <a href='vscode-notebook-cell:/c%3A/Users/Uer/Documents/JN/algs_n_data_structs/hash_tables.ipynb#ch0000054?line=0'>1</a>\u001b[0m hash_table\u001b[39m.\u001b[39madd(row[:\u001b[39m3\u001b[39m], polinom_hash(row[:\u001b[39m3\u001b[39m], m_value) \u001b[39m%\u001b[39m m_value)\n",
      "\u001b[1;31mNameError\u001b[0m: name 'hash_table' is not defined"
     ]
    }
   ],
   "source": [
    "hash_table.add(row[:3], polinom_hash(row[:3], m_value) % m_value)"
   ]
  },
  {
   "cell_type": "code",
   "execution_count": 24,
   "metadata": {},
   "outputs": [],
   "source": [
    "last_hash = polinom_hash(row[:3], m_value)"
   ]
  },
  {
   "cell_type": "code",
   "execution_count": 25,
   "metadata": {},
   "outputs": [
    {
     "ename": "NameError",
     "evalue": "name 'hash_table' is not defined",
     "output_type": "error",
     "traceback": [
      "\u001b[1;31m---------------------------------------------------------------------------\u001b[0m",
      "\u001b[1;31mNameError\u001b[0m                                 Traceback (most recent call last)",
      "\u001b[1;32mc:\\Users\\Uer\\Documents\\JN\\algs_n_data_structs\\hash_tables.ipynb Ячейка 57\u001b[0m in \u001b[0;36m<cell line: 1>\u001b[1;34m()\u001b[0m\n\u001b[1;32m----> <a href='vscode-notebook-cell:/c%3A/Users/Uer/Documents/JN/algs_n_data_structs/hash_tables.ipynb#ch0000056?line=0'>1</a>\u001b[0m hash_table\u001b[39m.\u001b[39mdata\n",
      "\u001b[1;31mNameError\u001b[0m: name 'hash_table' is not defined"
     ]
    }
   ],
   "source": [
    "hash_table.data"
   ]
  },
  {
   "cell_type": "code",
   "execution_count": 26,
   "metadata": {},
   "outputs": [],
   "source": [
    "def mem_power_mod(base, end_exp, mod, start_val=1, start_exp=0):\n",
    "    res = start_val\n",
    "    for i in range(start_exp, end_exp):\n",
    "        res = (res % mod) * base % mod\n",
    "    return res"
   ]
  },
  {
   "cell_type": "code",
   "execution_count": 27,
   "metadata": {},
   "outputs": [
    {
     "data": {
      "text/plain": [
       "748754383.0"
      ]
     },
     "execution_count": 27,
     "metadata": {},
     "output_type": "execute_result"
    }
   ],
   "source": [
    "mem_power_mod(263, 15, 1e9 + 7, 284188737, 5)"
   ]
  },
  {
   "cell_type": "code",
   "execution_count": 33,
   "metadata": {},
   "outputs": [],
   "source": [
    "\n",
    "def fill_hash_table(row, hash_table, m_value, last_hash, x, p, pattern_len):\n",
    "    x_powered = mem_power_mod(x, pattern_len - 1, p)\n",
    "    for i in range(m_value - 1):\n",
    "        t_i = ord(row[i])\n",
    "        t_iP = ord(row[i + pattern_len])\n",
    "        last_hash = int(((int(((last_hash % p - t_i % p) % p) / (x % p)) % p + ((t_iP % p) * (x_powered % p))% p) % p))       \n",
    "        hash_table.add(i+1, last_hash % m_value)"
   ]
  },
  {
   "cell_type": "code",
   "execution_count": 53,
   "metadata": {},
   "outputs": [],
   "source": [
    "hash_table = ChainTable()\n",
    "last_hash = polinom_hash(row[:len(pattern)], m_value)\n",
    "hash_table.add(0 , last_hash % m_value)\n",
    "fill_hash_table(row, hash_table, m_value, last_hash, x=263, p=1e9 + 7, pattern_len=len(pattern))"
   ]
  },
  {
   "cell_type": "code",
   "execution_count": 59,
   "metadata": {},
   "outputs": [
    {
     "data": {
      "text/plain": [
       "{4: deque([4, 0]), 0: deque([1]), 2: deque([3, 2])}"
      ]
     },
     "execution_count": 59,
     "metadata": {},
     "output_type": "execute_result"
    }
   ],
   "source": [
    "hash_table.data"
   ]
  },
  {
   "cell_type": "code",
   "execution_count": 55,
   "metadata": {},
   "outputs": [],
   "source": [
    "dict(a = 2).get('b', )"
   ]
  },
  {
   "cell_type": "code",
   "execution_count": 56,
   "metadata": {},
   "outputs": [
    {
     "data": {
      "text/plain": [
       "4"
      ]
     },
     "execution_count": 56,
     "metadata": {},
     "output_type": "execute_result"
    }
   ],
   "source": [
    "pattern_hash % m_value"
   ]
  },
  {
   "cell_type": "code",
   "execution_count": 61,
   "metadata": {},
   "outputs": [],
   "source": [
    "res = []\n",
    "entries = hash_table.data.get(pattern_hash % m_value, []).copy()\n",
    "while entries:\n",
    "    entry = entries.pop()\n",
    "    i = 0\n",
    "    while row[entry + i] == pattern[i]:\n",
    "        i += 1\n",
    "    if i == len(pattern):\n",
    "        res.append(entry)"
   ]
  },
  {
   "cell_type": "code",
   "execution_count": 62,
   "metadata": {},
   "outputs": [
    {
     "data": {
      "text/plain": [
       "[0, 4]"
      ]
     },
     "execution_count": 62,
     "metadata": {},
     "output_type": "execute_result"
    }
   ],
   "source": [
    "res"
   ]
  },
  {
   "cell_type": "code",
   "execution_count": 47,
   "metadata": {},
   "outputs": [
    {
     "data": {
      "text/plain": [
       "('abacaba', 'aba')"
      ]
     },
     "execution_count": 47,
     "metadata": {},
     "output_type": "execute_result"
    }
   ],
   "source": [
    "row, pattern"
   ]
  },
  {
   "cell_type": "code",
   "execution_count": 81,
   "metadata": {},
   "outputs": [
    {
     "data": {
      "text/plain": [
       "2"
      ]
     },
     "execution_count": 81,
     "metadata": {},
     "output_type": "execute_result"
    }
   ],
   "source": [
    "polinom_hash('cab', m_value) % m_value"
   ]
  },
  {
   "cell_type": "code",
   "execution_count": null,
   "metadata": {},
   "outputs": [],
   "source": []
  }
 ],
 "metadata": {
  "kernelspec": {
   "display_name": "Python 3.9.12 ('alg_env')",
   "language": "python",
   "name": "python3"
  },
  "language_info": {
   "codemirror_mode": {
    "name": "ipython",
    "version": 3
   },
   "file_extension": ".py",
   "mimetype": "text/x-python",
   "name": "python",
   "nbconvert_exporter": "python",
   "pygments_lexer": "ipython3",
   "version": "3.9.12"
  },
  "orig_nbformat": 4,
  "vscode": {
   "interpreter": {
    "hash": "31cea1469931c6410ea8093c7f3640ca5b79f3c79edb1ffb51202773f63cbd27"
   }
  }
 },
 "nbformat": 4,
 "nbformat_minor": 2
}
