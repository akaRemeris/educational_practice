{
 "cells": [
  {
   "cell_type": "code",
   "execution_count": 2,
   "metadata": {},
   "outputs": [],
   "source": [
    "from abc import abstractmethod, ABC"
   ]
  },
  {
   "cell_type": "code",
   "execution_count": null,
   "metadata": {},
   "outputs": [],
   "source": [
    "def foo_time(foo, *args, n_iterations=100):\n",
    "    min_time = float('inf')\n",
    "    for _ in range(n_iterations):\n",
    "        t0 = time.perf_counter()\n",
    "        foo(*args)\n",
    "        t1 = time.perf_counter()\n",
    "        min_time = min(min_time, t1 - t0)\n",
    "    return min_time"
   ]
  },
  {
   "cell_type": "code",
   "execution_count": 38,
   "metadata": {},
   "outputs": [],
   "source": [
    "inp_list = []\n",
    "for el in \"\"\"5 6\n",
    "4 7\n",
    "3 8\n",
    "2 9\n",
    "1 10\"\"\".split('\\n'):\n",
    "    inp_list.append(list(map(int, el.split())))"
   ]
  },
  {
   "cell_type": "code",
   "execution_count": 39,
   "metadata": {},
   "outputs": [
    {
     "data": {
      "text/plain": [
       "[[5, 6], [4, 7], [3, 8], [2, 9], [1, 10]]"
      ]
     },
     "execution_count": 39,
     "metadata": {},
     "output_type": "execute_result"
    }
   ],
   "source": [
    "inp_list"
   ]
  },
  {
   "cell_type": "code",
   "execution_count": 40,
   "metadata": {},
   "outputs": [],
   "source": [
    "sorted_inp = sorted(inp_list, key=lambda x: x[1])"
   ]
  },
  {
   "cell_type": "code",
   "execution_count": 41,
   "metadata": {},
   "outputs": [
    {
     "name": "stdout",
     "output_type": "stream",
     "text": [
      "[5, 6]\n",
      "[4, 7]\n",
      "[3, 8]\n",
      "[2, 9]\n",
      "[1, 10]\n"
     ]
    }
   ],
   "source": [
    "res = [sorted_inp[0][1]]\n",
    "for el in sorted_inp:\n",
    "    print(el)\n",
    "    if el[0] > res[-1]:\n",
    "        res.append(el[1])"
   ]
  },
  {
   "cell_type": "code",
   "execution_count": 42,
   "metadata": {},
   "outputs": [
    {
     "data": {
      "text/plain": [
       "[6]"
      ]
     },
     "execution_count": 42,
     "metadata": {},
     "output_type": "execute_result"
    }
   ],
   "source": [
    "res"
   ]
  },
  {
   "cell_type": "markdown",
   "metadata": {},
   "source": [
    "### continuous bag"
   ]
  },
  {
   "cell_type": "code",
   "execution_count": 41,
   "metadata": {},
   "outputs": [],
   "source": [
    "import heapq"
   ]
  },
  {
   "cell_type": "code",
   "execution_count": 66,
   "metadata": {},
   "outputs": [],
   "source": [
    "inp_list = []\n",
    "for el in \"\"\"3 50\n",
    "60 20\n",
    "100 50\n",
    "120 30\"\"\".split('\\n'):\n",
    "    inp_list.append(list(map(int, el.split())))"
   ]
  },
  {
   "cell_type": "code",
   "execution_count": 67,
   "metadata": {},
   "outputs": [
    {
     "data": {
      "text/plain": [
       "[[60, 20], [100, 50], [120, 30]]"
      ]
     },
     "execution_count": 67,
     "metadata": {},
     "output_type": "execute_result"
    }
   ],
   "source": [
    "preset_info = inp_list[0]\n",
    "inp_list = inp_list[1:]\n",
    "inp_list"
   ]
  },
  {
   "cell_type": "code",
   "execution_count": 68,
   "metadata": {},
   "outputs": [],
   "source": [
    "sorted_input = [(-value/weight, weight) for value, weight in inp_list]"
   ]
  },
  {
   "cell_type": "code",
   "execution_count": 69,
   "metadata": {},
   "outputs": [],
   "source": [
    "heapq.heapify(sorted_input)"
   ]
  },
  {
   "cell_type": "code",
   "execution_count": 50,
   "metadata": {},
   "outputs": [
    {
     "data": {
      "text/plain": [
       "[[120, 30], [60, 20], [100, 50]]"
      ]
     },
     "execution_count": 50,
     "metadata": {},
     "output_type": "execute_result"
    }
   ],
   "source": [
    "sorted_input = sorted(inp_list, key=lambda x: x[0]/x[1], reverse=True)\n",
    "sorted_input"
   ]
  },
  {
   "cell_type": "code",
   "execution_count": 70,
   "metadata": {},
   "outputs": [],
   "source": [
    "res = 0\n",
    "res_free_size = 50"
   ]
  },
  {
   "cell_type": "code",
   "execution_count": null,
   "metadata": {},
   "outputs": [],
   "source": [
    "for el in sorted_input:\n",
    "    if res_free_size <= 0:\n",
    "        break\n",
    "    res += min(el[1], res_free_size) * el[0]/el[1]\n",
    "    res_free_size -= min(el[1], res_free_size)"
   ]
  },
  {
   "cell_type": "code",
   "execution_count": 71,
   "metadata": {},
   "outputs": [],
   "source": [
    "while len(sorted_input) > 0:\n",
    "    if res_free_size <= 0:\n",
    "        break\n",
    "    el = heapq.heappop(sorted_input)\n",
    "    res += min(el[1], res_free_size) * -el[0]\n",
    "    res_free_size -= min(el[1], res_free_size)"
   ]
  },
  {
   "cell_type": "code",
   "execution_count": 72,
   "metadata": {},
   "outputs": [
    {
     "data": {
      "text/plain": [
       "180.0"
      ]
     },
     "execution_count": 72,
     "metadata": {},
     "output_type": "execute_result"
    }
   ],
   "source": [
    "res"
   ]
  },
  {
   "cell_type": "code",
   "execution_count": 23,
   "metadata": {},
   "outputs": [],
   "source": [
    "n = 1"
   ]
  },
  {
   "cell_type": "code",
   "execution_count": 24,
   "metadata": {},
   "outputs": [],
   "source": [
    "saved_numbers = []\n",
    "sum_accum = 0\n",
    "\n",
    "while len(saved_numbers) == 0 or sum_accum < n:\n",
    "\n",
    "    if sum_accum + (len(saved_numbers) + 1)*2 >= n:\n",
    "        last_item = len(saved_numbers) + 1\n",
    "        for i in range(last_item, last_item*2 + 1):\n",
    "            if sum_accum + i >= n:\n",
    "                saved_numbers.append(i)\n",
    "                sum_accum += i\n",
    "                break\n",
    "    else:\n",
    "        sum_accum += len(saved_numbers) + 1\n",
    "        saved_numbers.append(len(saved_numbers) + 1)\n"
   ]
  },
  {
   "cell_type": "code",
   "execution_count": 25,
   "metadata": {},
   "outputs": [
    {
     "data": {
      "text/plain": [
       "[1]"
      ]
     },
     "execution_count": 25,
     "metadata": {},
     "output_type": "execute_result"
    }
   ],
   "source": [
    "saved_numbers"
   ]
  },
  {
   "cell_type": "code",
   "execution_count": 26,
   "metadata": {},
   "outputs": [
    {
     "data": {
      "text/plain": [
       "1"
      ]
     },
     "execution_count": 26,
     "metadata": {},
     "output_type": "execute_result"
    }
   ],
   "source": [
    "sum_accum"
   ]
  },
  {
   "cell_type": "markdown",
   "metadata": {},
   "source": [
    "### huffman code"
   ]
  },
  {
   "cell_type": "code",
   "execution_count": 108,
   "metadata": {},
   "outputs": [],
   "source": [
    "row = 'abacabad'"
   ]
  },
  {
   "cell_type": "code",
   "execution_count": 109,
   "metadata": {},
   "outputs": [],
   "source": [
    "keys = sorted(set(row))"
   ]
  },
  {
   "cell_type": "code",
   "execution_count": 110,
   "metadata": {},
   "outputs": [],
   "source": [
    "vocab = {}"
   ]
  },
  {
   "cell_type": "code",
   "execution_count": 111,
   "metadata": {},
   "outputs": [],
   "source": [
    "for key in keys:\n",
    "    vocab[key] = row.count(key)"
   ]
  },
  {
   "cell_type": "code",
   "execution_count": 112,
   "metadata": {},
   "outputs": [
    {
     "data": {
      "text/plain": [
       "{'a': 4, 'b': 2, 'c': 1, 'd': 1}"
      ]
     },
     "execution_count": 112,
     "metadata": {},
     "output_type": "execute_result"
    }
   ],
   "source": [
    "vocab"
   ]
  },
  {
   "cell_type": "code",
   "execution_count": 1,
   "metadata": {},
   "outputs": [],
   "source": [
    "class Huffman_node(object):\n",
    "    def __init__(self, label, freq, left_child=None, right_child=None, parent=None):\n",
    "        self.left_child = left_child\n",
    "        self.right_child = right_child\n",
    "        self.parent = parent\n",
    "        self.freq = freq\n",
    "        self.label = label\n",
    "        \n",
    "    def get_letter_codes(self, letter2code, res='', depth=0):\n",
    "\n",
    "        if self.left_child is None and self.right_child is None :\n",
    "            if depth > 0:\n",
    "                letter2code[self.label] = res\n",
    "            else:\n",
    "                letter2code[self.label] = res+'0'\n",
    "                \n",
    "        if self.left_child is not None:\n",
    "            self.left_child.get_letter_codes(letter2code, res+'1', depth+1)\n",
    "\n",
    "        if self.right_child is not None:\n",
    "            self.right_child.get_letter_codes(letter2code, res+'0', depth+1)\n",
    "            \n"
   ]
  },
  {
   "cell_type": "code",
   "execution_count": 114,
   "metadata": {},
   "outputs": [],
   "source": [
    "node_dict = {key: Huffman_node(key, vocab[key]) for key in vocab.keys()}"
   ]
  },
  {
   "cell_type": "code",
   "execution_count": 115,
   "metadata": {},
   "outputs": [
    {
     "data": {
      "text/plain": [
       "{'a': <__main__.Huffman_node at 0x216852c3490>,\n",
       " 'b': <__main__.Huffman_node at 0x2168524cdc0>,\n",
       " 'c': <__main__.Huffman_node at 0x2168524c070>,\n",
       " 'd': <__main__.Huffman_node at 0x21684097ee0>}"
      ]
     },
     "execution_count": 115,
     "metadata": {},
     "output_type": "execute_result"
    }
   ],
   "source": [
    "node_dict"
   ]
  },
  {
   "cell_type": "code",
   "execution_count": 116,
   "metadata": {},
   "outputs": [],
   "source": [
    "def pop_min_pair(node_dict):\n",
    "    min_freq = float('inf')\n",
    "    min_freq_key = ''\n",
    "    \n",
    "    for key in node_dict.keys():\n",
    "        if min_freq >= node_dict[key].freq:\n",
    "            min_freq = node_dict[key].freq\n",
    "            min_freq_key = key\n",
    "            \n",
    "    return (min_freq_key, node_dict.pop(min_freq_key))"
   ]
  },
  {
   "cell_type": "code",
   "execution_count": 117,
   "metadata": {},
   "outputs": [],
   "source": [
    "for i in range(len(node_dict)-1):\n",
    "    left_items = pop_min_pair(node_dict)\n",
    "    right_items = pop_min_pair(node_dict)\n",
    "    \n",
    "    node_dict[left_items[0]+right_items[0]] = Huffman_node(\n",
    "        left_items[0] + right_items[0],\n",
    "        left_items[1].freq + right_items[1].freq, \n",
    "        left_child=left_items[1], \n",
    "        right_child=right_items[1]\n",
    "        )\n"
   ]
  },
  {
   "cell_type": "code",
   "execution_count": 118,
   "metadata": {},
   "outputs": [
    {
     "data": {
      "text/plain": [
       "{'dcba': <__main__.Huffman_node at 0x216840d04c0>}"
      ]
     },
     "execution_count": 118,
     "metadata": {},
     "output_type": "execute_result"
    }
   ],
   "source": [
    "node_dict"
   ]
  },
  {
   "cell_type": "code",
   "execution_count": 119,
   "metadata": {},
   "outputs": [],
   "source": [
    "node = node_dict.popitem()[1]"
   ]
  },
  {
   "cell_type": "code",
   "execution_count": 120,
   "metadata": {},
   "outputs": [
    {
     "data": {
      "text/plain": [
       "<__main__.Huffman_node at 0x216840d04c0>"
      ]
     },
     "execution_count": 120,
     "metadata": {},
     "output_type": "execute_result"
    }
   ],
   "source": [
    "node"
   ]
  },
  {
   "cell_type": "code",
   "execution_count": 121,
   "metadata": {},
   "outputs": [],
   "source": [
    "letter2code = {}"
   ]
  },
  {
   "cell_type": "code",
   "execution_count": 122,
   "metadata": {},
   "outputs": [],
   "source": [
    "node.get_letter_codes(letter2code)"
   ]
  },
  {
   "cell_type": "code",
   "execution_count": 123,
   "metadata": {},
   "outputs": [
    {
     "name": "stdout",
     "output_type": "stream",
     "text": [
      "d: 111\n",
      "c: 110\n",
      "b: 10\n",
      "a: 0\n"
     ]
    }
   ],
   "source": [
    "print('\\n'.join([f'{letter}: {code}' for letter, code in  letter2code.items()]))"
   ]
  },
  {
   "cell_type": "code",
   "execution_count": 128,
   "metadata": {},
   "outputs": [],
   "source": [
    "def encode(row, letter2code):\n",
    "    res = ''\n",
    "    for char in row:\n",
    "        res += letter2code[char]\n",
    "    return res"
   ]
  },
  {
   "cell_type": "code",
   "execution_count": 7,
   "metadata": {},
   "outputs": [],
   "source": [
    "raw_inp = \"\"\"4 14\n",
    "a: 0\n",
    "b: 10\n",
    "c: 110\n",
    "d: 111\n",
    "01001100100111\"\"\"\n",
    "splitted_inp = raw_inp.split('\\n')\n",
    "\n",
    "n_letters = list(map(int, raw_inp[0].split('\\n')))[0]\n",
    "key_code_pair_list = []\n",
    "for i in range(n_letters):\n",
    "    key_code_pair_list.append(splitted_inp[i+1].split(': '))\n",
    "inp_code = splitted_inp[n_letters+1]\n",
    "sorted_items = sorted(key_code_pair_list, key=lambda x: len(x[1]))\n",
    "sorted_labels = [list(item)[0] for item in sorted_items]\n",
    "sorted_codes = [list(item)[1] for item in sorted_items]\n",
    "\n",
    "root_node = Huffman_node('', None)"
   ]
  },
  {
   "cell_type": "code",
   "execution_count": 8,
   "metadata": {},
   "outputs": [],
   "source": [
    "for label, code in zip(sorted_labels, sorted_codes):\n",
    "    current_node = root_node\n",
    "    for direction in code:\n",
    "        new_node = Huffman_node('', None)\n",
    "        if direction == '0':\n",
    "            if current_node.left_child is None:\n",
    "                current_node.left_child = new_node\n",
    "            else:\n",
    "                new_node = current_node.left_child\n",
    "        if direction == '1':\n",
    "            if current_node.right_child is None:\n",
    "                current_node.right_child = new_node\n",
    "            else:\n",
    "                new_node = current_node.right_child\n",
    "        current_node = new_node\n",
    "    current_node.label = label\n"
   ]
  },
  {
   "cell_type": "code",
   "execution_count": 9,
   "metadata": {},
   "outputs": [],
   "source": [
    "current_node = root_node\n",
    "res = ''\n",
    "for direction in inp_code:\n",
    "    if direction == '0':\n",
    "        current_node = current_node.left_child\n",
    "    if direction == '1':\n",
    "        current_node = current_node.right_child\n",
    "    if current_node.label != '':\n",
    "        res += current_node.label\n",
    "        current_node = root_node"
   ]
  },
  {
   "cell_type": "code",
   "execution_count": 10,
   "metadata": {},
   "outputs": [
    {
     "data": {
      "text/plain": [
       "'abacabad'"
      ]
     },
     "execution_count": 10,
     "metadata": {},
     "output_type": "execute_result"
    }
   ],
   "source": [
    "res"
   ]
  },
  {
   "cell_type": "markdown",
   "metadata": {},
   "source": [
    "Priority queue by Heap"
   ]
  },
  {
   "cell_type": "code",
   "execution_count": 3,
   "metadata": {},
   "outputs": [],
   "source": [
    "class PriorityQueue(ABC):\n",
    "    @abstractmethod\n",
    "    def __init__(self):\n",
    "        pass\n",
    "    @abstractmethod\n",
    "    def insert(self, p):\n",
    "        pass\n",
    "    @abstractmethod\n",
    "    def get_root(self):\n",
    "        pass\n",
    "    @abstractmethod\n",
    "    def pop_heap(self):\n",
    "        pass"
   ]
  },
  {
   "cell_type": "code",
   "execution_count": 37,
   "metadata": {},
   "outputs": [],
   "source": [
    "class QueueArray(list):\n",
    "    def __getitem__(self, idx):\n",
    "         return super().__getitem__(idx - 1)\n",
    "    \n",
    "    def __setitem__(self, idx, value):\n",
    "        super().__setitem__(idx - 1, value)"
   ]
  },
  {
   "cell_type": "code",
   "execution_count": 38,
   "metadata": {},
   "outputs": [],
   "source": [
    "class MaxHeapQueue(PriorityQueue):\n",
    "    def __init__(self, base=2):\n",
    "        self.data = QueueArray()\n",
    "        self.base = base\n",
    "        self.swap_log = []\n",
    "    \n",
    "    def _get_max_children_idx(self, idx):\n",
    "        if idx * self.base > len(self.data):\n",
    "            return None\n",
    "        left_child_idx = min(len(self.data), idx*self.base)\n",
    "        right_child_idx = min(len(self.data), idx*self.base+1)\n",
    "        if self.data[left_child_idx] >= self.data[right_child_idx]:\n",
    "            return left_child_idx\n",
    "        else:\n",
    "            return right_child_idx\n",
    "\n",
    "\n",
    "    def _get_parent_idx(self, idx):\n",
    "        return idx//self.base\n",
    "\n",
    "    def _descend_element(self, idx):\n",
    "        max_child_idx = self._get_max_children_idx(idx)\n",
    "        if max_child_idx is not None and self.data[idx] <= self.data[max_child_idx] and idx < len(self.data):\n",
    "            tmp = self.data[max_child_idx]\n",
    "            self.data[max_child_idx] = self.data[idx]\n",
    "            self.data[idx] = tmp\n",
    "            self._descend_element(max_child_idx)\n",
    "\n",
    "\n",
    "    def _ascend_element(self, idx):\n",
    "        parent_idx = self._get_parent_idx(idx)\n",
    "        if self.data[parent_idx] <= self.data[idx] and idx > 1 and parent_idx > 0:\n",
    "            tmp = self.data[parent_idx]\n",
    "            self.data[parent_idx] = self.data[idx]\n",
    "            self.data[idx] = tmp\n",
    "            self._ascend_element(parent_idx)\n",
    "\n",
    "    \n",
    "    def get_root(self):\n",
    "        return self.data[0]\n",
    "\n",
    "    def pop_heap(self):\n",
    "        res = self.data[1]\n",
    "        if len(self.data) > 1:\n",
    "            self.data[1] = self.data.pop()\n",
    "            self._descend_element(1)\n",
    "        else:\n",
    "            self.data.pop()\n",
    "        return res\n",
    "    \n",
    "    def insert(self, el):\n",
    "        self.data.append(el)\n",
    "        self._ascend_element(len(self.data))"
   ]
  },
  {
   "cell_type": "code",
   "execution_count": 34,
   "metadata": {},
   "outputs": [],
   "source": [
    "pqueue = MaxHeapQueue()"
   ]
  },
  {
   "cell_type": "code",
   "execution_count": 35,
   "metadata": {},
   "outputs": [],
   "source": [
    "for inp in range(10):\n",
    "    pqueue.insert(inp)"
   ]
  },
  {
   "cell_type": "code",
   "execution_count": 36,
   "metadata": {},
   "outputs": [
    {
     "name": "stdout",
     "output_type": "stream",
     "text": [
      "9\n",
      "8\n",
      "7\n",
      "6\n",
      "5\n",
      "4\n",
      "3\n",
      "2\n",
      "1\n",
      "0\n"
     ]
    }
   ],
   "source": [
    "for inp in range(10):\n",
    "    print(pqueue.pop_heap())"
   ]
  },
  {
   "cell_type": "code",
   "execution_count": 178,
   "metadata": {},
   "outputs": [],
   "source": [
    "pqueue.insert(200)"
   ]
  },
  {
   "cell_type": "code",
   "execution_count": 179,
   "metadata": {},
   "outputs": [],
   "source": [
    "pqueue.insert(10)"
   ]
  },
  {
   "cell_type": "code",
   "execution_count": 182,
   "metadata": {},
   "outputs": [
    {
     "data": {
      "text/plain": [
       "[10]"
      ]
     },
     "execution_count": 182,
     "metadata": {},
     "output_type": "execute_result"
    }
   ],
   "source": [
    "pqueue.data"
   ]
  },
  {
   "cell_type": "code",
   "execution_count": 181,
   "metadata": {},
   "outputs": [
    {
     "data": {
      "text/plain": [
       "200"
      ]
     },
     "execution_count": 181,
     "metadata": {},
     "output_type": "execute_result"
    }
   ],
   "source": [
    "pqueue.extract_max()"
   ]
  },
  {
   "cell_type": "code",
   "execution_count": 183,
   "metadata": {},
   "outputs": [],
   "source": [
    "pqueue.insert(5)"
   ]
  },
  {
   "cell_type": "code",
   "execution_count": 184,
   "metadata": {},
   "outputs": [],
   "source": [
    "pqueue.insert(500)"
   ]
  },
  {
   "cell_type": "code",
   "execution_count": 188,
   "metadata": {},
   "outputs": [
    {
     "data": {
      "text/plain": [
       "5"
      ]
     },
     "execution_count": 188,
     "metadata": {},
     "output_type": "execute_result"
    }
   ],
   "source": [
    "pqueue.extract_max()"
   ]
  },
  {
   "cell_type": "code",
   "execution_count": 187,
   "metadata": {},
   "outputs": [
    {
     "data": {
      "text/plain": [
       "[5]"
      ]
     },
     "execution_count": 187,
     "metadata": {},
     "output_type": "execute_result"
    }
   ],
   "source": [
    "pqueue.data"
   ]
  },
  {
   "cell_type": "code",
   "execution_count": null,
   "metadata": {},
   "outputs": [],
   "source": []
  }
 ],
 "metadata": {
  "kernelspec": {
   "display_name": "Python 3.9.12 ('alg_env')",
   "language": "python",
   "name": "python3"
  },
  "language_info": {
   "codemirror_mode": {
    "name": "ipython",
    "version": 3
   },
   "file_extension": ".py",
   "mimetype": "text/x-python",
   "name": "python",
   "nbconvert_exporter": "python",
   "pygments_lexer": "ipython3",
   "version": "3.9.12"
  },
  "orig_nbformat": 4,
  "vscode": {
   "interpreter": {
    "hash": "31cea1469931c6410ea8093c7f3640ca5b79f3c79edb1ffb51202773f63cbd27"
   }
  }
 },
 "nbformat": 4,
 "nbformat_minor": 2
}
