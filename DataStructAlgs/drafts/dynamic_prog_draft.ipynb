{
 "cells": [
  {
   "cell_type": "markdown",
   "metadata": {},
   "source": [
    "### Longest increasing subsequence"
   ]
  },
  {
   "cell_type": "code",
   "execution_count": 160,
   "metadata": {},
   "outputs": [],
   "source": [
    "sequence = [3, 6, 7, 12]\n",
    "sequence = [3, 6, 12, 7, 9, 24, 18, 3, 9, 24]\n",
    "sequence = [2, 6, 7, 7, 12, 21, 36, 42, 84, 168]\n",
    "sequence = [3, 4, 12, 8, 5, 4, 24, 1, 16, 24, 2, 6, 18, 4, 32, 12, 48, 13]\n",
    "sequence = [1, 2, 2, 4, 6, 12, 36, 8, 7, 9, 16, 48, 48, 3, 9, 48, 96]"
   ]
  },
  {
   "cell_type": "code",
   "execution_count": 161,
   "metadata": {},
   "outputs": [
    {
     "name": "stdout",
     "output_type": "stream",
     "text": [
      "10\n"
     ]
    }
   ],
   "source": [
    "prefix_list = []\n",
    "prefix_list.append(0)\n",
    "for i in range(1, len(sequence)):    \n",
    "    prefix_list.append(1+max([prefix_list[j] if sequence[i] % sequence[j] == 0 else -1 for j in range(i)]))\n",
    "print(max(prefix_list) + 1) "
   ]
  },
  {
   "cell_type": "code",
   "execution_count": 153,
   "metadata": {},
   "outputs": [
    {
     "data": {
      "text/plain": [
       "[0, 1, 2, 0, 1, 3, 2, 1, 2, 4]"
      ]
     },
     "execution_count": 153,
     "metadata": {},
     "output_type": "execute_result"
    }
   ],
   "source": [
    "prefix_list"
   ]
  },
  {
   "cell_type": "markdown",
   "metadata": {},
   "source": [
    "### Levenshtein distance"
   ]
  },
  {
   "cell_type": "code",
   "execution_count": 33,
   "metadata": {},
   "outputs": [],
   "source": [
    "import numpy as np\n",
    "import sys"
   ]
  },
  {
   "cell_type": "code",
   "execution_count": 1,
   "metadata": {},
   "outputs": [],
   "source": [
    "arr1 = 'short'\n",
    "arr2 = 'ports'"
   ]
  },
  {
   "cell_type": "code",
   "execution_count": 11,
   "metadata": {},
   "outputs": [],
   "source": [
    "distance_matrix = np.zeros((len(arr1) + 1, len(arr2) + 1))"
   ]
  },
  {
   "cell_type": "code",
   "execution_count": 25,
   "metadata": {},
   "outputs": [],
   "source": [
    "distance_matrix[0, :] = np.arange(len(arr2) + 1)\n",
    "distance_matrix[:, 0] = np.arange(len(arr1) + 1)"
   ]
  },
  {
   "cell_type": "code",
   "execution_count": 27,
   "metadata": {},
   "outputs": [],
   "source": [
    "for j in range(1, len(arr2) + 1):\n",
    "    for i in range(1, len(arr1) + 1):\n",
    "        remove_cost = distance_matrix[i - 1, j] + 1\n",
    "        insert_cost = distance_matrix[i, j - 1] + 1\n",
    "        replace_cost = distance_matrix[i - 1, j - 1] + int(arr1[i - 1] != arr2[j - 1])\n",
    "        distance_matrix[i, j] = min(remove_cost, insert_cost, replace_cost)"
   ]
  },
  {
   "cell_type": "code",
   "execution_count": 28,
   "metadata": {},
   "outputs": [
    {
     "data": {
      "text/plain": [
       "array([[0., 1., 2., 3., 4., 5.],\n",
       "       [1., 1., 2., 3., 4., 4.],\n",
       "       [2., 2., 2., 3., 4., 5.],\n",
       "       [3., 3., 2., 3., 4., 5.],\n",
       "       [4., 4., 3., 2., 3., 4.],\n",
       "       [5., 5., 4., 3., 2., 3.]])"
      ]
     },
     "execution_count": 28,
     "metadata": {},
     "output_type": "execute_result"
    }
   ],
   "source": [
    "distance_matrix"
   ]
  },
  {
   "cell_type": "code",
   "execution_count": 30,
   "metadata": {},
   "outputs": [
    {
     "name": "stdout",
     "output_type": "stream",
     "text": [
      "3\n"
     ]
    }
   ],
   "source": [
    "print(int(distance_matrix[-1, -1]))"
   ]
  },
  {
   "cell_type": "markdown",
   "metadata": {},
   "source": [
    "### Knapsack"
   ]
  },
  {
   "cell_type": "code",
   "execution_count": 37,
   "metadata": {},
   "outputs": [],
   "source": [
    "import numpy as np\n",
    "import random"
   ]
  },
  {
   "cell_type": "code",
   "execution_count": 1,
   "metadata": {},
   "outputs": [],
   "source": [
    "preset_row = \"10 3\"\n",
    "item_row = \"1 4 8\"\n",
    "preset = list(map(int, preset_row.split()))\n",
    "items = list(map(int, item_row.split()))"
   ]
  },
  {
   "cell_type": "code",
   "execution_count": 34,
   "metadata": {},
   "outputs": [],
   "source": [
    "n_items = preset[1]\n",
    "max_weight = preset[0]"
   ]
  },
  {
   "cell_type": "code",
   "execution_count": 48,
   "metadata": {},
   "outputs": [],
   "source": [
    "max_weight = 10 ** 4\n",
    "n_items = int(300)\n",
    "items = [random.randint(100, 10 ** 5) for _ in range(n_items)]"
   ]
  },
  {
   "cell_type": "code",
   "execution_count": 49,
   "metadata": {},
   "outputs": [],
   "source": [
    "res_matrix = np.zeros((n_items + 1,  max_weight + 1))\n"
   ]
  },
  {
   "cell_type": "code",
   "execution_count": 50,
   "metadata": {},
   "outputs": [
    {
     "name": "stdout",
     "output_type": "stream",
     "text": [
      "CPU times: total: 2.02 s\n",
      "Wall time: 2.07 s\n"
     ]
    }
   ],
   "source": [
    "%%time\n",
    "for i in range(1, n_items + 1):\n",
    "    for w in range(1, max_weight + 1):\n",
    "        if items[i - 1] <= w:\n",
    "            res_matrix[i, w] = max(res_matrix[i - 1, w - items[i - 1]] + items[i - 1], res_matrix[i - 1, w])\n",
    "        else:\n",
    "            res_matrix[i, w] = res_matrix[i - 1, w]"
   ]
  },
  {
   "cell_type": "code",
   "execution_count": 36,
   "metadata": {},
   "outputs": [
    {
     "data": {
      "text/plain": [
       "array([[0., 0., 0., 0., 0., 0., 0., 0., 0., 0., 0.],\n",
       "       [0., 1., 1., 1., 1., 1., 1., 1., 1., 1., 1.],\n",
       "       [0., 1., 1., 1., 4., 5., 5., 5., 5., 5., 5.],\n",
       "       [0., 1., 1., 1., 4., 5., 5., 5., 8., 9., 9.]])"
      ]
     },
     "execution_count": 36,
     "metadata": {},
     "output_type": "execute_result"
    }
   ],
   "source": [
    "res_matrix"
   ]
  },
  {
   "cell_type": "code",
   "execution_count": 52,
   "metadata": {},
   "outputs": [],
   "source": [
    "rec_matrix = np.full((n_items + 1,  max_weight + 1), -1)"
   ]
  },
  {
   "cell_type": "code",
   "execution_count": 53,
   "metadata": {},
   "outputs": [],
   "source": [
    "rec_matrix[0, :] = np.zeros((max_weight + 1, ))"
   ]
  },
  {
   "cell_type": "code",
   "execution_count": 54,
   "metadata": {},
   "outputs": [],
   "source": [
    "rec_matrix[:, 0] = np.zeros((n_items + 1, ))"
   ]
  },
  {
   "cell_type": "code",
   "execution_count": null,
   "metadata": {},
   "outputs": [],
   "source": [
    "def rec_knapsack(i, w, items, rec_matrix):\n",
    "    if rec_matrix[i, w] != -1:\n",
    "        return rec_matrix[i, w]\n",
    "    else:\n",
    "        rec_matrix[i, w] = max(rec_knapsack(i - 1, w - 1, items, rec_matrix) + items[i - 1], rec_knapsack(i - 1, w, items, rec_matrix))"
   ]
  }
 ],
 "metadata": {
  "kernelspec": {
   "display_name": "Python 3.9.12 ('alg_env')",
   "language": "python",
   "name": "python3"
  },
  "language_info": {
   "codemirror_mode": {
    "name": "ipython",
    "version": 3
   },
   "file_extension": ".py",
   "mimetype": "text/x-python",
   "name": "python",
   "nbconvert_exporter": "python",
   "pygments_lexer": "ipython3",
   "version": "3.9.12"
  },
  "orig_nbformat": 4,
  "vscode": {
   "interpreter": {
    "hash": "31cea1469931c6410ea8093c7f3640ca5b79f3c79edb1ffb51202773f63cbd27"
   }
  }
 },
 "nbformat": 4,
 "nbformat_minor": 2
}
