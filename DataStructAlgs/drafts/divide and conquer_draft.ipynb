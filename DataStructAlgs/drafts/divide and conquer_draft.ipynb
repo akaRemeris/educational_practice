{
 "cells": [
  {
   "cell_type": "code",
   "execution_count": 94,
   "metadata": {},
   "outputs": [],
   "source": [
    "inp = \"\"\"5 1 5 8 12 13\n",
    "9 8 1 23 1 11 13 12 15 13 1\"\"\""
   ]
  },
  {
   "cell_type": "code",
   "execution_count": 282,
   "metadata": {},
   "outputs": [],
   "source": [
    "import sys\n",
    "import re\n",
    "import random"
   ]
  },
  {
   "cell_type": "code",
   "execution_count": 96,
   "metadata": {},
   "outputs": [],
   "source": [
    "inp = inp.split('\\n')"
   ]
  },
  {
   "cell_type": "code",
   "execution_count": 97,
   "metadata": {},
   "outputs": [
    {
     "data": {
      "text/plain": [
       "'5 1 5 8 12 13'"
      ]
     },
     "execution_count": 97,
     "metadata": {},
     "output_type": "execute_result"
    }
   ],
   "source": [
    "inp[0]"
   ]
  },
  {
   "cell_type": "code",
   "execution_count": 98,
   "metadata": {},
   "outputs": [],
   "source": [
    "inp_list = []\n",
    "for line in inp:\n",
    "    inp_list.append(list(map(int, line.split())))"
   ]
  },
  {
   "cell_type": "code",
   "execution_count": 99,
   "metadata": {},
   "outputs": [],
   "source": [
    "n_src, *src = inp_list[0]\n",
    "n_tgt, *tgt = inp_list[1]"
   ]
  },
  {
   "cell_type": "code",
   "execution_count": 100,
   "metadata": {},
   "outputs": [],
   "source": [
    "from math import ceil"
   ]
  },
  {
   "cell_type": "code",
   "execution_count": 101,
   "metadata": {},
   "outputs": [],
   "source": [
    "def binary_search(arr, tgt):\n",
    "    l_border = 0\n",
    "    r_border = len(arr) - 1\n",
    "    \n",
    "    while r_border - l_border >= 0:\n",
    "        center_idx = (r_border + l_border)//2\n",
    "        if arr[center_idx] == tgt:\n",
    "            return center_idx        \n",
    "        if arr[center_idx] < tgt:\n",
    "            l_border = center_idx + 1\n",
    "        else:\n",
    "            r_border = center_idx - 1\n",
    "       \n",
    "    return -1"
   ]
  },
  {
   "cell_type": "code",
   "execution_count": 102,
   "metadata": {},
   "outputs": [
    {
     "data": {
      "text/plain": [
       "([1, 5, 8, 12, 13], [8, 1, 23, 1, 11, 13, 12, 15, 13, 1])"
      ]
     },
     "execution_count": 102,
     "metadata": {},
     "output_type": "execute_result"
    }
   ],
   "source": [
    "src, tgt"
   ]
  },
  {
   "cell_type": "code",
   "execution_count": 103,
   "metadata": {},
   "outputs": [
    {
     "name": "stdout",
     "output_type": "stream",
     "text": [
      "2\n",
      "0\n",
      "-1\n",
      "0\n",
      "-1\n",
      "4\n",
      "3\n",
      "-1\n",
      "4\n",
      "0\n"
     ]
    }
   ],
   "source": [
    "for el in tgt:\n",
    "    print(binary_search(src, el))"
   ]
  },
  {
   "cell_type": "code",
   "execution_count": 27,
   "metadata": {},
   "outputs": [],
   "source": [
    "from math import ceilx"
   ]
  },
  {
   "cell_type": "code",
   "execution_count": 56,
   "metadata": {},
   "outputs": [
    {
     "data": {
      "text/plain": [
       "1"
      ]
     },
     "execution_count": 56,
     "metadata": {},
     "output_type": "execute_result"
    }
   ],
   "source": [
    "2//2"
   ]
  },
  {
   "cell_type": "markdown",
   "metadata": {},
   "source": [
    "### Insversion check \n",
    "(merge-sort-like algorithm)"
   ]
  },
  {
   "cell_type": "code",
   "execution_count": 4,
   "metadata": {},
   "outputs": [],
   "source": [
    "from collections import deque"
   ]
  },
  {
   "cell_type": "code",
   "execution_count": 274,
   "metadata": {},
   "outputs": [],
   "source": [
    "inp = '6 6'"
   ]
  },
  {
   "cell_type": "code",
   "execution_count": 275,
   "metadata": {},
   "outputs": [],
   "source": [
    "n_numbers = 6\n",
    "arr = list(map(int, inp.split()))"
   ]
  },
  {
   "cell_type": "code",
   "execution_count": 276,
   "metadata": {},
   "outputs": [
    {
     "data": {
      "text/plain": [
       "deque([deque([6]), deque([6])])"
      ]
     },
     "execution_count": 276,
     "metadata": {},
     "output_type": "execute_result"
    }
   ],
   "source": [
    "squeezed_queue = deque([deque([el]) for el in arr])\n",
    "squeezed_queue"
   ]
  },
  {
   "cell_type": "code",
   "execution_count": 277,
   "metadata": {},
   "outputs": [],
   "source": [
    "def merge(arr1, arr2):\n",
    "    inversion_cntr = 0\n",
    "    sorted_arr = deque()\n",
    "\n",
    "    while len(arr1) * len(arr2) > 0:\n",
    "        if arr1[0] < arr2[0]:\n",
    "            sorted_arr.append(arr1.popleft())            \n",
    "        elif arr1[0] > arr2[0]:\n",
    "            sorted_arr.append(arr2.popleft())\n",
    "            inversion_cntr += len(arr1)\n",
    "        else:\n",
    "            while len(arr1) > 0 and arr1[0] == arr2[0]:\n",
    "                sorted_arr.append(arr1.popleft())\n",
    "            sorted_arr.append(arr2.popleft())\n",
    "            inversion_cntr += len(arr1)\n",
    "    \n",
    "    while len(arr1) > 0:\n",
    "        sorted_arr.append(arr1.popleft())\n",
    "    while len(arr2) > 0:\n",
    "        sorted_arr.append(arr2.popleft())\n",
    "    \n",
    "    return sorted_arr, inversion_cntr"
   ]
  },
  {
   "cell_type": "code",
   "execution_count": 383,
   "metadata": {},
   "outputs": [],
   "source": [
    "def merge_inversions(arr):\n",
    "    squeezed_queue = deque([deque([el]) for el in arr])\n",
    "    n_inversions = 0\n",
    "    curren_lvl_length = len(squeezed_queue)//2\n",
    "    while len(squeezed_queue) > 1:\n",
    "        initial_len = len(squeezed_queue)\n",
    "        for i in range(curren_lvl_length):\n",
    "            fst_el = squeezed_queue.popleft()\n",
    "            snd_el = squeezed_queue.popleft()        \n",
    "            merged_el, n_iter_inversions = merge(fst_el, snd_el)    \n",
    "            n_inversions += n_iter_inversions\n",
    "            squeezed_queue.append(merged_el)\n",
    "        if initial_len%2 != 0 and len(squeezed_queue) > 1:\n",
    "            fst_el = squeezed_queue.popleft()\n",
    "            snd_el = squeezed_queue.pop()        \n",
    "            merged_el, n_iter_inversions = merge(snd_el, fst_el)    \n",
    "            n_inversions += n_iter_inversions\n",
    "            squeezed_queue.append(merged_el)\n",
    "        curren_lvl_length = len(squeezed_queue)//2\n",
    "    return squeezed_queue, n_inversions"
   ]
  },
  {
   "cell_type": "code",
   "execution_count": 387,
   "metadata": {},
   "outputs": [
    {
     "data": {
      "text/plain": [
       "11"
      ]
     },
     "execution_count": 387,
     "metadata": {},
     "output_type": "execute_result"
    }
   ],
   "source": [
    "merge_inversions([7, 2, 3, 9, 9, 9, 6, 9, 6])[1]"
   ]
  },
  {
   "cell_type": "code",
   "execution_count": 388,
   "metadata": {},
   "outputs": [
    {
     "data": {
      "text/plain": [
       "11"
      ]
     },
     "execution_count": 388,
     "metadata": {},
     "output_type": "execute_result"
    }
   ],
   "source": [
    "get_inversed_pairs_number([7, 2, 3, 9, 9, 9, 6, 9, 6])"
   ]
  },
  {
   "cell_type": "code",
   "execution_count": 384,
   "metadata": {},
   "outputs": [
    {
     "data": {
      "text/plain": [
       "18"
      ]
     },
     "execution_count": 384,
     "metadata": {},
     "output_type": "execute_result"
    }
   ],
   "source": [
    "merge_inversions([4, 1, 3, 10, 5, 10, 8, 6, 4, 4])[1]"
   ]
  },
  {
   "cell_type": "code",
   "execution_count": 365,
   "metadata": {},
   "outputs": [
    {
     "data": {
      "text/plain": [
       "15"
      ]
     },
     "execution_count": 365,
     "metadata": {},
     "output_type": "execute_result"
    }
   ],
   "source": [
    "15"
   ]
  },
  {
   "cell_type": "code",
   "execution_count": 297,
   "metadata": {},
   "outputs": [
    {
     "data": {
      "text/plain": [
       "deque([deque([6, 6])])"
      ]
     },
     "execution_count": 297,
     "metadata": {},
     "output_type": "execute_result"
    }
   ],
   "source": [
    "squeezed_queue"
   ]
  },
  {
   "cell_type": "code",
   "execution_count": 298,
   "metadata": {},
   "outputs": [
    {
     "data": {
      "text/plain": [
       "0"
      ]
     },
     "execution_count": 298,
     "metadata": {},
     "output_type": "execute_result"
    }
   ],
   "source": [
    "n_inversions"
   ]
  },
  {
   "cell_type": "code",
   "execution_count": 299,
   "metadata": {},
   "outputs": [],
   "source": [
    "def get_inversed_pairs_number(A):\n",
    "    result = 0\n",
    "    if len(A) < 2:\n",
    "        return result\n",
    "\n",
    "    for i, element in enumerate(A):\n",
    "        for j, element2 in enumerate(A[i + 1:]):\n",
    "            if element > element2:\n",
    "                result += 1\n",
    "\n",
    "    return result"
   ]
  },
  {
   "cell_type": "code",
   "execution_count": 386,
   "metadata": {},
   "outputs": [
    {
     "ename": "KeyboardInterrupt",
     "evalue": "",
     "output_type": "error",
     "traceback": [
      "\u001b[1;31m---------------------------------------------------------------------------\u001b[0m",
      "\u001b[1;31mKeyboardInterrupt\u001b[0m                         Traceback (most recent call last)",
      "\u001b[1;32mc:\\Users\\Uer\\Documents\\JN\\algs_n_data_structs\\divide and conquer.ipynb Cell 25'\u001b[0m in \u001b[0;36m<cell line: 8>\u001b[1;34m()\u001b[0m\n\u001b[0;32m      <a href='vscode-notebook-cell:/c%3A/Users/Uer/Documents/JN/algs_n_data_structs/divide%20and%20conquer.ipynb#ch0000026?line=7'>8</a>\u001b[0m \u001b[39mfor\u001b[39;00m k \u001b[39min\u001b[39;00m \u001b[39mrange\u001b[39m(\u001b[39m998\u001b[39m):\n\u001b[0;32m      <a href='vscode-notebook-cell:/c%3A/Users/Uer/Documents/JN/algs_n_data_structs/divide%20and%20conquer.ipynb#ch0000026?line=8'>9</a>\u001b[0m     random_test \u001b[39m=\u001b[39m get_list_of_random_int()\n\u001b[1;32m---> <a href='vscode-notebook-cell:/c%3A/Users/Uer/Documents/JN/algs_n_data_structs/divide%20and%20conquer.ipynb#ch0000026?line=9'>10</a>\u001b[0m     naive_answer \u001b[39m=\u001b[39m get_inversed_pairs_number(random_test)\n\u001b[0;32m     <a href='vscode-notebook-cell:/c%3A/Users/Uer/Documents/JN/algs_n_data_structs/divide%20and%20conquer.ipynb#ch0000026?line=10'>11</a>\u001b[0m     answer2test \u001b[39m=\u001b[39m merge_inversions(random_test)[\u001b[39m1\u001b[39m]\n\u001b[0;32m     <a href='vscode-notebook-cell:/c%3A/Users/Uer/Documents/JN/algs_n_data_structs/divide%20and%20conquer.ipynb#ch0000026?line=11'>12</a>\u001b[0m     \u001b[39mtry\u001b[39;00m:\n",
      "\u001b[1;32mc:\\Users\\Uer\\Documents\\JN\\algs_n_data_structs\\divide and conquer.ipynb Cell 24'\u001b[0m in \u001b[0;36mget_inversed_pairs_number\u001b[1;34m(A)\u001b[0m\n\u001b[0;32m      <a href='vscode-notebook-cell:/c%3A/Users/Uer/Documents/JN/algs_n_data_structs/divide%20and%20conquer.ipynb#ch0000027?line=3'>4</a>\u001b[0m     \u001b[39mreturn\u001b[39;00m result\n\u001b[0;32m      <a href='vscode-notebook-cell:/c%3A/Users/Uer/Documents/JN/algs_n_data_structs/divide%20and%20conquer.ipynb#ch0000027?line=5'>6</a>\u001b[0m \u001b[39mfor\u001b[39;00m i, element \u001b[39min\u001b[39;00m \u001b[39menumerate\u001b[39m(A):\n\u001b[1;32m----> <a href='vscode-notebook-cell:/c%3A/Users/Uer/Documents/JN/algs_n_data_structs/divide%20and%20conquer.ipynb#ch0000027?line=6'>7</a>\u001b[0m     \u001b[39mfor\u001b[39;00m j, element2 \u001b[39min\u001b[39;00m \u001b[39menumerate\u001b[39m(A[i \u001b[39m+\u001b[39m \u001b[39m1\u001b[39m:]):\n\u001b[0;32m      <a href='vscode-notebook-cell:/c%3A/Users/Uer/Documents/JN/algs_n_data_structs/divide%20and%20conquer.ipynb#ch0000027?line=7'>8</a>\u001b[0m         \u001b[39mif\u001b[39;00m element \u001b[39m>\u001b[39m element2:\n\u001b[0;32m      <a href='vscode-notebook-cell:/c%3A/Users/Uer/Documents/JN/algs_n_data_structs/divide%20and%20conquer.ipynb#ch0000027?line=8'>9</a>\u001b[0m             result \u001b[39m+\u001b[39m\u001b[39m=\u001b[39m \u001b[39m1\u001b[39m\n",
      "\u001b[1;31mKeyboardInterrupt\u001b[0m: "
     ]
    }
   ],
   "source": [
    "def get_list_of_random_int():\n",
    "    \n",
    "    result = []\n",
    "    for i in range(1000):\n",
    "        result.append(random.randint(1, 10))\n",
    "    return result\n",
    "\n",
    "for k in range(998):\n",
    "    random_test = get_list_of_random_int()\n",
    "    naive_answer = get_inversed_pairs_number(random_test)\n",
    "    answer2test = merge_inversions(random_test)[1]\n",
    "    try:\n",
    "        assert answer2test == naive_answer\n",
    "    except AssertionError:\n",
    "        print(f'Failed test #{k}')\n",
    "        print(len(random_test))\n",
    "        print(random_test)\n",
    "        print('Expected:')\n",
    "        print(naive_answer)\n",
    "        print('Got:')\n",
    "        print(answer2test)\n",
    "        break"
   ]
  },
  {
   "cell_type": "code",
   "execution_count": 322,
   "metadata": {},
   "outputs": [
    {
     "data": {
      "text/plain": [
       "'[56, 37, 24, 58, 44, 44, 2, 67, 28]'"
      ]
     },
     "execution_count": 322,
     "metadata": {},
     "output_type": "execute_result"
    }
   ],
   "source": [
    "str(random_test)"
   ]
  },
  {
   "cell_type": "code",
   "execution_count": 4,
   "metadata": {},
   "outputs": [],
   "source": [
    "n_numbers = 7\n",
    "arr = [7, 6, 5, 4, 3, 2, 1]"
   ]
  },
  {
   "cell_type": "code",
   "execution_count": 281,
   "metadata": {},
   "outputs": [
    {
     "data": {
      "text/plain": [
       "'42 42 70 79 29 85 47 81 96 3 25 52 49 84 95 17 49 7 9 76 77 79 32 45 52 30 92 85 17 32 92 2 14 85 85 21 30 86 89 79 39 49 47 17'"
      ]
     },
     "execution_count": 281,
     "metadata": {},
     "output_type": "execute_result"
    }
   ],
   "source": [
    "' '.join(list(map(str, [42, 42, 70, 79, 29, 85, 47, 81, 96, 3, 25, 52, 49, 84, 95, 17, 49, 7, 9, 76, 77, 79, 32, 45, 52, 30, 92, 85, 17, 32, 92, 2, 14, 85, 85, 21, 30, 86, 89, 79, 39, 49, 47, 17])))"
   ]
  },
  {
   "cell_type": "code",
   "execution_count": 5,
   "metadata": {},
   "outputs": [],
   "source": [
    "inversion_cntr = 0\n",
    "for i in range(n_numbers):\n",
    "    for j in range(i, n_numbers):\n",
    "        if arr[i] > arr[j]:\n",
    "            inversion_cntr += 1"
   ]
  },
  {
   "cell_type": "code",
   "execution_count": 6,
   "metadata": {},
   "outputs": [
    {
     "data": {
      "text/plain": [
       "21"
      ]
     },
     "execution_count": 6,
     "metadata": {},
     "output_type": "execute_result"
    }
   ],
   "source": [
    "inversion_cntr"
   ]
  },
  {
   "cell_type": "markdown",
   "metadata": {},
   "source": [
    "Quick-sort"
   ]
  },
  {
   "cell_type": "code",
   "execution_count": 382,
   "metadata": {},
   "outputs": [],
   "source": [
    "import sys\n",
    "import random\n",
    "import time\n",
    "from collections import deque"
   ]
  },
  {
   "cell_type": "code",
   "execution_count": 422,
   "metadata": {},
   "outputs": [],
   "source": [
    "import bisect"
   ]
  },
  {
   "cell_type": "code",
   "execution_count": 268,
   "metadata": {},
   "outputs": [],
   "source": [
    "import matplotlib.pyplot as plt"
   ]
  },
  {
   "cell_type": "code",
   "execution_count": 323,
   "metadata": {},
   "outputs": [],
   "source": [
    "import statistics"
   ]
  },
  {
   "cell_type": "code",
   "execution_count": 77,
   "metadata": {},
   "outputs": [],
   "source": [
    "inp = \"\"\"2 3\n",
    "0 5\n",
    "7 10\n",
    "1 6 11\"\"\""
   ]
  },
  {
   "cell_type": "code",
   "execution_count": 78,
   "metadata": {},
   "outputs": [],
   "source": [
    "inp_list = []\n",
    "for line in inp.split('\\n'):\n",
    "    inp_list.append(list(map(int, line.split())))"
   ]
  },
  {
   "cell_type": "code",
   "execution_count": 79,
   "metadata": {},
   "outputs": [
    {
     "data": {
      "text/plain": [
       "[[2, 3], [0, 5], [7, 10], [1, 6, 11]]"
      ]
     },
     "execution_count": 79,
     "metadata": {},
     "output_type": "execute_result"
    }
   ],
   "source": [
    "inp_list"
   ]
  },
  {
   "cell_type": "code",
   "execution_count": 53,
   "metadata": {},
   "outputs": [],
   "source": [
    "def naive_answer(vectors, points):\n",
    "    res = []\n",
    "    for point in points:\n",
    "        n_entries = 0\n",
    "        for vector in vectors:\n",
    "            if point >= vector[0] and point <= vector[1]:\n",
    "                n_entries += 1\n",
    "        res.append(n_entries)\n",
    "    return res"
   ]
  },
  {
   "cell_type": "code",
   "execution_count": 80,
   "metadata": {},
   "outputs": [],
   "source": [
    "vectors = inp_list[1:-1]\n",
    "points = inp_list[-1]"
   ]
  },
  {
   "cell_type": "code",
   "execution_count": 55,
   "metadata": {},
   "outputs": [
    {
     "data": {
      "text/plain": [
       "[1, 0, 0]"
      ]
     },
     "execution_count": 55,
     "metadata": {},
     "output_type": "execute_result"
    }
   ],
   "source": [
    "naive_answer(vectors, points)"
   ]
  },
  {
   "cell_type": "code",
   "execution_count": 14,
   "metadata": {},
   "outputs": [],
   "source": [
    "class Vector4Sort(object):\n",
    "    def __init__(self, x0, x1):\n",
    "        self.x0 = x0\n",
    "        self.x1 = x1"
   ]
  },
  {
   "cell_type": "code",
   "execution_count": 17,
   "metadata": {},
   "outputs": [],
   "source": [
    "point = points[0]"
   ]
  },
  {
   "cell_type": "code",
   "execution_count": 248,
   "metadata": {},
   "outputs": [],
   "source": [
    "def generate_test_samples(l_border=0, r_border=100, n_vectors=50000, n_points=50000):\n",
    "    vectors = []\n",
    "    points = []\n",
    "    for _ in range(n_vectors):\n",
    "        x0 = random.randint(l_border, r_border)\n",
    "        x1 = random.randint(x0, r_border)\n",
    "        vectors.append([x0, x1])\n",
    "    \n",
    "    for _ in range(n_points):\n",
    "        point = random.randint(l_border, r_border)\n",
    "        points.append(point)\n",
    "    \n",
    "    return vectors, points"
   ]
  },
  {
   "cell_type": "code",
   "execution_count": 130,
   "metadata": {},
   "outputs": [],
   "source": [
    "test_samples = generate_test_samples(r_border=10)"
   ]
  },
  {
   "cell_type": "code",
   "execution_count": 131,
   "metadata": {},
   "outputs": [
    {
     "data": {
      "text/plain": [
       "([[8, 10], [0, 0], [9, 10], [0, 1], [7, 9]], [10, 8, 2])"
      ]
     },
     "execution_count": 131,
     "metadata": {},
     "output_type": "execute_result"
    }
   ],
   "source": [
    "test_samples"
   ]
  },
  {
   "cell_type": "code",
   "execution_count": 132,
   "metadata": {},
   "outputs": [
    {
     "data": {
      "text/plain": [
       "[2, 2, 0]"
      ]
     },
     "execution_count": 132,
     "metadata": {},
     "output_type": "execute_result"
    }
   ],
   "source": [
    "naive_answer(test_samples[0], test_samples[1])"
   ]
  },
  {
   "cell_type": "code",
   "execution_count": 133,
   "metadata": {},
   "outputs": [
    {
     "data": {
      "text/plain": [
       "[2, 2, 0]"
      ]
     },
     "execution_count": 133,
     "metadata": {},
     "output_type": "execute_result"
    }
   ],
   "source": [
    "quick_vector_sort(test_samples[0], test_samples[1])"
   ]
  },
  {
   "cell_type": "code",
   "execution_count": 260,
   "metadata": {},
   "outputs": [],
   "source": [
    "def test_precision(naive_alg, target_alg, sample_pseudo_gen, pseudo_generator_kwargs):\n",
    "    test_samples = sample_pseudo_gen(**pseudo_generator_kwargs)\n",
    "    # print(test_samples)\n",
    "    naive_answer = naive_alg(test_samples[0], test_samples[1])\n",
    "    target_answer = target_alg(test_samples[0], test_samples[1])\n",
    "    all_good = True\n",
    "    for i in range(len(test_samples[1])):\n",
    "        if naive_answer[i] != target_answer[i]:\n",
    "            all_good = False\n",
    "    return all_good, test_samples, naive_answer, target_answer"
   ]
  },
  {
   "cell_type": "code",
   "execution_count": 397,
   "metadata": {},
   "outputs": [],
   "source": [
    "def split_vectors_x0(vectors, l_border, r_border, point):\n",
    "    j = 0\n",
    "    for i in range(l_border, r_border):\n",
    "        if vectors[i][0] > point:\n",
    "            # vectors.insert(0, vectors.pop(i))\n",
    "            tmp = vectors[0]\n",
    "            vectors[0] = vectors[i]\n",
    "            vectors[i] = tmp\n",
    "            j += 1\n",
    "    return j\n",
    "    \n",
    "def split_vectors_x1(vectors, l_border, r_border, point):\n",
    "    j = l_border\n",
    "    \n",
    "    for i in range(l_border, r_border):\n",
    "        if vectors[i][1] < point:\n",
    "            # vectors.insert(0, vectors.pop(i))\n",
    "            tmp = vectors[l_border]\n",
    "            vectors[l_border] = vectors[i]\n",
    "            vectors[i] = tmp\n",
    "            j += 1\n",
    "\n",
    "    return j\n",
    "    \n",
    "def quick_vector_sort(vectors, points):\n",
    "    res_dict = {}\n",
    "    rand_idx = random.randint(0, len(points)-1)\n",
    "    tmp = points[0]\n",
    "    points[0] = points[rand_idx]\n",
    "    points[rand_idx] = tmp    \n",
    "    for point in points:\n",
    "        if point not in res_dict:\n",
    "            m = split_vectors_x1(vectors, 0, len(vectors), point)\n",
    "            k = split_vectors_x0(vectors, m, len(vectors), point)\n",
    "            res_dict[point] = len(vectors) - (k + m)\n",
    "    points[rand_idx] = points[0]\n",
    "    points[0] = tmp    \n",
    "    return [res_dict[point] for point in points]"
   ]
  },
  {
   "cell_type": "code",
   "execution_count": 359,
   "metadata": {},
   "outputs": [],
   "source": [
    "def split_vectors_x0(vectors, l_border, r_border, point):\n",
    "    j = 0\n",
    "    for i in range(l_border, r_border):\n",
    "        if vectors[i][0] > point:\n",
    "            vectors.insert(0, vectors.pop(i))\n",
    "            j += 1\n",
    "    return j\n",
    "    \n",
    "def split_vectors_x1(vectors, l_border, r_border, point):\n",
    "    j = l_border\n",
    "    \n",
    "    for i in range(l_border, r_border):\n",
    "        if vectors[i][1] < point:\n",
    "            vectors.insert(l_border, vectors.pop(i))\n",
    "            j += 1\n",
    "\n",
    "    return j\n",
    "    \n",
    "def quick_vector_sort(vectors, points):\n",
    "    vectors_sorted_x0 = sorted(vectors,  key=lambda x: x[0])\n",
    "    # vectors_sorted_x1 = sorted(vectors,  key=lambda x: x[1])    \n",
    "    res_dict = {}\n",
    "    rand_idx = random.randint(0, len(points)-1)\n",
    "    tmp = points[0]\n",
    "    points[0] = points[rand_idx]\n",
    "    points[rand_idx] = tmp    \n",
    "    for point in points:\n",
    "        if point not in res_dict:\n",
    "            m = split_vectors_x1(vectors_sorted_x0, 0, len(vectors), point)\n",
    "            k = split_vectors_x0(vectors_sorted_x0, m, len(vectors), point)\n",
    "            res_dict[point] = len(vectors) - (k + m)\n",
    "    points[rand_idx] = points[0]\n",
    "    points[0] = tmp    \n",
    "    return [res_dict[point] for point in points]"
   ]
  },
  {
   "cell_type": "code",
   "execution_count": 378,
   "metadata": {},
   "outputs": [],
   "source": [
    "def split_vectors_x0(vectors, l_border, r_border, point):\n",
    "    j = 0\n",
    "    k = 0\n",
    "    for i in range(l_border, r_border):\n",
    "        if vectors[i][0] < point:\n",
    "            vectors.insert(0, vectors.pop(i))\n",
    "            j += 1\n",
    "            k += 1\n",
    "        elif vectors[i][0] == point:\n",
    "            vectors.insert(j, vectors.pop(i))\n",
    "            k += 1\n",
    "    return j, k\n",
    "    \n",
    "def split_vectors_x1(vectors, l_border, r_border, point):\n",
    "    j = l_border\n",
    "    if l_border == r_border:\n",
    "        return 0\n",
    "    \n",
    "    for i in range(l_border, r_border):\n",
    "        if vectors[i][1] < point:\n",
    "            vectors.insert(l_border, vectors.pop(i))\n",
    "            j += 1\n",
    "\n",
    "    return j - l_border\n",
    "    \n",
    "def quick_vector_sort(vectors, points):\n",
    "    vectors_sorted_x0 = sorted(vectors,  key=lambda x: x[0], reverse=True)\n",
    "    vectors_sorted_x1 = sorted(vectors,  key=lambda x: x[1], reverse=False)    \n",
    "    res_dict = {}\n",
    "    rand_idx = random.randint(0, len(points)-1)\n",
    "    tmp = points[0]\n",
    "    points[0] = points[rand_idx]\n",
    "    points[rand_idx] = tmp    \n",
    "    for point in points:\n",
    "        if point not in res_dict:\n",
    "            lesser_border, equal_border = split_vectors_x0(vectors_sorted_x0, 0, len(vectors), point)\n",
    "            # k = split_vectors_x1(vectors_sorted_x0, 0, lesser_border, point)\n",
    "            m = split_vectors_x1(vectors_sorted_x1, 0, len(vectors), point)\n",
    "            res_dict[point] = equal_border - m\n",
    "    points[rand_idx] = points[0]\n",
    "    points[0] = tmp    \n",
    "    return [res_dict[point] for point in points]"
   ]
  },
  {
   "cell_type": "code",
   "execution_count": 429,
   "metadata": {},
   "outputs": [],
   "source": [
    "def split_vectors_x0(vectors, l_border, r_border, point):\n",
    "    j = 0\n",
    "    k = 0\n",
    "    for i in range(l_border, r_border):\n",
    "        if vectors[i][0] <= point:\n",
    "            # vectors.insert(0, vectors.pop(i))\n",
    "            tmp = vectors[0]\n",
    "            vectors[0] = vectors[i]\n",
    "            vectors[i] = tmp\n",
    "            j += 1\n",
    "            k += 1\n",
    "    return j\n",
    "    \n",
    "def split_vectors_x1(vectors, l_border, r_border, point):\n",
    "    j = 0\n",
    "    if l_border == r_border:\n",
    "        return 0\n",
    "    \n",
    "    for i in range(l_border, r_border):\n",
    "        if vectors[i][1] < point:\n",
    "            # vectors.insert(l_border, vectors.pop(i))\n",
    "            tmp = vectors[0]\n",
    "            vectors[0] = vectors[i]\n",
    "            vectors[i] = tmp\n",
    "            j += 1\n",
    "\n",
    "    return j - l_border\n",
    "    \n",
    "def quick_vector_sort(vectors, points):\n",
    "    vectors_sorted_x0 = sorted(vectors,  key=lambda x: x[0])\n",
    "    vectors_sorted_x1 = sorted(vectors,  key=lambda x: x[1])    \n",
    "    res_dict = {}\n",
    "    rand_idx = random.randint(0, len(points)-1)\n",
    "    tmp = points[0]\n",
    "    points[0] = points[rand_idx]\n",
    "    points[rand_idx] = tmp    \n",
    "    for point in points:\n",
    "        if point not in res_dict:\n",
    "            equal_border = split_vectors_x0(vectors_sorted_x0, 0, len(vectors), point)\n",
    "            # k = split_vectors_x1(vectors_sorted_x0, 0, lesser_border, point)\n",
    "            m = split_vectors_x1(vectors_sorted_x1, 0, len(vectors), point)\n",
    "            res_dict[point] = equal_border - m\n",
    "    points[rand_idx] = points[0]\n",
    "    points[0] = tmp    \n",
    "    return [res_dict[point] for point in points]"
   ]
  },
  {
   "cell_type": "code",
   "execution_count": 438,
   "metadata": {},
   "outputs": [],
   "source": [
    "def split_vectors_x0(vectors, point):\n",
    "    res = bisect.bisect_right(vectors, point)\n",
    "    return res\n",
    "    \n",
    "def split_vectors_x1(vectors, point):\n",
    "    res = bisect.bisect_left(vectors, point)\n",
    "\n",
    "    return res\n",
    "    \n",
    "def quick_vector_sort(vectors, points):\n",
    "    vectors_sorted_x0 = [vector[0] for vector in sorted(vectors,  key=lambda x: x[0])]\n",
    "    vectors_sorted_x1 = [vector[1] for vector in sorted(vectors,  key=lambda x: x[1])]    \n",
    "    res_dict = {}\n",
    "    rand_idx = random.randint(0, len(points)-1)\n",
    "    tmp = points[0]\n",
    "    points[0] = points[rand_idx]\n",
    "    points[rand_idx] = tmp    \n",
    "    for point in points:\n",
    "        if point not in res_dict:\n",
    "            equal_border = split_vectors_x0(vectors_sorted_x0, 0, len(vectors), point)\n",
    "            # k = split_vectors_x1(vectors_sorted_x0, 0, lesser_border, point)\n",
    "            m = split_vectors_x1(vectors_sorted_x1, 0, len(vectors), point)\n",
    "            res_dict[point] = equal_border - m\n",
    "    points[rand_idx] = points[0]\n",
    "    points[0] = tmp    \n",
    "    return [res_dict[point] for point in points]"
   ]
  },
  {
   "cell_type": "code",
   "execution_count": 439,
   "metadata": {},
   "outputs": [],
   "source": [
    "pseudo_generator_kwargs = dict(\n",
    "            l_border=0,\n",
    "            r_border = 10,\n",
    "            n_vectors=5, \n",
    "            n_points=3        \n",
    "        )\n",
    "random.seed(0)\n",
    "for i in range(1000):\n",
    "    res = test_precision(naive_answer, quick_vector_sort, generate_test_samples, pseudo_generator_kwargs)\n",
    "    if res[0] == False:\n",
    "        print('faled test #', i)\n",
    "        print(res)\n",
    "        break\n"
   ]
  },
  {
   "cell_type": "code",
   "execution_count": 310,
   "metadata": {},
   "outputs": [],
   "source": [
    "def test_perfomance(alg, n_runs_to_esimate=1, input_max_size=20000):\n",
    "    estimated_time_log = []\n",
    "    inp_size_log = []\n",
    "    for input_size in range(10, input_max_size, 1000):\n",
    "        start_time = time.perf_counter()\n",
    "        for i in range(n_runs_to_esimate):\n",
    "            pseudo_generator_kwargs = dict(\n",
    "                l_border=0,\n",
    "                r_border = 10,\n",
    "                n_vectors=input_size, \n",
    "                n_points=input_size        \n",
    "            )\n",
    "            test_samples = generate_test_samples(**pseudo_generator_kwargs)\n",
    "            res = alg(test_samples[0], test_samples[1])\n",
    "        res_time = time.perf_counter() - start_time\n",
    "        estimated_time_log.append(res_time)\n",
    "        inp_size_log.append(input_size)\n",
    "    plt.plot(inp_size_log, estimated_time_log)"
   ]
  },
  {
   "cell_type": "code",
   "execution_count": 311,
   "metadata": {},
   "outputs": [
    {
     "data": {
      "image/png": "[encoded data removed]",
      "text/plain": [
       "<Figure size 432x288 with 1 Axes>"
      ]
     },
     "metadata": {
      "needs_background": "light"
     },
     "output_type": "display_data"
    }
   ],
   "source": [
    "random.seed(0)\n",
    "test_perfomance(quick_vector_sort)\n",
    "\n"
   ]
  },
  {
   "cell_type": "code",
   "execution_count": 440,
   "metadata": {},
   "outputs": [],
   "source": [
    "random.seed(0)\n",
    "pseudo_generator_kwargs = dict(\n",
    "                l_border=0,\n",
    "                r_border = 1000,\n",
    "                n_vectors=50000, \n",
    "                n_points=50000        \n",
    "            )\n",
    "test_samples = generate_test_samples(**pseudo_generator_kwargs)"
   ]
  },
  {
   "cell_type": "code",
   "execution_count": 441,
   "metadata": {},
   "outputs": [
    {
     "name": "stdout",
     "output_type": "stream",
     "text": [
      "CPU times: total: 172 ms\n",
      "Wall time: 150 ms\n"
     ]
    }
   ],
   "source": [
    "%%time\n",
    "res = quick_vector_sort(test_samples[0], test_samples[1])"
   ]
  },
  {
   "cell_type": "code",
   "execution_count": 421,
   "metadata": {},
   "outputs": [
    {
     "ename": "KeyboardInterrupt",
     "evalue": "",
     "output_type": "error",
     "traceback": [
      "\u001b[1;31m---------------------------------------------------------------------------\u001b[0m",
      "\u001b[1;31mKeyboardInterrupt\u001b[0m                         Traceback (most recent call last)",
      "File \u001b[1;32m<timed exec>:1\u001b[0m, in \u001b[0;36m<module>\u001b[1;34m\u001b[0m\n",
      "\u001b[1;32mc:\\Users\\Uer\\Documents\\JN\\algs_n_data_structs\\divide and conquer.ipynb Ячейка 59\u001b[0m in \u001b[0;36mquick_vector_sort\u001b[1;34m(vectors, points)\u001b[0m\n\u001b[0;32m     <a href='vscode-notebook-cell:/c%3A/Users/Uer/Documents/JN/algs_n_data_structs/divide%20and%20conquer.ipynb#ch0000085?line=36'>37</a>\u001b[0m \u001b[39mfor\u001b[39;00m point \u001b[39min\u001b[39;00m points:\n\u001b[0;32m     <a href='vscode-notebook-cell:/c%3A/Users/Uer/Documents/JN/algs_n_data_structs/divide%20and%20conquer.ipynb#ch0000085?line=37'>38</a>\u001b[0m     \u001b[39mif\u001b[39;00m point \u001b[39mnot\u001b[39;00m \u001b[39min\u001b[39;00m res_dict:\n\u001b[1;32m---> <a href='vscode-notebook-cell:/c%3A/Users/Uer/Documents/JN/algs_n_data_structs/divide%20and%20conquer.ipynb#ch0000085?line=38'>39</a>\u001b[0m         equal_border \u001b[39m=\u001b[39m split_vectors_x0(vectors_sorted_x0, \u001b[39m0\u001b[39;49m, \u001b[39mlen\u001b[39;49m(vectors), point)\n\u001b[0;32m     <a href='vscode-notebook-cell:/c%3A/Users/Uer/Documents/JN/algs_n_data_structs/divide%20and%20conquer.ipynb#ch0000085?line=39'>40</a>\u001b[0m         \u001b[39m# k = split_vectors_x1(vectors_sorted_x0, 0, lesser_border, point)\u001b[39;00m\n\u001b[0;32m     <a href='vscode-notebook-cell:/c%3A/Users/Uer/Documents/JN/algs_n_data_structs/divide%20and%20conquer.ipynb#ch0000085?line=40'>41</a>\u001b[0m         m \u001b[39m=\u001b[39m split_vectors_x1(vectors_sorted_x1, \u001b[39m0\u001b[39m, \u001b[39mlen\u001b[39m(vectors), point)\n",
      "\u001b[1;32mc:\\Users\\Uer\\Documents\\JN\\algs_n_data_structs\\divide and conquer.ipynb Ячейка 59\u001b[0m in \u001b[0;36msplit_vectors_x0\u001b[1;34m(vectors, l_border, r_border, point)\u001b[0m\n\u001b[0;32m      <a href='vscode-notebook-cell:/c%3A/Users/Uer/Documents/JN/algs_n_data_structs/divide%20and%20conquer.ipynb#ch0000085?line=7'>8</a>\u001b[0m         vectors[\u001b[39m0\u001b[39m] \u001b[39m=\u001b[39m vectors[i]\n\u001b[0;32m      <a href='vscode-notebook-cell:/c%3A/Users/Uer/Documents/JN/algs_n_data_structs/divide%20and%20conquer.ipynb#ch0000085?line=8'>9</a>\u001b[0m         vectors[i] \u001b[39m=\u001b[39m tmp\n\u001b[1;32m---> <a href='vscode-notebook-cell:/c%3A/Users/Uer/Documents/JN/algs_n_data_structs/divide%20and%20conquer.ipynb#ch0000085?line=9'>10</a>\u001b[0m         j \u001b[39m+\u001b[39m\u001b[39m=\u001b[39m \u001b[39m1\u001b[39m\n\u001b[0;32m     <a href='vscode-notebook-cell:/c%3A/Users/Uer/Documents/JN/algs_n_data_structs/divide%20and%20conquer.ipynb#ch0000085?line=10'>11</a>\u001b[0m         k \u001b[39m+\u001b[39m\u001b[39m=\u001b[39m \u001b[39m1\u001b[39m\n\u001b[0;32m     <a href='vscode-notebook-cell:/c%3A/Users/Uer/Documents/JN/algs_n_data_structs/divide%20and%20conquer.ipynb#ch0000085?line=11'>12</a>\u001b[0m \u001b[39mreturn\u001b[39;00m j\n",
      "\u001b[1;31mKeyboardInterrupt\u001b[0m: "
     ]
    }
   ],
   "source": [
    "%%time\n",
    "res = quick_vector_sort(test_samples[0], test_samples[1])"
   ]
  },
  {
   "cell_type": "code",
   "execution_count": 408,
   "metadata": {},
   "outputs": [
    {
     "name": "stdout",
     "output_type": "stream",
     "text": [
      "CPU times: total: 672 ms\n",
      "Wall time: 693 ms\n"
     ]
    }
   ],
   "source": [
    "%%time\n",
    "res = quick_vector_sort(test_samples[0], test_samples[1])"
   ]
  },
  {
   "cell_type": "code",
   "execution_count": 386,
   "metadata": {},
   "outputs": [
    {
     "name": "stdout",
     "output_type": "stream",
     "text": [
      "CPU times: total: 4.31 s\n",
      "Wall time: 4.35 s\n"
     ]
    }
   ],
   "source": [
    "%%time\n",
    "res = quick_vector_sort(test_samples[0], test_samples[1])"
   ]
  },
  {
   "cell_type": "code",
   "execution_count": 380,
   "metadata": {},
   "outputs": [
    {
     "name": "stdout",
     "output_type": "stream",
     "text": [
      "CPU times: total: 13.2 s\n",
      "Wall time: 13.4 s\n"
     ]
    }
   ],
   "source": [
    "%%time\n",
    "res = quick_vector_sort(test_samples[0], test_samples[1])"
   ]
  },
  {
   "cell_type": "code",
   "execution_count": 362,
   "metadata": {},
   "outputs": [
    {
     "name": "stdout",
     "output_type": "stream",
     "text": [
      "CPU times: total: 11.6 s\n",
      "Wall time: 11.7 s\n"
     ]
    }
   ],
   "source": [
    "%%time\n",
    "res = quick_vector_sort(test_samples[0], test_samples[1])"
   ]
  },
  {
   "cell_type": "code",
   "execution_count": 356,
   "metadata": {},
   "outputs": [
    {
     "name": "stdout",
     "output_type": "stream",
     "text": [
      "CPU times: total: 11.5 s\n",
      "Wall time: 11.6 s\n"
     ]
    }
   ],
   "source": [
    "%%time\n",
    "res = quick_vector_sort(test_samples[0], test_samples[1])"
   ]
  },
  {
   "cell_type": "code",
   "execution_count": 241,
   "metadata": {},
   "outputs": [],
   "source": [
    "vectors = [[0, 7], [2, 6], [9, 9], [8, 10], [3, 3]]\n",
    "points = [1, 0, 3]"
   ]
  },
  {
   "cell_type": "code",
   "execution_count": 242,
   "metadata": {},
   "outputs": [
    {
     "data": {
      "text/plain": [
       "[1, 1, 3]"
      ]
     },
     "execution_count": 242,
     "metadata": {},
     "output_type": "execute_result"
    }
   ],
   "source": [
    "quick_vector_sort(vectors, points)"
   ]
  },
  {
   "cell_type": "code",
   "execution_count": 167,
   "metadata": {},
   "outputs": [
    {
     "data": {
      "text/plain": [
       "[1, 1, 3]"
      ]
     },
     "execution_count": 167,
     "metadata": {},
     "output_type": "execute_result"
    }
   ],
   "source": [
    "quick_vector_sort(vectors, points)"
   ]
  },
  {
   "cell_type": "code",
   "execution_count": null,
   "metadata": {},
   "outputs": [
    {
     "data": {
      "text/plain": [
       "[1, 6, 11]"
      ]
     },
     "metadata": {},
     "output_type": "display_data"
    }
   ],
   "source": [
    "points"
   ]
  },
  {
   "cell_type": "code",
   "execution_count": 76,
   "metadata": {},
   "outputs": [
    {
     "data": {
      "text/plain": [
       "[1,\n",
       " 6,\n",
       " 11,\n",
       " 42,\n",
       " 73,\n",
       " 90,\n",
       " 100,\n",
       " 63,\n",
       " 38,\n",
       " 64,\n",
       " 90,\n",
       " 90,\n",
       " 66,\n",
       " 99,\n",
       " 84,\n",
       " 7,\n",
       " 50,\n",
       " 16,\n",
       " 81,\n",
       " 74,\n",
       " 91,\n",
       " 72,\n",
       " 52,\n",
       " 68,\n",
       " 47,\n",
       " 3,\n",
       " 0,\n",
       " 73,\n",
       " 56,\n",
       " 70,\n",
       " 97,\n",
       " 99,\n",
       " 58,\n",
       " 55,\n",
       " 90,\n",
       " 51,\n",
       " 26,\n",
       " 82,\n",
       " 84,\n",
       " 22,\n",
       " 14,\n",
       " 37,\n",
       " 29,\n",
       " 61,\n",
       " 89,\n",
       " 72,\n",
       " 77,\n",
       " 53,\n",
       " 72,\n",
       " 97,\n",
       " 42,\n",
       " 62,\n",
       " 19,\n",
       " 60,\n",
       " 2,\n",
       " 15,\n",
       " 96,\n",
       " 35,\n",
       " 93,\n",
       " 29,\n",
       " 44,\n",
       " 21,\n",
       " 27,\n",
       " 98,\n",
       " 45,\n",
       " 46,\n",
       " 31,\n",
       " 68,\n",
       " 10,\n",
       " 55,\n",
       " 23,\n",
       " 85,\n",
       " 50,\n",
       " 59,\n",
       " 61,\n",
       " 91,\n",
       " 49,\n",
       " 47,\n",
       " 36,\n",
       " 36,\n",
       " 21,\n",
       " 48,\n",
       " 69,\n",
       " 49,\n",
       " 73,\n",
       " 55,\n",
       " 47,\n",
       " 35,\n",
       " 50,\n",
       " 45,\n",
       " 35,\n",
       " 35,\n",
       " 95,\n",
       " 57,\n",
       " 64,\n",
       " 23,\n",
       " 75,\n",
       " 21,\n",
       " 37,\n",
       " 2,\n",
       " 22,\n",
       " 26,\n",
       " 24,\n",
       " 80,\n",
       " 96,\n",
       " 70,\n",
       " 61,\n",
       " 45,\n",
       " 0,\n",
       " 49,\n",
       " 19,\n",
       " 24,\n",
       " 41,\n",
       " 6,\n",
       " 77,\n",
       " 95,\n",
       " 20,\n",
       " 71,\n",
       " 42,\n",
       " 61,\n",
       " 78,\n",
       " 23,\n",
       " 41]"
      ]
     },
     "execution_count": 76,
     "metadata": {},
     "output_type": "execute_result"
    }
   ],
   "source": [
    "points"
   ]
  },
  {
   "cell_type": "code",
   "execution_count": 46,
   "metadata": {},
   "outputs": [
    {
     "data": {
      "text/plain": [
       "[1, 0, 0]"
      ]
     },
     "execution_count": 46,
     "metadata": {},
     "output_type": "execute_result"
    }
   ],
   "source": [
    "res"
   ]
  },
  {
   "cell_type": "code",
   "execution_count": 16,
   "metadata": {},
   "outputs": [],
   "source": [
    "def sort_vectors(vectors, pivot_el):\n",
    "    return vectors"
   ]
  },
  {
   "cell_type": "code",
   "execution_count": null,
   "metadata": {},
   "outputs": [],
   "source": [
    "res = []\n",
    "for point in points:\n",
    "    n_entries = sort_vectors(vectors, point)\n"
   ]
  }
 ],
 "metadata": {
  "kernelspec": {
   "display_name": "Python 3.9.12 ('old_gensim')",
   "language": "python",
   "name": "python3"
  },
  "language_info": {
   "codemirror_mode": {
    "name": "ipython",
    "version": 3
   },
   "file_extension": ".py",
   "mimetype": "text/x-python",
   "name": "python",
   "nbconvert_exporter": "python",
   "pygments_lexer": "ipython3",
   "version": "3.9.12"
  },
  "orig_nbformat": 4,
  "vscode": {
   "interpreter": {
    "hash": "b6c4eb662d06708e8c25424f295bc6229c50fece870bc8ec67ab66970165841f"
   }
  }
 },
 "nbformat": 4,
 "nbformat_minor": 2
}
