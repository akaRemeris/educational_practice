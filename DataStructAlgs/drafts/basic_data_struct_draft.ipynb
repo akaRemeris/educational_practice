{
 "cells": [
  {
   "cell_type": "code",
   "execution_count": 1,
   "metadata": {},
   "outputs": [],
   "source": [
    "import sys\n",
    "sys.setrecursionlimit(100000)\n",
    "import random"
   ]
  },
  {
   "cell_type": "code",
   "execution_count": 2,
   "metadata": {},
   "outputs": [],
   "source": [
    "n_nodes = 5\n",
    "tree_row = '4 -1 4 1 1'"
   ]
  },
  {
   "cell_type": "code",
   "execution_count": 3,
   "metadata": {},
   "outputs": [],
   "source": [
    "n_nodes = 5\n",
    "tree_row = '9 7 5 5 2 9 9 9 2 -1'"
   ]
  },
  {
   "cell_type": "code",
   "execution_count": 4,
   "metadata": {},
   "outputs": [],
   "source": [
    "accuracy_check_tree_repr = list(map(int, tree_row.split()))"
   ]
  },
  {
   "cell_type": "code",
   "execution_count": 42,
   "metadata": {},
   "outputs": [
    {
     "data": {
      "text/plain": [
       "[9, 7, 5, 5, 2, 9, 9, 9, 2, -1]"
      ]
     },
     "execution_count": 42,
     "metadata": {},
     "output_type": "execute_result"
    }
   ],
   "source": [
    "accuracy_check_tree_repr"
   ]
  },
  {
   "cell_type": "code",
   "execution_count": 19,
   "metadata": {},
   "outputs": [
    {
     "name": "stdout",
     "output_type": "stream",
     "text": [
      "[0, 1, 3, 4, 6, 8]\n"
     ]
    }
   ],
   "source": []
  },
  {
   "cell_type": "code",
   "execution_count": null,
   "metadata": {},
   "outputs": [],
   "source": [
    "for i in range(len(accuracy_check_tree_repr)):\n",
    "    pass"
   ]
  },
  {
   "cell_type": "code",
   "execution_count": 29,
   "metadata": {},
   "outputs": [],
   "source": [
    "def get_depth_BU(tree_repr):\n",
    "    leafs = [i for i in range(len(tree_repr)) if i not in tree_repr]\n",
    "    max_depth = 0\n",
    "    for leaf in leafs:\n",
    "        current_node = leaf\n",
    "        leaf_depth = 0\n",
    "        while current_node != -1:\n",
    "            leaf_depth += 1\n",
    "            current_node = tree_repr[current_node]\n",
    "        max_depth = max(max_depth, leaf_depth)\n",
    "    return max_depth"
   ]
  },
  {
   "cell_type": "code",
   "execution_count": 57,
   "metadata": {},
   "outputs": [],
   "source": [
    "def get_depth_BU_mem(tree_repr):\n",
    "    leafs = [i for i in range(len(tree_repr)) if i not in tree_repr]\n",
    "    max_depth = 0\n",
    "    depth_log = {-1: 0}\n",
    "    for leaf in leafs:\n",
    "        current_node = leaf\n",
    "        leaf_depth = 0\n",
    "        new_nodes_depth = {}\n",
    "        while current_node not in depth_log:\n",
    "            leaf_depth += 1\n",
    "            current_node = tree_repr[current_node]\n",
    "            new_nodes_depth[current_node] = leaf_depth            \n",
    "            \n",
    "        depth_log[leaf] = leaf_depth + depth_log[current_node]\n",
    "\n",
    "        for node in new_nodes_depth:\n",
    "            new_nodes_depth[node] = depth_log[leaf] - new_nodes_depth[node]\n",
    "            \n",
    "        depth_log = depth_log | new_nodes_depth\n",
    "        max_depth = max(max_depth, depth_log[leaf])\n",
    "    return max_depth"
   ]
  },
  {
   "cell_type": "code",
   "execution_count": 11,
   "metadata": {},
   "outputs": [],
   "source": [
    "def get_depth(tree_repr, parent_idx):\n",
    "    max_depth = 0\n",
    "    pivot_idx = 0\n",
    "    while parent_idx in tree_repr[pivot_idx:]:\n",
    "        child_idx = tree_repr.index(parent_idx, pivot_idx)\n",
    "        pivot_idx += child_idx + 1\n",
    "        max_depth = max(max_depth, 1 + get_depth(tree_repr, child_idx))\n",
    "    return max_depth"
   ]
  },
  {
   "cell_type": "code",
   "execution_count": 7,
   "metadata": {},
   "outputs": [],
   "source": [
    "def get_depth_mem(tree_repr, parent_idx, node_depth_mem):\n",
    "    if parent_idx not in node_depth_mem:        \n",
    "        max_depth = 1\n",
    "        pivot_idx = 0\n",
    "        while parent_idx in tree_repr[pivot_idx:]:\n",
    "            child_idx = tree_repr.index(parent_idx, pivot_idx)\n",
    "            pivot_idx += child_idx + 1\n",
    "            max_depth = max(max_depth, 1 + get_depth_mem(tree_repr, child_idx, node_depth_mem))\n",
    "        node_depth_mem[parent_idx] = max_depth\n",
    "    return node_depth_mem[parent_idx]\n",
    "    "
   ]
  },
  {
   "cell_type": "code",
   "execution_count": 65,
   "metadata": {},
   "outputs": [
    {
     "data": {
      "text/plain": [
       "[0, 5, 6, 7]"
      ]
     },
     "execution_count": 65,
     "metadata": {},
     "output_type": "execute_result"
    }
   ],
   "source": [
    "[i for i in range(len(accuracy_check_tree_repr)) if accuracy_check_tree_repr[i] == 9]"
   ]
  },
  {
   "cell_type": "code",
   "execution_count": 104,
   "metadata": {},
   "outputs": [],
   "source": [
    "children_nodes = []\n",
    "for node in range(len(accuracy_check_tree_repr)):\n",
    "    children_nodes.append([i for i in range(len(accuracy_check_tree_repr)) if accuracy_check_tree_repr[i] == node])"
   ]
  },
  {
   "cell_type": "code",
   "execution_count": 105,
   "metadata": {},
   "outputs": [
    {
     "data": {
      "text/plain": [
       "[[], [], [4, 8], [], [], [2, 3], [], [1], [], [0, 5, 6, 7]]"
      ]
     },
     "execution_count": 105,
     "metadata": {},
     "output_type": "execute_result"
    }
   ],
   "source": [
    "children_nodes"
   ]
  },
  {
   "cell_type": "code",
   "execution_count": 107,
   "metadata": {},
   "outputs": [],
   "source": [
    "children_nodes = [[] for _ in range(len(accuracy_check_tree_repr))]\n",
    "for node in range(len(accuracy_check_tree_repr) - 1):\n",
    "    children_nodes[accuracy_check_tree_repr[node]] += [node]"
   ]
  },
  {
   "cell_type": "code",
   "execution_count": 108,
   "metadata": {},
   "outputs": [
    {
     "data": {
      "text/plain": [
       "[[], [], [4, 8], [], [], [2, 3], [], [1], [], [0, 5, 6, 7]]"
      ]
     },
     "execution_count": 108,
     "metadata": {},
     "output_type": "execute_result"
    }
   ],
   "source": [
    "children_nodes"
   ]
  },
  {
   "cell_type": "code",
   "execution_count": 114,
   "metadata": {},
   "outputs": [],
   "source": [
    "def get_depth_adjacency(tree_repr):\n",
    "    \n",
    "    children_nodes = [[] for _ in range(len(tree_repr) + 1)]\n",
    "    for node in range(len(tree_repr)):\n",
    "        children_nodes[tree_repr[node]] += [node]\n",
    "    depth = 0\n",
    "    current_lvl = children_nodes[-1]\n",
    "    while len(current_lvl):\n",
    "        next_lvl = []\n",
    "        depth += 1\n",
    "        for node in current_lvl:\n",
    "            next_lvl += children_nodes[node]\n",
    "        current_lvl = next_lvl\n",
    "    return depth"
   ]
  },
  {
   "cell_type": "code",
   "execution_count": 77,
   "metadata": {},
   "outputs": [],
   "source": [
    "n_nodes = 10 ** 4\n",
    "tree_repr = [i+1 for i in range(n_nodes-1)] + [-1]"
   ]
  },
  {
   "cell_type": "code",
   "execution_count": 115,
   "metadata": {},
   "outputs": [
    {
     "data": {
      "text/plain": [
       "4"
      ]
     },
     "execution_count": 115,
     "metadata": {},
     "output_type": "execute_result"
    }
   ],
   "source": [
    "get_depth_adjacency(accuracy_check_tree_repr)"
   ]
  },
  {
   "cell_type": "code",
   "execution_count": 111,
   "metadata": {},
   "outputs": [
    {
     "name": "stdout",
     "output_type": "stream",
     "text": [
      "CPU times: total: 0 ns\n",
      "Wall time: 7.98 ms\n"
     ]
    },
    {
     "data": {
      "text/plain": [
       "10000"
      ]
     },
     "execution_count": 111,
     "metadata": {},
     "output_type": "execute_result"
    }
   ],
   "source": [
    "%%time\n",
    "get_depth_adjacency(tree_repr)"
   ]
  },
  {
   "cell_type": "code",
   "execution_count": 99,
   "metadata": {},
   "outputs": [
    {
     "name": "stdout",
     "output_type": "stream",
     "text": [
      "CPU times: total: 6.11 s\n",
      "Wall time: 6.17 s\n"
     ]
    },
    {
     "data": {
      "text/plain": [
       "10000"
      ]
     },
     "execution_count": 99,
     "metadata": {},
     "output_type": "execute_result"
    }
   ],
   "source": [
    "%%time\n",
    "get_depth_adjacency(tree_repr)"
   ]
  },
  {
   "cell_type": "code",
   "execution_count": 70,
   "metadata": {},
   "outputs": [
    {
     "data": {
      "text/plain": [
       "4"
      ]
     },
     "execution_count": 70,
     "metadata": {},
     "output_type": "execute_result"
    }
   ],
   "source": [
    "get_depth_BU_mem(accuracy_check_tree_repr) "
   ]
  },
  {
   "cell_type": "code",
   "execution_count": 62,
   "metadata": {},
   "outputs": [
    {
     "name": "stdout",
     "output_type": "stream",
     "text": [
      "CPU times: total: 641 ms\n",
      "Wall time: 637 ms\n"
     ]
    },
    {
     "data": {
      "text/plain": [
       "10000"
      ]
     },
     "execution_count": 62,
     "metadata": {},
     "output_type": "execute_result"
    }
   ],
   "source": [
    "%%time\n",
    "get_depth_BU_mem(tree_repr) "
   ]
  },
  {
   "cell_type": "code",
   "execution_count": 63,
   "metadata": {},
   "outputs": [
    {
     "name": "stdout",
     "output_type": "stream",
     "text": [
      "CPU times: total: 641 ms\n",
      "Wall time: 646 ms\n"
     ]
    },
    {
     "data": {
      "text/plain": [
       "10000"
      ]
     },
     "execution_count": 63,
     "metadata": {},
     "output_type": "execute_result"
    }
   ],
   "source": [
    "%%time\n",
    "get_depth_BU(tree_repr) "
   ]
  },
  {
   "cell_type": "code",
   "execution_count": 21,
   "metadata": {},
   "outputs": [
    {
     "name": "stdout",
     "output_type": "stream",
     "text": [
      "CPU times: total: 0 ns\n",
      "Wall time: 0 ns\n"
     ]
    },
    {
     "data": {
      "text/plain": [
       "4"
      ]
     },
     "execution_count": 21,
     "metadata": {},
     "output_type": "execute_result"
    }
   ],
   "source": [
    "%%time\n",
    "get_depth(accuracy_check_tree_repr, -1) "
   ]
  },
  {
   "cell_type": "code",
   "execution_count": 26,
   "metadata": {},
   "outputs": [
    {
     "name": "stdout",
     "output_type": "stream",
     "text": [
      "CPU times: total: 0 ns\n",
      "Wall time: 0 ns\n"
     ]
    },
    {
     "data": {
      "text/plain": [
       "4"
      ]
     },
     "execution_count": 26,
     "metadata": {},
     "output_type": "execute_result"
    }
   ],
   "source": [
    "%%time\n",
    "get_depth_BU(accuracy_check_tree_repr)"
   ]
  },
  {
   "cell_type": "code",
   "execution_count": 31,
   "metadata": {},
   "outputs": [
    {
     "ename": "KeyboardInterrupt",
     "evalue": "",
     "output_type": "error",
     "traceback": [
      "\u001b[1;31m---------------------------------------------------------------------------\u001b[0m",
      "\u001b[1;31mKeyboardInterrupt\u001b[0m                         Traceback (most recent call last)",
      "File \u001b[1;32m<timed eval>:1\u001b[0m, in \u001b[0;36m<module>\u001b[1;34m\u001b[0m\n",
      "\u001b[1;32mc:\\Users\\Uer\\Documents\\JN\\algs_n_data_structs\\basic_data_struct.ipynb Ячейка 14\u001b[0m in \u001b[0;36mget_depth_BU\u001b[1;34m(tree_repr)\u001b[0m\n\u001b[0;32m      <a href='vscode-notebook-cell:/c%3A/Users/Uer/Documents/JN/algs_n_data_structs/basic_data_struct.ipynb#ch0000025?line=0'>1</a>\u001b[0m \u001b[39mdef\u001b[39;00m \u001b[39mget_depth_BU\u001b[39m(tree_repr):\n\u001b[1;32m----> <a href='vscode-notebook-cell:/c%3A/Users/Uer/Documents/JN/algs_n_data_structs/basic_data_struct.ipynb#ch0000025?line=1'>2</a>\u001b[0m     leafs \u001b[39m=\u001b[39m [i \u001b[39mfor\u001b[39;00m i \u001b[39min\u001b[39;00m \u001b[39mrange\u001b[39m(\u001b[39mlen\u001b[39m(tree_repr)) \u001b[39mif\u001b[39;00m i \u001b[39mnot\u001b[39;00m \u001b[39min\u001b[39;00m tree_repr]\n\u001b[0;32m      <a href='vscode-notebook-cell:/c%3A/Users/Uer/Documents/JN/algs_n_data_structs/basic_data_struct.ipynb#ch0000025?line=2'>3</a>\u001b[0m     max_depth \u001b[39m=\u001b[39m \u001b[39m0\u001b[39m\n\u001b[0;32m      <a href='vscode-notebook-cell:/c%3A/Users/Uer/Documents/JN/algs_n_data_structs/basic_data_struct.ipynb#ch0000025?line=3'>4</a>\u001b[0m     \u001b[39mfor\u001b[39;00m leaf \u001b[39min\u001b[39;00m leafs:\n",
      "\u001b[1;32mc:\\Users\\Uer\\Documents\\JN\\algs_n_data_structs\\basic_data_struct.ipynb Ячейка 14\u001b[0m in \u001b[0;36m<listcomp>\u001b[1;34m(.0)\u001b[0m\n\u001b[0;32m      <a href='vscode-notebook-cell:/c%3A/Users/Uer/Documents/JN/algs_n_data_structs/basic_data_struct.ipynb#ch0000025?line=0'>1</a>\u001b[0m \u001b[39mdef\u001b[39;00m \u001b[39mget_depth_BU\u001b[39m(tree_repr):\n\u001b[1;32m----> <a href='vscode-notebook-cell:/c%3A/Users/Uer/Documents/JN/algs_n_data_structs/basic_data_struct.ipynb#ch0000025?line=1'>2</a>\u001b[0m     leafs \u001b[39m=\u001b[39m [i \u001b[39mfor\u001b[39;00m i \u001b[39min\u001b[39;00m \u001b[39mrange\u001b[39m(\u001b[39mlen\u001b[39m(tree_repr)) \u001b[39mif\u001b[39;00m i \u001b[39mnot\u001b[39;00m \u001b[39min\u001b[39;00m tree_repr]\n\u001b[0;32m      <a href='vscode-notebook-cell:/c%3A/Users/Uer/Documents/JN/algs_n_data_structs/basic_data_struct.ipynb#ch0000025?line=2'>3</a>\u001b[0m     max_depth \u001b[39m=\u001b[39m \u001b[39m0\u001b[39m\n\u001b[0;32m      <a href='vscode-notebook-cell:/c%3A/Users/Uer/Documents/JN/algs_n_data_structs/basic_data_struct.ipynb#ch0000025?line=3'>4</a>\u001b[0m     \u001b[39mfor\u001b[39;00m leaf \u001b[39min\u001b[39;00m leafs:\n",
      "\u001b[1;31mKeyboardInterrupt\u001b[0m: "
     ]
    }
   ],
   "source": [
    "%%time\n",
    "get_depth_BU(tree_repr)"
   ]
  },
  {
   "cell_type": "code",
   "execution_count": 9,
   "metadata": {},
   "outputs": [
    {
     "ename": "",
     "evalue": "",
     "output_type": "error",
     "traceback": [
      "\u001b[1;31mCanceled future for execute_request message before replies were done"
     ]
    },
    {
     "ename": "",
     "evalue": "",
     "output_type": "error",
     "traceback": [
      "\u001b[1;31mПри выполнении кода в текущей ячейке или предыдущей ячейке ядро аварийно завершило работу. Проверьте код в ячейках, чтобы определить возможную причину сбоя. Щелкните <a href=\"https://aka.ms/vscodeJupyterKernelCrash\">здесь</a> для получения дополнительных сведений. Подробнее см. в <a href='command:jupyter.viewOutput'>журнале Jupyter</a>."
     ]
    }
   ],
   "source": [
    "%%time\n",
    "get_depth(tree_repr, -1)"
   ]
  },
  {
   "cell_type": "code",
   "execution_count": 9,
   "metadata": {},
   "outputs": [
    {
     "name": "stdout",
     "output_type": "stream",
     "text": [
      "CPU times: total: 0 ns\n",
      "Wall time: 0 ns\n"
     ]
    },
    {
     "data": {
      "text/plain": [
       "5"
      ]
     },
     "execution_count": 9,
     "metadata": {},
     "output_type": "execute_result"
    }
   ],
   "source": [
    "%%time\n",
    "node_depth_mem = {}\n",
    "get_depth_mem(accuracy_check_tree_repr, -1, node_depth_mem)"
   ]
  },
  {
   "cell_type": "code",
   "execution_count": 10,
   "metadata": {},
   "outputs": [
    {
     "ename": "",
     "evalue": "",
     "output_type": "error",
     "traceback": [
      "\u001b[1;31mCanceled future for execute_request message before replies were done"
     ]
    },
    {
     "ename": "",
     "evalue": "",
     "output_type": "error",
     "traceback": [
      "\u001b[1;31mПри выполнении кода в текущей ячейке или предыдущей ячейке ядро аварийно завершило работу. Проверьте код в ячейках, чтобы определить возможную причину сбоя. Щелкните <a href=\"https://aka.ms/vscodeJupyterKernelCrash\">здесь</a> для получения дополнительных сведений. Подробнее см. в <a href='command:jupyter.viewOutput'>журнале Jupyter</a>."
     ]
    }
   ],
   "source": [
    "%%time\n",
    "node_depth_mem = {}\n",
    "get_depth_mem(tree_repr, -1, node_depth_mem)"
   ]
  },
  {
   "cell_type": "code",
   "execution_count": 29,
   "metadata": {},
   "outputs": [
    {
     "data": {
      "text/plain": [
       "{0: 1, 4: 1, 8: 1, 2: 2, 3: 1, 5: 3, 1: 1, 7: 2, 9: 4, -1: 5}"
      ]
     },
     "execution_count": 29,
     "metadata": {},
     "output_type": "execute_result"
    }
   ],
   "source": [
    "node_depth_mem"
   ]
  },
  {
   "cell_type": "code",
   "execution_count": 8,
   "metadata": {},
   "outputs": [
    {
     "data": {
      "text/plain": [
       "1"
      ]
     },
     "execution_count": 8,
     "metadata": {},
     "output_type": "execute_result"
    }
   ],
   "source": []
  },
  {
   "cell_type": "code",
   "execution_count": 6,
   "metadata": {},
   "outputs": [
    {
     "data": {
      "text/plain": [
       "3"
      ]
     },
     "execution_count": 6,
     "metadata": {},
     "output_type": "execute_result"
    }
   ],
   "source": [
    "tree_repr.index(1)"
   ]
  },
  {
   "cell_type": "code",
   "execution_count": null,
   "metadata": {},
   "outputs": [],
   "source": []
  }
 ],
 "metadata": {
  "kernelspec": {
   "display_name": "Python 3.9.12 ('alg_env')",
   "language": "python",
   "name": "python3"
  },
  "language_info": {
   "codemirror_mode": {
    "name": "ipython",
    "version": 3
   },
   "file_extension": ".py",
   "mimetype": "text/x-python",
   "name": "python",
   "nbconvert_exporter": "python",
   "pygments_lexer": "ipython3",
   "version": "3.9.12"
  },
  "orig_nbformat": 4,
  "vscode": {
   "interpreter": {
    "hash": "31cea1469931c6410ea8093c7f3640ca5b79f3c79edb1ffb51202773f63cbd27"
   }
  }
 },
 "nbformat": 4,
 "nbformat_minor": 2
}
