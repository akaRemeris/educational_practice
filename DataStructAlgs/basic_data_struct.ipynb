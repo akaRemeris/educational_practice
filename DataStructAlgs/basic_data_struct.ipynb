{
 "cells": [
  {
   "cell_type": "markdown",
   "metadata": {},
   "source": [
    "# Parentheses correctness check (Stack d.s.)"
   ]
  },
  {
   "cell_type": "markdown",
   "metadata": {},
   "source": [
    "The task is to implement a check for the correct placement of brackets. Parentheses []{}() may occur in the code. The brackets [,{ and ( are considered opening brackets, and their corresponding closing brackets are ],} and ). In addition to brackets, the source code may contain Latin characters, numbers, and punctuation marks."
   ]
  },
  {
   "cell_type": "markdown",
   "metadata": {},
   "source": [
    "Input format: <p>The string $s[1,..., n]$, consisting of uppercase and lowercase letters of the Latin alphabet, numbers, punctuation marks and brackets from the set []{}().</p>\n",
    "\n",
    "Output format: <p>If the brackets in $s$ are placed correctly, print the string “Success\". Otherwise, print the index (using indexing from 1) of the first closing bracket, for which has no corresponding opening. Also print the index of the first opening bracket for which there is no corresponding closing.</p>\n",
    "Input limits are $1 ≤ n ≤ 105$."
   ]
  },
  {
   "cell_type": "markdown",
   "metadata": {},
   "source": [
    "Example 1.\n",
    "Input:\n",
    "```mermaid\n",
    "[]\n",
    "```\n",
    "Output:\n",
    "```mermaid\n",
    "Success\n",
    "```\n",
    "Example 2.\n",
    "Input:\n",
    "```mermaid\n",
    "{}[]\n",
    "```\n",
    "Output:\n",
    "```mermaid\n",
    "Success\n",
    "```\n",
    "Example 3.\n",
    "Input:\n",
    "```mermaid\n",
    "[()]\n",
    "```\n",
    "Output:\n",
    "```mermaid\n",
    "Success\n",
    "```\n",
    "Example 4.\n",
    "Input:\n",
    "```mermaid\n",
    "(())  \n",
    "```\n",
    "Output:\n",
    "```mermaid\n",
    "Success\n",
    "```\n",
    "Example 5.\n",
    "Input:\n",
    "```mermaid\n",
    "{[]}()\n",
    "```\n",
    "Output:\n",
    "```mermaid\n",
    "Success\n",
    "```\n",
    "Example 6.\n",
    "Input:\n",
    "```mermaid\n",
    "{\n",
    "```\n",
    "Output:\n",
    "```mermaid\n",
    "1 \n",
    "```\n",
    "Example 7.\n",
    "Input:\n",
    "```mermaid\n",
    "{[}\n",
    "```\n",
    "Output:\n",
    "```mermaid\n",
    "3\n",
    "```\n",
    "Example 8.\n",
    "Input:\n",
    "```mermaid\n",
    "foo(bar);\n",
    "```\n",
    "Output:\n",
    "```mermaid\n",
    "Success\n",
    "```\n",
    "Example 9.\n",
    "Input:\n",
    "```mermaid\n",
    "foo(bar[i);\n",
    "```\n",
    "Output:\n",
    "```mermaid\n",
    "10\n",
    "```"
   ]
  },
  {
   "cell_type": "code",
   "execution_count": 6,
   "metadata": {},
   "outputs": [],
   "source": [
    "class Stack(object):\n",
    "    def __init__(self):\n",
    "        pass\n",
    "    def top(self):\n",
    "        pass\n",
    "    def pop(self):\n",
    "        pass\n",
    "    def push(self):\n",
    "        pass\n",
    "    def empty(self):\n",
    "        pass\n",
    "   \n",
    "class ListStack(object):\n",
    "    def __init__(self):\n",
    "        self.data = []\n",
    "\n",
    "    def top(self):\n",
    "        return self.data[-1]\n",
    "    \n",
    "    def pop(self):\n",
    "        return self.data.pop()\n",
    "    \n",
    "    def push(self, key):\n",
    "        self.data.append(key)\n",
    "    \n",
    "    def empty(self):\n",
    "        return len(self.data) == 0\n",
    "   \n",
    "def par_check(row):\n",
    "    stack = ListStack()\n",
    "    close_map = {')': '(', ']': '[', '}': '{'}\n",
    "    try:\n",
    "        for i in range(len(row)):\n",
    "            if row[i] in ('({['):\n",
    "                stack.push((row[i], i+1))\n",
    "\n",
    "            if row[i] in (']})'):\n",
    "                assert stack.empty() is False, 'Too many closures'\n",
    "                assert stack.pop()[0] == close_map[row[i]], 'Wrong closure type'\n",
    "    except AssertionError:\n",
    "        return i+1\n",
    "    if stack.empty():\n",
    "        return 'Success'\n",
    "    else:\n",
    "        return stack.top()[1]\n",
    "   \n",
    "# row = input()\n",
    "# print(par_check(row))"
   ]
  },
  {
   "cell_type": "code",
   "execution_count": 7,
   "metadata": {},
   "outputs": [],
   "source": [
    "test_examples = {'[]': 'Success', '{}[]': 'Success', '[()]': 'Success', '(())': 'Success', '{[]}()': 'Success', '{': 1, '{[}': 3, 'foo(bar);': 'Success', 'foo(bar[i);': 10}\n",
    "for test_case in test_examples:\n",
    "    assert par_check(test_case) == test_examples[test_case]"
   ]
  },
  {
   "cell_type": "markdown",
   "metadata": {},
   "source": [
    "# Tree hight"
   ]
  },
  {
   "cell_type": "markdown",
   "metadata": {},
   "source": [
    "The first given line contains a natural number $n$. The second line contains $n$ values of numbers $parent_0, ..., parent_(n-1)$. For every $0 ≤ i ≤ n−1$, $parent_i$ is the parent of $i$; if $parent_i$ = −1, then $i$ is a root. It is guaranteed that there is exactly one root. It is guaranteed that the chain length defines a tree.\n",
    "\n",
    "Input restrictions: $1 ≤ n ≤ 105$.\n",
    "\n",
    "Output is ought to be a tree height."
   ]
  },
  {
   "cell_type": "markdown",
   "metadata": {},
   "source": [
    "Example 1.\n",
    "Input:\n",
    "```mermaid\n",
    "5\n",
    "4 -1 4 1 1\n",
    "```\n",
    "Output:\n",
    "```mermaid\n",
    "3\n",
    "```\n",
    "Example 2.\n",
    "Output:\n",
    "```mermaid\n",
    "5\n",
    "-1 0 4 0 3\n",
    "```\n",
    "Output:\n",
    "```mermaid\n",
    "4\n",
    "```"
   ]
  },
  {
   "cell_type": "code",
   "execution_count": 3,
   "metadata": {},
   "outputs": [
    {
     "name": "stdout",
     "output_type": "stream",
     "text": [
      "3\n"
     ]
    }
   ],
   "source": [
    "# n_nodes = int(input())\n",
    "# tree_row = input()\n",
    "\n",
    "# tree_repr = list(map(int, tree_row.split()))\n",
    "\n",
    "def get_depth_adjacency(repr_len, tree_repr):    \n",
    "    children_nodes = [[] for _ in range(repr_len + 1)]\n",
    "    for node in range(repr_len):\n",
    "        children_nodes[tree_repr[node]] += [node]\n",
    "    depth = 0\n",
    "    current_lvl = children_nodes[-1]\n",
    "    while len(current_lvl):\n",
    "        next_lvl = []\n",
    "        depth += 1\n",
    "        for node in current_lvl:\n",
    "            next_lvl += children_nodes[node]\n",
    "        current_lvl = next_lvl\n",
    "    return depth\n",
    "        \n",
    "print(get_depth_adjacency(5, [4, -1, 4, 1, 1]))"
   ]
  },
  {
   "cell_type": "code",
   "execution_count": 4,
   "metadata": {},
   "outputs": [],
   "source": [
    "test_examples = [([5, [4, -1, 4, 1, 1]], 3), ([5, [-1, 0, 4, 0, 3]], 4)]\n",
    "for test_case in test_examples:\n",
    "    assert get_depth_adjacency(*test_case[0]) == test_case[1]"
   ]
  }
 ],
 "metadata": {
  "kernelspec": {
   "display_name": "Python 3.9.12 ('alg_env')",
   "language": "python",
   "name": "python3"
  },
  "language_info": {
   "codemirror_mode": {
    "name": "ipython",
    "version": 3
   },
   "file_extension": ".py",
   "mimetype": "text/x-python",
   "name": "python",
   "nbconvert_exporter": "python",
   "pygments_lexer": "ipython3",
   "version": "3.9.12"
  },
  "orig_nbformat": 4,
  "vscode": {
   "interpreter": {
    "hash": "31cea1469931c6410ea8093c7f3640ca5b79f3c79edb1ffb51202773f63cbd27"
   }
  }
 },
 "nbformat": 4,
 "nbformat_minor": 2
}
