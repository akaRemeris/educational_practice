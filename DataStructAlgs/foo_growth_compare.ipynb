{
 "cells": [
  {
   "cell_type": "code",
   "execution_count": 1,
   "metadata": {},
   "outputs": [],
   "source": [
    "from sympy import limit, Symbol, log, factorial, oo\n",
    "from sympy import sqrt"
   ]
  },
  {
   "cell_type": "code",
   "execution_count": 2,
   "metadata": {},
   "outputs": [],
   "source": [
    "n = Symbol('n')"
   ]
  },
  {
   "cell_type": "code",
   "execution_count": 4,
   "metadata": {},
   "outputs": [],
   "source": [
    "foo_list = [\n",
    "    log(log(n, 2), 2), \n",
    "    log(n, 3), \n",
    "    sqrt(n), \n",
    "    log(factorial(n), 2),\n",
    "    7**log(n, 2),\n",
    "    sqrt(log(n, 4)),\n",
    "    log(n, 2)**2,\n",
    "    n**2,\n",
    "    factorial(n),\n",
    "    n**log(n, 2),\n",
    "    3**log(n, 2),\n",
    "    n/log(n, 5),\n",
    "    2**(3*n),\n",
    "    n**sqrt(n),\n",
    "    2**(2**n),\n",
    "    log(n, 2)**log(n, 2),\n",
    "    4**n,\n",
    "    2**n\n",
    "]"
   ]
  },
  {
   "cell_type": "code",
   "execution_count": 5,
   "metadata": {},
   "outputs": [],
   "source": [
    "class ComparableExpression(object):\n",
    "    def __init__(self, expr):\n",
    "        self.expr = expr\n",
    "\n",
    "    def __lt__(self, other_expr):\n",
    "        lim = limit(self.expr/other_expr.expr, n, oo)\n",
    "        return  lim == 0\n",
    "    \n",
    "    def __le__(self, other_expr):\n",
    "        lim = limit(self.expr/other_expr.expr, n, oo)\n",
    "        return  lim < oo\n",
    "    \n",
    "    def __gt__(self, other_expr):\n",
    "        lim = limit(self.expr/other_expr.expr, n, oo)\n",
    "        return  lim == oo\n",
    "    \n",
    "    def __ge__(self, other_expr):\n",
    "        lim = limit(self.expr/other_expr.expr, n, oo)\n",
    "        return  lim > 0"
   ]
  },
  {
   "cell_type": "code",
   "execution_count": 6,
   "metadata": {},
   "outputs": [],
   "source": [
    "sorted_expression_list = sorted(foo_list, key=lambda x: ComparableExpression(x))"
   ]
  },
  {
   "cell_type": "code",
   "execution_count": 7,
   "metadata": {},
   "outputs": [
    {
     "data": {
      "text/plain": [
       "[log(log(n)/log(2))/log(2),\n",
       " sqrt(log(n))/sqrt(log(4)),\n",
       " log(n)/log(3),\n",
       " log(n)**2/log(2)**2,\n",
       " sqrt(n),\n",
       " n*log(5)/log(n),\n",
       " log(factorial(n))/log(2),\n",
       " 3**(log(n)/log(2)),\n",
       " n**2,\n",
       " 7**(log(n)/log(2)),\n",
       " (log(n)/log(2))**(log(n)/log(2)),\n",
       " n**(log(n)/log(2)),\n",
       " n**(sqrt(n)),\n",
       " 2**n,\n",
       " 4**n,\n",
       " 2**(3*n),\n",
       " factorial(n),\n",
       " 2**(2**n)]"
      ]
     },
     "execution_count": 7,
     "metadata": {},
     "output_type": "execute_result"
    }
   ],
   "source": [
    "sorted_expression_list"
   ]
  }
 ],
 "metadata": {
  "kernelspec": {
   "display_name": "Python 3.9.12 ('alg_env')",
   "language": "python",
   "name": "python3"
  },
  "language_info": {
   "codemirror_mode": {
    "name": "ipython",
    "version": 3
   },
   "file_extension": ".py",
   "mimetype": "text/x-python",
   "name": "python",
   "nbconvert_exporter": "python",
   "pygments_lexer": "ipython3",
   "version": "3.9.12"
  },
  "orig_nbformat": 4,
  "vscode": {
   "interpreter": {
    "hash": "31cea1469931c6410ea8093c7f3640ca5b79f3c79edb1ffb51202773f63cbd27"
   }
  }
 },
 "nbformat": 4,
 "nbformat_minor": 2
}
