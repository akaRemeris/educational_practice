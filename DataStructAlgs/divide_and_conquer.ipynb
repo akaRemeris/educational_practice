{
 "cells": [
  {
   "cell_type": "code",
   "execution_count": 18,
   "metadata": {},
   "outputs": [],
   "source": [
    "import time\n",
    "import random"
   ]
  },
  {
   "cell_type": "code",
   "execution_count": 16,
   "metadata": {},
   "outputs": [],
   "source": [
    "def foo_time(foo, *args, n_iterations=100):\n",
    "    min_time = float('inf')\n",
    "    for _ in range(n_iterations):\n",
    "        t0 = time.perf_counter()\n",
    "        foo(*args)\n",
    "        t1 = time.perf_counter()\n",
    "        min_time = min(min_time, t1 - t0)\n",
    "    return min_time"
   ]
  },
  {
   "cell_type": "markdown",
   "metadata": {},
   "source": [
    "# Binary search"
   ]
  },
  {
   "cell_type": "markdown",
   "metadata": {},
   "source": [
    "The first given line contains an integer $1≤n≤10^5$ and an array $A[1…n]$ of $n$ different natural numbers not exceeding $10^9$ in ascending order, the second line contains an integer $1≤ k≤10^5$ and $k$ natural numbers $b_1, ..., b_k$ not exceeding $10^9$. For each $i$ from 1 to $k$, print the index $1≤j≤n$ for which $A[j]=b_i$, or $−1$ if there is no such $j$."
   ]
  },
  {
   "cell_type": "markdown",
   "metadata": {},
   "source": [
    "Sample Input:\n",
    "```mermaid\n",
    "5 1 5 8 12 13\n",
    "5 8 1 23 1 11\n",
    "```\n",
    "Sample Output:\n",
    "```mermaid\n",
    "3 1 -1 1 -1\n",
    "```"
   ]
  },
  {
   "cell_type": "code",
   "execution_count": 9,
   "metadata": {},
   "outputs": [
    {
     "name": "stdout",
     "output_type": "stream",
     "text": [
      "5 1 5 8 12 13\n",
      "5 8 1 23 1 11\n",
      "\n",
      "3 1 -1 1 -1\n"
     ]
    }
   ],
   "source": [
    "def binary_search(arr, tgt, n_src):\n",
    "    l_border = 0\n",
    "    r_border = n_src - 1\n",
    "    \n",
    "    while r_border - l_border >= 0:\n",
    "        center_idx = (r_border + l_border)//2\n",
    "        if arr[center_idx] == tgt:\n",
    "            return center_idx + 1        \n",
    "        if arr[center_idx] < tgt:\n",
    "            l_border = center_idx + 1\n",
    "        else:\n",
    "            r_border = center_idx - 1\n",
    "       \n",
    "    return -1\n",
    "    \n",
    "\n",
    "# n_src, *src = map(int, input().split())\n",
    "# n_tgt, *tgt = map(int, input().split())\n",
    "input_data = [[5, 1, 5, 8, 12, 13], [5, 8, 1, 23, 1, 11]]\n",
    "n_src, *src = input_data[0]\n",
    "n_tgt, *tgt = input_data[1]\n",
    "\n",
    "res = []\n",
    "for el in tgt:\n",
    "    res.append(binary_search(src, el, n_src))\n",
    "print(' '.join(list(map(str, input[0]))))\n",
    "print(' '.join(list(map(str, input[1]))))\n",
    "print()\n",
    "print(' '.join(list(map(str, res))))"
   ]
  },
  {
   "cell_type": "code",
   "execution_count": 11,
   "metadata": {},
   "outputs": [],
   "source": [
    "def test_binary_search():\n",
    "    assert binary_search([], 42, 0) == -1, 'Empty src process error'\n",
    "    assert binary_search([42], 24, 1) == -1, 'OOV process error'\n",
    "    assert binary_search([42], 42, 1) == 1, 'Look up error'\n",
    "test_binary_search()"
   ]
  },
  {
   "cell_type": "markdown",
   "metadata": {},
   "source": [
    "# Inversions counter (using merge sort)"
   ]
  },
  {
   "cell_type": "markdown",
   "metadata": {},
   "source": [
    "The first given line contains the number $1≤n≤10^5$, the second one contains the array $A[1…n]$ containing natural numbers not exceeding $10^9$. The task is to count the number of pairs of indices $1≤i<j≤n$ for which $A[i]>A[j]$. (Such a pair of elements is called an array inversion. The number of inversions in an array is, in a sense, a measure of its disorder: for example, in a non-decreasing array, there are no inversions at all, but in a descending array, every two elements form an inversion.)"
   ]
  },
  {
   "cell_type": "markdown",
   "metadata": {},
   "source": [
    "Sample Input:\n",
    "```mermaid\n",
    "5\n",
    "2 3 9 2 9\n",
    "```\n",
    "Sample Output:\n",
    "```mermaid\n",
    "2\n",
    "```"
   ]
  },
  {
   "cell_type": "code",
   "execution_count": 14,
   "metadata": {},
   "outputs": [
    {
     "name": "stdout",
     "output_type": "stream",
     "text": [
      "5\n",
      "2 3 9 2 9\n",
      "\n",
      "2\n"
     ]
    }
   ],
   "source": [
    "from collections import deque\n",
    "import sys\n",
    "\n",
    "\n",
    "def merge(arr1, arr2):\n",
    "    inversion_cntr = 0\n",
    "    sorted_arr = deque()\n",
    "\n",
    "    while len(arr1) * len(arr2) > 0:\n",
    "        if arr1[0] < arr2[0]:\n",
    "            sorted_arr.append(arr1.popleft())            \n",
    "        elif arr1[0] > arr2[0]:\n",
    "            sorted_arr.append(arr2.popleft())\n",
    "            inversion_cntr += len(arr1)\n",
    "        else:\n",
    "            while len(arr1) > 0 and arr1[0] == arr2[0]:\n",
    "                sorted_arr.append(arr1.popleft())\n",
    "            sorted_arr.append(arr2.popleft())\n",
    "            inversion_cntr += len(arr1)\n",
    "    \n",
    "    while len(arr1) > 0:\n",
    "        sorted_arr.append(arr1.popleft())\n",
    "    while len(arr2) > 0:\n",
    "        sorted_arr.append(arr2.popleft())\n",
    "    \n",
    "    return sorted_arr, inversion_cntr\n",
    "\n",
    "def merge_inversions(arr):\n",
    "    squeezed_queue = deque([deque([el]) for el in arr])\n",
    "    n_inversions = 0\n",
    "    curren_lvl_length = len(squeezed_queue)//2\n",
    "    while len(squeezed_queue) > 1:\n",
    "        initial_len = len(squeezed_queue)\n",
    "        for i in range(curren_lvl_length):\n",
    "            fst_el = squeezed_queue.popleft()\n",
    "            snd_el = squeezed_queue.popleft()        \n",
    "            merged_el, n_iter_inversions = merge(fst_el, snd_el)    \n",
    "            n_inversions += n_iter_inversions\n",
    "            squeezed_queue.append(merged_el)\n",
    "        if initial_len%2 != 0 and len(squeezed_queue) > 1:\n",
    "            fst_el = squeezed_queue.popleft()\n",
    "            snd_el = squeezed_queue.pop()        \n",
    "            merged_el, n_iter_inversions = merge(snd_el, fst_el)    \n",
    "            n_inversions += n_iter_inversions\n",
    "            squeezed_queue.append(merged_el)\n",
    "        curren_lvl_length = len(squeezed_queue)//2\n",
    "    return n_inversions\n",
    "\n",
    "input_data = [5, [2, 3, 9, 2, 9]]\n",
    "n_numbers = input_data[0]\n",
    "arr = input_data[1]\n",
    "\n",
    "n_inversions = merge_inversions(arr)\n",
    "\n",
    "print(input_data[0])\n",
    "print(' '.join(list(map(str, input_data[1]))))\n",
    "print()\n",
    "print(n_inversions)"
   ]
  },
  {
   "cell_type": "markdown",
   "metadata": {},
   "source": [
    "## Inversion counter test"
   ]
  },
  {
   "cell_type": "code",
   "execution_count": 19,
   "metadata": {},
   "outputs": [],
   "source": [
    "import numpy as np\n",
    "\n",
    "def get_inversed_pairs_number(A):\n",
    "    # Naive alg version O(n^2)\n",
    "    result = 0\n",
    "    if len(A) < 2:\n",
    "        return result\n",
    "    for i, element in enumerate(A):\n",
    "        for j, element2 in enumerate(A[i + 1:]):\n",
    "            if element > element2:\n",
    "                result += 1\n",
    "\n",
    "    return result\n",
    "\n",
    "for k in range(998):\n",
    "    random_test = np.random.randint(0, 10, 1000).tolist()\n",
    "    naive_answer = get_inversed_pairs_number(random_test)\n",
    "    answer2test = merge_inversions(random_test)\n",
    "    try:\n",
    "        assert answer2test == naive_answer\n",
    "    except AssertionError:\n",
    "        print(f'Failed test #{k}')\n",
    "        print(len(random_test))\n",
    "        print(random_test)\n",
    "        print('Expected:')\n",
    "        print(naive_answer)\n",
    "        print('Got:')\n",
    "        print(answer2test)\n",
    "        break"
   ]
  },
  {
   "cell_type": "markdown",
   "metadata": {},
   "source": [
    "# Points and segments"
   ]
  },
  {
   "cell_type": "markdown",
   "metadata": {},
   "source": [
    "The first given line contains two integers $1≤n≤50000$ and $1≤m≤50000$ — the number of segments and points on the line, respectively. The next $n$ lines contain two integers each $a_i$ and $b_i$ ($a_i ≤ b_i$) — the coordinates of the ends of the segments. The last line contains $m$ integers — the coordinates of the points. All coordinates do not exceed $10^8$ modulo. A point is considered to belong to a segment if it is inside it or on the boundary. For each point, in order of appearance in the input, output how many segments it belongs to."
   ]
  },
  {
   "cell_type": "markdown",
   "metadata": {},
   "source": [
    "Sample Input:\n",
    "```mermaid\n",
    "2 3\n",
    "0 5\n",
    "7 10\n",
    "1 6 11\n",
    "```\n",
    "Sample Output:\n",
    "```mermaid\n",
    "1 0 0\n",
    "```"
   ]
  },
  {
   "cell_type": "code",
   "execution_count": 26,
   "metadata": {},
   "outputs": [
    {
     "name": "stdout",
     "output_type": "stream",
     "text": [
      "2 3\n",
      "0 5\n",
      "7 10\n",
      "1 6 11\n",
      "\n",
      "1 0 0\n"
     ]
    }
   ],
   "source": [
    "import sys\n",
    "import random\n",
    "import bisect\n",
    "\n",
    "def split_vectors_x0(vectors, point):\n",
    "    res = bisect.bisect_right(vectors, point)\n",
    "    return res\n",
    "    \n",
    "def split_vectors_x1(vectors, point):\n",
    "    res = bisect.bisect_left(vectors, point)\n",
    "\n",
    "    return res\n",
    "    \n",
    "def quick_vector_sort(vectors, points):\n",
    "    vectors_sorted_x0 = [vector[0] for vector in sorted(vectors,  key=lambda x: x[0])]\n",
    "    vectors_sorted_x1 = [vector[1] for vector in sorted(vectors,  key=lambda x: x[1])]    \n",
    "    res_dict = {}\n",
    "    rand_idx = random.randint(0, len(points)-1)\n",
    "    tmp = points[0]\n",
    "    points[0] = points[rand_idx]\n",
    "    points[rand_idx] = tmp    \n",
    "    for point in points:\n",
    "        if point not in res_dict:\n",
    "            equal_border = split_vectors_x0(vectors_sorted_x0, point)            \n",
    "            m = split_vectors_x1(vectors_sorted_x1, point)\n",
    "            res_dict[point] = equal_border - m\n",
    "    points[rand_idx] = points[0]\n",
    "    points[0] = tmp    \n",
    "    return [res_dict[point] for point in points]\n",
    "\n",
    "# preset = list(map(int, input().split()))\n",
    "# vectors = []\n",
    "# for _ in range(preset[0]):\n",
    "#     vectors.append(list(map(int, sys.stdin.readline().split())))\n",
    "# points = list(map(int, sys.stdin.readline().split()[:preset[1]]))\n",
    "\n",
    "input_data = [[[0, 5], [7, 10]], [1, 6, 11]]\n",
    "vectors = input_data[0]\n",
    "points = input_data[1]\n",
    "res = quick_vector_sort(vectors, points)\n",
    "\n",
    "print(len(vectors), len(points))\n",
    "for vector in vectors:\n",
    "    print(' '.join(list(map(str, vector))))\n",
    "print(' '.join(list(map(str, points))))\n",
    "print()\n",
    "print(' '.join(list(map(str, res))))"
   ]
  },
  {
   "cell_type": "markdown",
   "metadata": {},
   "source": [
    "## Test quick sort"
   ]
  },
  {
   "cell_type": "code",
   "execution_count": 40,
   "metadata": {},
   "outputs": [],
   "source": [
    "import matplotlib.pyplot as plt"
   ]
  },
  {
   "cell_type": "code",
   "execution_count": 28,
   "metadata": {},
   "outputs": [],
   "source": [
    "def naive_answer(vectors, points):\n",
    "    res = []\n",
    "    for point in points:\n",
    "        n_entries = 0\n",
    "        for vector in vectors:\n",
    "            if point >= vector[0] and point <= vector[1]:\n",
    "                n_entries += 1\n",
    "        res.append(n_entries)\n",
    "    return res"
   ]
  },
  {
   "cell_type": "code",
   "execution_count": 30,
   "metadata": {},
   "outputs": [],
   "source": [
    "def generate_test_samples(l_border=0, r_border=100, n_vectors=50000, n_points=50000):\n",
    "    vectors = []\n",
    "    points = []\n",
    "    for _ in range(n_vectors):\n",
    "        x0 = random.randint(l_border, r_border)\n",
    "        x1 = random.randint(x0, r_border)\n",
    "        vectors.append([x0, x1])\n",
    "    \n",
    "    for _ in range(n_points):\n",
    "        point = random.randint(l_border, r_border)\n",
    "        points.append(point)\n",
    "    \n",
    "    return vectors, points"
   ]
  },
  {
   "cell_type": "code",
   "execution_count": 36,
   "metadata": {},
   "outputs": [],
   "source": [
    "def test_precision(naive_alg, target_alg, sample_pseudo_gen, pseudo_generator_kwargs):\n",
    "    test_samples = sample_pseudo_gen(**pseudo_generator_kwargs)\n",
    "    naive_answer = naive_alg(test_samples[0], test_samples[1])\n",
    "    target_answer = target_alg(test_samples[0], test_samples[1])\n",
    "    all_good = True\n",
    "    for i in range(len(test_samples[1])):\n",
    "        if naive_answer[i] != target_answer[i]:\n",
    "            all_good = False\n",
    "    return all_good, test_samples, naive_answer, target_answer"
   ]
  },
  {
   "cell_type": "code",
   "execution_count": 37,
   "metadata": {},
   "outputs": [],
   "source": [
    "pseudo_generator_kwargs = dict(\n",
    "            l_border=0,\n",
    "            r_border = 10,\n",
    "            n_vectors=5, \n",
    "            n_points=3        \n",
    "        )\n",
    "random.seed(0)\n",
    "for i in range(1000):\n",
    "    res = test_precision(naive_answer, quick_vector_sort, generate_test_samples, pseudo_generator_kwargs)\n",
    "    if res[0] == False:\n",
    "        print('faled test #', i)\n",
    "        print(res)\n",
    "        break\n"
   ]
  },
  {
   "cell_type": "code",
   "execution_count": 38,
   "metadata": {},
   "outputs": [],
   "source": [
    "def test_perfomance(alg, n_runs_to_esimate=1, input_max_size=20000):\n",
    "    estimated_time_log = []\n",
    "    inp_size_log = []\n",
    "    for input_size in range(10, input_max_size, 1000):\n",
    "        start_time = time.perf_counter()\n",
    "        for i in range(n_runs_to_esimate):\n",
    "            pseudo_generator_kwargs = dict(\n",
    "                l_border=0,\n",
    "                r_border = 10,\n",
    "                n_vectors=input_size, \n",
    "                n_points=input_size        \n",
    "            )\n",
    "            test_samples = generate_test_samples(**pseudo_generator_kwargs)\n",
    "            res = alg(test_samples[0], test_samples[1])\n",
    "        res_time = time.perf_counter() - start_time\n",
    "        estimated_time_log.append(res_time)\n",
    "        inp_size_log.append(input_size)\n",
    "    plt.plot(inp_size_log, estimated_time_log)"
   ]
  },
  {
   "cell_type": "code",
   "execution_count": 41,
   "metadata": {},
   "outputs": [
    {
     "data": {
      "image/png": "[encoded data removed]",
      "text/plain": [
       "<Figure size 432x288 with 1 Axes>"
      ]
     },
     "metadata": {
      "needs_background": "light"
     },
     "output_type": "display_data"
    }
   ],
   "source": [
    "random.seed(0)\n",
    "test_perfomance(quick_vector_sort)"
   ]
  },
  {
   "cell_type": "code",
   "execution_count": 42,
   "metadata": {},
   "outputs": [],
   "source": [
    "random.seed(0)\n",
    "pseudo_generator_kwargs = dict(\n",
    "                l_border=0,\n",
    "                r_border = 1000,\n",
    "                n_vectors=50000, \n",
    "                n_points=50000        \n",
    "            )\n",
    "test_samples = generate_test_samples(**pseudo_generator_kwargs)"
   ]
  },
  {
   "cell_type": "code",
   "execution_count": 43,
   "metadata": {},
   "outputs": [
    {
     "name": "stdout",
     "output_type": "stream",
     "text": [
      "CPU times: total: 62.5 ms\n",
      "Wall time: 65.8 ms\n"
     ]
    }
   ],
   "source": [
    "%%time\n",
    "res = quick_vector_sort(test_samples[0], test_samples[1])"
   ]
  },
  {
   "cell_type": "code",
   "execution_count": null,
   "metadata": {},
   "outputs": [],
   "source": []
  }
 ],
 "metadata": {
  "kernelspec": {
   "display_name": "Python 3.9.12 ('alg_env')",
   "language": "python",
   "name": "python3"
  },
  "language_info": {
   "codemirror_mode": {
    "name": "ipython",
    "version": 3
   },
   "file_extension": ".py",
   "mimetype": "text/x-python",
   "name": "python",
   "nbconvert_exporter": "python",
   "pygments_lexer": "ipython3",
   "version": "3.9.12"
  },
  "orig_nbformat": 4,
  "vscode": {
   "interpreter": {
    "hash": "31cea1469931c6410ea8093c7f3640ca5b79f3c79edb1ffb51202773f63cbd27"
   }
  }
 },
 "nbformat": 4,
 "nbformat_minor": 2
}
